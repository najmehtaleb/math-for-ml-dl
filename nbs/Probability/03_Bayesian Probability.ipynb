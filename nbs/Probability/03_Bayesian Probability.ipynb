{
 "cells": [
  {
   "cell_type": "markdown",
   "id": "14781fa6",
   "metadata": {},
   "source": [
    "# Bayesian Probability"
   ]
  },
  {
   "cell_type": "code",
   "execution_count": null,
   "id": "93530613",
   "metadata": {},
   "outputs": [],
   "source": []
  }
 ],
 "metadata": {
  "kernelspec": {
   "display_name": "Python 3 (ipykernel)",
   "language": "python",
   "name": "python3"
  }
 },
 "nbformat": 4,
 "nbformat_minor": 5
}
