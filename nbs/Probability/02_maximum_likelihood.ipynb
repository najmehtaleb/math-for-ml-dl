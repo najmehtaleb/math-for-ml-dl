{
 "cells": [
  {
   "cell_type": "markdown",
   "id": "77a18df2",
   "metadata": {},
   "source": [
    "# Maximum Likelihood"
   ]
  },
  {
   "cell_type": "markdown",
   "id": "ca1fe3ec",
   "metadata": {},
   "source": [
    "## Maximum Likelihood Estimation"
   ]
  },
  {
   "cell_type": "markdown",
   "id": "e2a16f38",
   "metadata": {},
   "source": [
    "### Problem of Probability Density Estimation"
   ]
  },
  {
   "cell_type": "markdown",
   "id": "5fa89979",
   "metadata": {},
   "source": [
    "### Maximum Likelihood Estimation"
   ]
  },
  {
   "cell_type": "markdown",
   "id": "3d8b6542",
   "metadata": {},
   "source": [
    "### Relationship to Machine Learning"
   ]
  },
  {
   "cell_type": "markdown",
   "id": "4f49573e",
   "metadata": {},
   "source": [
    "### Linear Regression as Maximum Likelihood"
   ]
  },
  {
   "cell_type": "markdown",
   "id": "ac79d482",
   "metadata": {},
   "source": [
    "### Least Squares and Maximum Likelihood"
   ]
  },
  {
   "cell_type": "markdown",
   "id": "2472b687",
   "metadata": {},
   "source": [
    "## Linear Regression With Maximum Likelihood Estimation"
   ]
  },
  {
   "cell_type": "markdown",
   "id": "b5d8cfa2",
   "metadata": {},
   "source": [
    "### Linear Regression as Maximum Likelihood"
   ]
  },
  {
   "cell_type": "markdown",
   "id": "fda004a1",
   "metadata": {},
   "source": [
    "### Least Squares and Maximum Likelihood"
   ]
  },
  {
   "cell_type": "markdown",
   "id": "4eeee972",
   "metadata": {},
   "source": [
    "## Logistic Regression With Maximum Likelihood Estimation"
   ]
  },
  {
   "cell_type": "markdown",
   "id": "461f737a",
   "metadata": {},
   "source": [
    "### Logistic Regression and Log-Odds"
   ]
  },
  {
   "cell_type": "code",
   "execution_count": null,
   "id": "7124bb99",
   "metadata": {},
   "outputs": [],
   "source": [
    "from math import log\n",
    "from math import exp"
   ]
  },
  {
   "cell_type": "code",
   "execution_count": null,
   "id": "238acb23",
   "metadata": {},
   "outputs": [],
   "source": [
    "prob = 0.8\n",
    "print(f'Probability is: {prob}')"
   ]
  },
  {
   "cell_type": "code",
   "execution_count": null,
   "id": "c958335e",
   "metadata": {},
   "outputs": [],
   "source": [
    "odds = prob / (1 - prob)\n",
    "print(f'Odds is: {odds: .1f}')"
   ]
  },
  {
   "cell_type": "code",
   "execution_count": null,
   "id": "ad3ffc03",
   "metadata": {},
   "outputs": [],
   "source": [
    "prob = odds/ (odds +1)\n",
    "print(f'Probability is: {prob}')"
   ]
  },
  {
   "cell_type": "code",
   "execution_count": null,
   "id": "0ad28398",
   "metadata": {},
   "outputs": [],
   "source": [
    "logodds = log(odds)\n",
    "print(f'Log-Odds is: {logodds: 0.2f}')"
   ]
  },
  {
   "cell_type": "code",
   "execution_count": null,
   "id": "76ab23d6",
   "metadata": {},
   "outputs": [],
   "source": [
    "prob = 1 / (1 + exp(-logodds))\n",
    "print(f'Probability is: {prob}')"
   ]
  },
  {
   "cell_type": "markdown",
   "id": "1da0732b",
   "metadata": {},
   "source": [
    "### Logistic Regression as Maximum Likelihood"
   ]
  },
  {
   "cell_type": "code",
   "execution_count": null,
   "id": "9c584262",
   "metadata": {},
   "outputs": [],
   "source": [
    "def likelihood(y, yhat):\n",
    "    return yhat*y + (1 - yhat)*(1 - y)"
   ]
  },
  {
   "cell_type": "code",
   "execution_count": null,
   "id": "4413be04",
   "metadata": {},
   "outputs": [],
   "source": [
    "y, yhat = 1, 0.9\n",
    "print(f'y={y}, yhat={yhat}, likelihood: {likelihood(y, yhat):.3f}')"
   ]
  },
  {
   "cell_type": "code",
   "execution_count": null,
   "id": "7775ea67",
   "metadata": {},
   "outputs": [],
   "source": [
    "y, yhat = 1, 0.1\n",
    "print(f'y={y}, yhat={yhat}, likelihood: {likelihood(y, yhat):.3f}')"
   ]
  },
  {
   "cell_type": "code",
   "execution_count": null,
   "id": "4765a622",
   "metadata": {},
   "outputs": [],
   "source": [
    "y, yhat = 0, 0.1\n",
    "print(f'y={y}, yhat={yhat}, likelihood: {likelihood(y, yhat):.3f}')"
   ]
  },
  {
   "cell_type": "code",
   "execution_count": null,
   "id": "e6b5e7fb",
   "metadata": {},
   "outputs": [],
   "source": [
    "y, yhat = 0, 0.9\n",
    "print(f'y={y}, yhat={yhat}, likelihood: {likelihood(y, yhat):.3f}')"
   ]
  },
  {
   "cell_type": "markdown",
   "id": "8817fbff",
   "metadata": {},
   "source": [
    "## Expectation Maximization (EM Algorithm)"
   ]
  },
  {
   "cell_type": "markdown",
   "id": "d906f0f1",
   "metadata": {},
   "source": [
    "### Expectation-Maximization Algorithm"
   ]
  },
  {
   "cell_type": "markdown",
   "id": "6c492388",
   "metadata": {},
   "source": [
    "### Gaussian Mixture Model and the EM Algorithm"
   ]
  },
  {
   "cell_type": "markdown",
   "id": "b3582839",
   "metadata": {},
   "source": [
    "### Example of Gaussian Mixture Model"
   ]
  },
  {
   "cell_type": "code",
   "execution_count": null,
   "id": "b5d39d89",
   "metadata": {},
   "outputs": [],
   "source": [
    "from numpy import hstack\n",
    "from numpy.random import normal\n",
    "from sklearn.mixture import GaussianMixture"
   ]
  },
  {
   "cell_type": "code",
   "execution_count": null,
   "id": "56c96805",
   "metadata": {},
   "outputs": [],
   "source": [
    "X1 = normal(loc=20, scale=5, size=3000)\n",
    "X2 = normal(loc=40, scale=5, size=7000)"
   ]
  },
  {
   "cell_type": "code",
   "execution_count": null,
   "id": "0941a0b0",
   "metadata": {},
   "outputs": [],
   "source": [
    "X = hstack((X1, X2))\n",
    "X = X.reshape(len(X), 1)"
   ]
  },
  {
   "cell_type": "code",
   "execution_count": null,
   "id": "4aa4de38",
   "metadata": {},
   "outputs": [
    {
     "data": {
      "text/html": [
       "<style>#sk-container-id-3 {color: black;background-color: white;}#sk-container-id-3 pre{padding: 0;}#sk-container-id-3 div.sk-toggleable {background-color: white;}#sk-container-id-3 label.sk-toggleable__label {cursor: pointer;display: block;width: 100%;margin-bottom: 0;padding: 0.3em;box-sizing: border-box;text-align: center;}#sk-container-id-3 label.sk-toggleable__label-arrow:before {content: \"▸\";float: left;margin-right: 0.25em;color: #696969;}#sk-container-id-3 label.sk-toggleable__label-arrow:hover:before {color: black;}#sk-container-id-3 div.sk-estimator:hover label.sk-toggleable__label-arrow:before {color: black;}#sk-container-id-3 div.sk-toggleable__content {max-height: 0;max-width: 0;overflow: hidden;text-align: left;background-color: #f0f8ff;}#sk-container-id-3 div.sk-toggleable__content pre {margin: 0.2em;color: black;border-radius: 0.25em;background-color: #f0f8ff;}#sk-container-id-3 input.sk-toggleable__control:checked~div.sk-toggleable__content {max-height: 200px;max-width: 100%;overflow: auto;}#sk-container-id-3 input.sk-toggleable__control:checked~label.sk-toggleable__label-arrow:before {content: \"▾\";}#sk-container-id-3 div.sk-estimator input.sk-toggleable__control:checked~label.sk-toggleable__label {background-color: #d4ebff;}#sk-container-id-3 div.sk-label input.sk-toggleable__control:checked~label.sk-toggleable__label {background-color: #d4ebff;}#sk-container-id-3 input.sk-hidden--visually {border: 0;clip: rect(1px 1px 1px 1px);clip: rect(1px, 1px, 1px, 1px);height: 1px;margin: -1px;overflow: hidden;padding: 0;position: absolute;width: 1px;}#sk-container-id-3 div.sk-estimator {font-family: monospace;background-color: #f0f8ff;border: 1px dotted black;border-radius: 0.25em;box-sizing: border-box;margin-bottom: 0.5em;}#sk-container-id-3 div.sk-estimator:hover {background-color: #d4ebff;}#sk-container-id-3 div.sk-parallel-item::after {content: \"\";width: 100%;border-bottom: 1px solid gray;flex-grow: 1;}#sk-container-id-3 div.sk-label:hover label.sk-toggleable__label {background-color: #d4ebff;}#sk-container-id-3 div.sk-serial::before {content: \"\";position: absolute;border-left: 1px solid gray;box-sizing: border-box;top: 0;bottom: 0;left: 50%;z-index: 0;}#sk-container-id-3 div.sk-serial {display: flex;flex-direction: column;align-items: center;background-color: white;padding-right: 0.2em;padding-left: 0.2em;position: relative;}#sk-container-id-3 div.sk-item {position: relative;z-index: 1;}#sk-container-id-3 div.sk-parallel {display: flex;align-items: stretch;justify-content: center;background-color: white;position: relative;}#sk-container-id-3 div.sk-item::before, #sk-container-id-3 div.sk-parallel-item::before {content: \"\";position: absolute;border-left: 1px solid gray;box-sizing: border-box;top: 0;bottom: 0;left: 50%;z-index: -1;}#sk-container-id-3 div.sk-parallel-item {display: flex;flex-direction: column;z-index: 1;position: relative;background-color: white;}#sk-container-id-3 div.sk-parallel-item:first-child::after {align-self: flex-end;width: 50%;}#sk-container-id-3 div.sk-parallel-item:last-child::after {align-self: flex-start;width: 50%;}#sk-container-id-3 div.sk-parallel-item:only-child::after {width: 0;}#sk-container-id-3 div.sk-dashed-wrapped {border: 1px dashed gray;margin: 0 0.4em 0.5em 0.4em;box-sizing: border-box;padding-bottom: 0.4em;background-color: white;}#sk-container-id-3 div.sk-label label {font-family: monospace;font-weight: bold;display: inline-block;line-height: 1.2em;}#sk-container-id-3 div.sk-label-container {text-align: center;}#sk-container-id-3 div.sk-container {/* jupyter's `normalize.less` sets `[hidden] { display: none; }` but bootstrap.min.css set `[hidden] { display: none !important; }` so we also need the `!important` here to be able to override the default hidden behavior on the sphinx rendered scikit-learn.org. See: https://github.com/scikit-learn/scikit-learn/issues/21755 */display: inline-block !important;position: relative;}#sk-container-id-3 div.sk-text-repr-fallback {display: none;}</style><div id=\"sk-container-id-3\" class=\"sk-top-container\"><div class=\"sk-text-repr-fallback\"><pre>GaussianMixture(init_params=&#x27;random&#x27;, n_components=2)</pre><b>In a Jupyter environment, please rerun this cell to show the HTML representation or trust the notebook. <br />On GitHub, the HTML representation is unable to render, please try loading this page with nbviewer.org.</b></div><div class=\"sk-container\" hidden><div class=\"sk-item\"><div class=\"sk-estimator sk-toggleable\"><input class=\"sk-toggleable__control sk-hidden--visually\" id=\"sk-estimator-id-3\" type=\"checkbox\" checked><label for=\"sk-estimator-id-3\" class=\"sk-toggleable__label sk-toggleable__label-arrow\">GaussianMixture</label><div class=\"sk-toggleable__content\"><pre>GaussianMixture(init_params=&#x27;random&#x27;, n_components=2)</pre></div></div></div></div></div>"
      ],
      "text/plain": [
       "GaussianMixture(init_params='random', n_components=2)"
      ]
     },
     "execution_count": null,
     "metadata": {},
     "output_type": "execute_result"
    }
   ],
   "source": [
    "model = GaussianMixture(n_components=2, init_params='random')\n",
    "model.fit(X)"
   ]
  },
  {
   "cell_type": "code",
   "execution_count": null,
   "id": "7349a68b",
   "metadata": {},
   "outputs": [],
   "source": [
    "yhat = model.predict(X)"
   ]
  },
  {
   "cell_type": "code",
   "execution_count": null,
   "id": "f7944e3c",
   "metadata": {},
   "outputs": [
    {
     "name": "stdout",
     "output_type": "stream",
     "text": [
      "[0 1 1 0 0 0 0 0 0 0 1 0 0 0 0 0 0 0 0 0 0 1 0 1 0 0 0 0 0 1 0 0 0 0 0 0 0\n",
      " 1 0 0 0 0 0 0 0 0 0 0 0 0 0 1 0 0 0 0 0 0 0 0 0 0 0 0 0 0 0 0 0 0 0 1 0 0\n",
      " 0 0 0 0 0 0 0 1 0 0 0 0 0 0 0 0 0 0 0 0 0 0 0 1 0 0]\n"
     ]
    }
   ],
   "source": [
    "print(yhat[:100])"
   ]
  },
  {
   "cell_type": "code",
   "execution_count": null,
   "id": "cb32339b",
   "metadata": {},
   "outputs": [
    {
     "name": "stdout",
     "output_type": "stream",
     "text": [
      "[0 0 0 0 0 0 0 0 0 0 0 0 0 0 0 0 0 0 0 0 0 0 0 0 0 0 0 0 0 0 0 0 0 0 0 0 0\n",
      " 0 0 0 0 0 0 0 0 0 0 0 0 0 0 0 0 0 0 0 0 0 0 0 0 0 0 0 0 0 0 0 0 0 0 0 0 0\n",
      " 0 0 0 0 0 0 0 0 0 0 0 0 0 0 0 0 0 0 0 0 0 0 0 0 0 0]\n"
     ]
    }
   ],
   "source": [
    "print(yhat[-100:])"
   ]
  },
  {
   "cell_type": "markdown",
   "id": "fea46fea",
   "metadata": {},
   "source": [
    "## Probabilistic Model Selection with AIC, BIC, and MDL"
   ]
  },
  {
   "cell_type": "code",
   "execution_count": null,
   "id": "51d9c3ee",
   "metadata": {},
   "outputs": [],
   "source": []
  },
  {
   "cell_type": "code",
   "execution_count": null,
   "id": "a1d740f1",
   "metadata": {},
   "outputs": [],
   "source": []
  },
  {
   "cell_type": "code",
   "execution_count": null,
   "id": "15890aa4",
   "metadata": {},
   "outputs": [],
   "source": []
  },
  {
   "cell_type": "code",
   "execution_count": null,
   "id": "00caef43",
   "metadata": {},
   "outputs": [],
   "source": []
  },
  {
   "cell_type": "code",
   "execution_count": null,
   "id": "a8b60720",
   "metadata": {},
   "outputs": [],
   "source": []
  },
  {
   "cell_type": "code",
   "execution_count": null,
   "id": "235c54e8",
   "metadata": {},
   "outputs": [],
   "source": []
  },
  {
   "cell_type": "code",
   "execution_count": null,
   "id": "5f8e1ad3",
   "metadata": {},
   "outputs": [],
   "source": []
  },
  {
   "cell_type": "code",
   "execution_count": null,
   "id": "f3e794ec",
   "metadata": {},
   "outputs": [],
   "source": []
  },
  {
   "cell_type": "code",
   "execution_count": null,
   "id": "c4c4cfe3",
   "metadata": {},
   "outputs": [],
   "source": []
  },
  {
   "cell_type": "code",
   "execution_count": null,
   "id": "dbc2fb54",
   "metadata": {},
   "outputs": [],
   "source": []
  }
 ],
 "metadata": {
  "kernelspec": {
   "display_name": "Python 3 (ipykernel)",
   "language": "python",
   "name": "python3"
  }
 },
 "nbformat": 4,
 "nbformat_minor": 5
}
