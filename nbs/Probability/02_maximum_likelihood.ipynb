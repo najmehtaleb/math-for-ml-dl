{
 "cells": [
  {
   "cell_type": "markdown",
   "id": "6e287e1f",
   "metadata": {},
   "source": [
    "# Maximum Likelihood"
   ]
  },
  {
   "cell_type": "markdown",
   "id": "ca1fe3ec",
   "metadata": {},
   "source": [
    "## Maximum Likelihood Estimation"
   ]
  },
  {
   "cell_type": "markdown",
   "id": "e2a16f38",
   "metadata": {},
   "source": [
    "### Problem of Probability Density Estimation"
   ]
  },
  {
   "cell_type": "markdown",
   "id": "5fa89979",
   "metadata": {},
   "source": [
    "### Maximum Likelihood Estimation"
   ]
  },
  {
   "cell_type": "markdown",
   "id": "3d8b6542",
   "metadata": {},
   "source": [
    "### Relationship to Machine Learning"
   ]
  },
  {
   "cell_type": "markdown",
   "id": "2472b687",
   "metadata": {},
   "source": [
    "## Linear Regression With Maximum Likelihood Estimation"
   ]
  },
  {
   "cell_type": "markdown",
   "id": "4f49573e",
   "metadata": {},
   "source": [
    "### Linear Regression as Maximum Likelihood"
   ]
  },
  {
   "cell_type": "markdown",
   "id": "ac79d482",
   "metadata": {},
   "source": [
    "### Least Squares and Maximum Likelihood"
   ]
  },
  {
   "cell_type": "markdown",
   "id": "4eeee972",
   "metadata": {},
   "source": [
    "## Logistic Regression With Maximum Likelihood Estimation"
   ]
  },
  {
   "cell_type": "markdown",
   "id": "461f737a",
   "metadata": {},
   "source": [
    "### Logistic Regression and Log-Odds"
   ]
  },
  {
   "cell_type": "markdown",
   "id": "1da0732b",
   "metadata": {},
   "source": [
    "### Maximum Likelihood Estimation"
   ]
  },
  {
   "cell_type": "markdown",
   "id": "f26bc2c8",
   "metadata": {},
   "source": [
    "### Logistic Regression as Maximum Likelihood"
   ]
  },
  {
   "cell_type": "markdown",
   "id": "8817fbff",
   "metadata": {},
   "source": [
    "## Expectation Maximization (EM Algorithm)"
   ]
  },
  {
   "cell_type": "markdown",
   "id": "fea46fea",
   "metadata": {},
   "source": [
    "## Probabilistic Model Selection with AIC, BIC, and MDL"
   ]
  },
  {
   "cell_type": "code",
   "execution_count": null,
   "id": "51d9c3ee",
   "metadata": {},
   "outputs": [],
   "source": []
  }
 ],
 "metadata": {
  "kernelspec": {
   "display_name": "Python 3 (ipykernel)",
   "language": "python",
   "name": "python3"
  }
 },
 "nbformat": 4,
 "nbformat_minor": 5
}
