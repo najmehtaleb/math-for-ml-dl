{
 "cells": [
  {
   "cell_type": "markdown",
   "id": "a62eccef",
   "metadata": {},
   "source": [
    "# Probability Distributions"
   ]
  },
  {
   "cell_type": "markdown",
   "id": "29622155",
   "metadata": {},
   "source": [
    "## Discrete Probability Distributions"
   ]
  },
  {
   "cell_type": "markdown",
   "id": "595e73a4",
   "metadata": {},
   "source": [
    "### Bernoulli Distribution"
   ]
  },
  {
   "cell_type": "markdown",
   "id": "9f7d9eb9",
   "metadata": {},
   "source": [
    "### Binomial Distribution"
   ]
  },
  {
   "cell_type": "markdown",
   "id": "00ba1f8f",
   "metadata": {},
   "source": [
    "The repetition of multiple independent Bernoulli trials is called a Bernoulli process. The\n",
    "outcomes of a Bernoulli process will follow a Binomial distribution. As such, the Bernoulli\n",
    "distribution would be a Binomial distribution with a single trial."
   ]
  },
  {
   "cell_type": "code",
   "execution_count": null,
   "id": "a1407260",
   "metadata": {},
   "outputs": [],
   "source": [
    "from numpy.random import binomial\n",
    "from scipy.stats import binom"
   ]
  },
  {
   "cell_type": "code",
   "execution_count": null,
   "id": "b2212bb5",
   "metadata": {},
   "outputs": [],
   "source": [
    "n = 100\n",
    "p = 0.3"
   ]
  },
  {
   "cell_type": "code",
   "execution_count": null,
   "id": "16093f7b",
   "metadata": {},
   "outputs": [
    {
     "name": "stdout",
     "output_type": "stream",
     "text": [
      "Total Success is: 32\n"
     ]
    }
   ],
   "source": [
    "success = binomial(n, p)\n",
    "print(f'Total Success is: {success}')"
   ]
  },
  {
   "cell_type": "code",
   "execution_count": null,
   "id": "d2497087",
   "metadata": {},
   "outputs": [
    {
     "name": "stdout",
     "output_type": "stream",
     "text": [
      "Mean=30.0, Variance=21.0\n"
     ]
    }
   ],
   "source": [
    "mean, var,_,_ = binom.stats(n, p, moments='mvsk')\n",
    "print(f'Mean={mean}, Variance={var}')"
   ]
  },
  {
   "cell_type": "code",
   "execution_count": null,
   "id": "65ddfa02",
   "metadata": {},
   "outputs": [
    {
     "name": "stdout",
     "output_type": "stream",
     "text": [
      "Probability of 10 success is: 0.000%\n",
      "Probability of 20 success is: 0.758%\n",
      "Probability of 30 success is: 8.678%\n",
      "Probability of 40 success is: 0.849%\n",
      "Probability of 50 success is: 0.001%\n",
      "Probability of 60 success is: 0.000%\n",
      "Probability of 70 success is: 0.000%\n",
      "Probability of 80 success is: 0.000%\n",
      "Probability of 90 success is: 0.000%\n",
      "Probability of 100 success is: 0.000%\n"
     ]
    }
   ],
   "source": [
    "dist = binom(n, p)\n",
    "for n in range(10, 110, 10):\n",
    "    print(f'Probability of {n} success is: {dist.pmf(n)*100 :0.3f}%')"
   ]
  },
  {
   "cell_type": "code",
   "execution_count": null,
   "id": "e4e737d9",
   "metadata": {},
   "outputs": [],
   "source": []
  },
  {
   "cell_type": "markdown",
   "id": "30dcdc33",
   "metadata": {},
   "source": [
    "### Multinoulli Distribution"
   ]
  },
  {
   "cell_type": "markdown",
   "id": "f5d3437c",
   "metadata": {},
   "source": [
    "### Multinomial Distribution"
   ]
  },
  {
   "cell_type": "markdown",
   "id": "8d9d8b22",
   "metadata": {},
   "source": [
    "## Continuous Probability Distributions"
   ]
  },
  {
   "cell_type": "markdown",
   "id": "cd98a872",
   "metadata": {},
   "source": [
    "### Normal Distribution"
   ]
  },
  {
   "cell_type": "markdown",
   "id": "415830f1",
   "metadata": {},
   "source": [
    "### Exponential Distribution"
   ]
  },
  {
   "cell_type": "markdown",
   "id": "001d18c0",
   "metadata": {},
   "source": [
    "### Pareto Distribution"
   ]
  },
  {
   "cell_type": "markdown",
   "id": "638ed11e",
   "metadata": {},
   "source": [
    "## Probability Density Estimation"
   ]
  },
  {
   "cell_type": "markdown",
   "id": "2a9793df",
   "metadata": {},
   "source": [
    "### Summarize Density With a Histogram"
   ]
  },
  {
   "cell_type": "markdown",
   "id": "5802436e",
   "metadata": {},
   "source": [
    "### Parametric Density Estimation"
   ]
  },
  {
   "cell_type": "markdown",
   "id": "e64d35be",
   "metadata": {},
   "source": [
    "### Nonparametric Density Estimation"
   ]
  },
  {
   "cell_type": "code",
   "execution_count": null,
   "id": "d478a456",
   "metadata": {},
   "outputs": [],
   "source": []
  }
 ],
 "metadata": {
  "kernelspec": {
   "display_name": "Python 3 (ipykernel)",
   "language": "python",
   "name": "python3"
  }
 },
 "nbformat": 4,
 "nbformat_minor": 5
}
