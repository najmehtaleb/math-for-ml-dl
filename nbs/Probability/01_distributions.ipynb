{
 "cells": [
  {
   "cell_type": "markdown",
   "id": "a62eccef",
   "metadata": {},
   "source": [
    "# Probability Distributions"
   ]
  },
  {
   "cell_type": "markdown",
   "id": "067f7ab1",
   "metadata": {},
   "source": [
    "## Discrete Probability Distributions"
   ]
  },
  {
   "cell_type": "markdown",
   "id": "074495c4",
   "metadata": {},
   "source": [
    "### Bernoulli Distribution"
   ]
  },
  {
   "cell_type": "markdown",
   "id": "a7d630e6",
   "metadata": {},
   "source": [
    "### Binomial Distribution"
   ]
  },
  {
   "cell_type": "markdown",
   "id": "fb6a309d",
   "metadata": {},
   "source": [
    "The repetition of multiple independent Bernoulli trials is called a Bernoulli process. The\n",
    "outcomes of a Bernoulli process will follow a Binomial distribution. As such, the Bernoulli\n",
    "distribution would be a Binomial distribution with a single trial."
   ]
  },
  {
   "cell_type": "code",
   "execution_count": null,
   "id": "423fe872",
   "metadata": {},
   "outputs": [],
   "source": [
    "from numpy.random import binomial\n",
    "from scipy.stats import binom"
   ]
  },
  {
   "cell_type": "code",
   "execution_count": null,
   "id": "64c22cfe",
   "metadata": {},
   "outputs": [],
   "source": [
    "p = 0.3\n",
    "n = 100"
   ]
  },
  {
   "cell_type": "code",
   "execution_count": null,
   "id": "5b77c159",
   "metadata": {},
   "outputs": [],
   "source": [
    "success = binomial(n, p)\n",
    "print(f'Total Success is: {success}')"
   ]
  },
  {
   "cell_type": "code",
   "execution_count": null,
   "id": "33b22421",
   "metadata": {},
   "outputs": [],
   "source": [
    "mean, var,_,_ = binom.stats(n, p, moments='mvsk')\n",
    "print(f'Mean={mean}, Variance={var}')"
   ]
  },
  {
   "cell_type": "code",
   "execution_count": null,
   "id": "48ca1e7d",
   "metadata": {},
   "outputs": [],
   "source": [
    "dist = binom(n, p)"
   ]
  },
  {
   "cell_type": "code",
   "execution_count": null,
   "id": "c0633cd4",
   "metadata": {},
   "outputs": [],
   "source": [
    "for n in range(10, 110, 10):\n",
    "    print(f'Probability of {n} success is: {dist.pmf(n)*100 :0.3f}%')"
   ]
  },
  {
   "cell_type": "code",
   "execution_count": null,
   "id": "a67d28eb",
   "metadata": {},
   "outputs": [],
   "source": [
    "for n in range(10, 110, 10):\n",
    "    print(f'Probbaility of less than {n} success is: {dist.cdf(n)*100:0.3f}%')"
   ]
  },
  {
   "cell_type": "markdown",
   "id": "1da6e5f7",
   "metadata": {},
   "source": [
    "### Multinoulli Distribution"
   ]
  },
  {
   "cell_type": "markdown",
   "id": "847c6b27",
   "metadata": {},
   "source": [
    "The Multinoulli distribution, also called the categorical distribution, covers the case where an\n",
    "event will have one of K possible outcomes."
   ]
  },
  {
   "cell_type": "code",
   "execution_count": null,
   "id": "ca9ac126",
   "metadata": {},
   "outputs": [],
   "source": [
    "from numpy.random import multinomial"
   ]
  },
  {
   "cell_type": "code",
   "execution_count": null,
   "id": "ec24d095",
   "metadata": {},
   "outputs": [],
   "source": [
    "p = [1.0/3.0, 1.0/3.0, 1.0/3.0]\n",
    "k = 100"
   ]
  },
  {
   "cell_type": "code",
   "execution_count": null,
   "id": "637a991c",
   "metadata": {},
   "outputs": [],
   "source": [
    "dist = multinomial(k, p)"
   ]
  },
  {
   "cell_type": "code",
   "execution_count": null,
   "id": "eb5161f3",
   "metadata": {},
   "outputs": [],
   "source": [
    "dist"
   ]
  },
  {
   "cell_type": "code",
   "execution_count": null,
   "id": "739ee670",
   "metadata": {},
   "outputs": [],
   "source": [
    "for i in range(len(dist)):\n",
    "    print(f'Case {i+1}: {dist[i]}')"
   ]
  },
  {
   "cell_type": "code",
   "execution_count": null,
   "id": "49afb824",
   "metadata": {},
   "outputs": [],
   "source": [
    "#prob = dist.pmf([33, 33, 34])"
   ]
  },
  {
   "cell_type": "markdown",
   "id": "5ad2609c",
   "metadata": {},
   "source": [
    "## Continuous Probability Distributions"
   ]
  },
  {
   "cell_type": "markdown",
   "id": "6889f305",
   "metadata": {},
   "source": [
    "### Normal Distribution"
   ]
  },
  {
   "cell_type": "code",
   "execution_count": null,
   "id": "ca3c03d5",
   "metadata": {},
   "outputs": [],
   "source": [
    "from numpy.random import normal\n",
    "from scipy.stats import norm\n",
    "from matplotlib import pyplot"
   ]
  },
  {
   "cell_type": "code",
   "execution_count": null,
   "id": "ec5c1d16",
   "metadata": {},
   "outputs": [],
   "source": [
    "mu = 50\n",
    "sigma = 5"
   ]
  },
  {
   "cell_type": "code",
   "execution_count": null,
   "id": "7d34bac0",
   "metadata": {},
   "outputs": [],
   "source": [
    "samples = normal(mu, sigma, size=10)\n",
    "print(samples)"
   ]
  },
  {
   "cell_type": "code",
   "execution_count": null,
   "id": "3fd479ce",
   "metadata": {},
   "outputs": [],
   "source": [
    "dist = norm(mu, sigma)"
   ]
  },
  {
   "cell_type": "code",
   "execution_count": null,
   "id": "0ee110cf",
   "metadata": {},
   "outputs": [],
   "source": [
    "values = [value for value in range(30, 70)]"
   ]
  },
  {
   "cell_type": "code",
   "execution_count": null,
   "id": "1abedb47",
   "metadata": {},
   "outputs": [],
   "source": [
    "probabilities = [dist.pdf(value) for value in values]\n",
    "pyplot.plot(values, probabilities)\n",
    "pyplot.show()"
   ]
  },
  {
   "cell_type": "code",
   "execution_count": null,
   "id": "3ec61042",
   "metadata": {},
   "outputs": [],
   "source": [
    "cprobs = [dist.cdf(value) for value in values]\n",
    "pyplot.plot(values, cprobs)\n",
    "pyplot.show()"
   ]
  },
  {
   "cell_type": "code",
   "execution_count": null,
   "id": "6aa519a0",
   "metadata": {},
   "outputs": [],
   "source": [
    "low_end = dist.ppf(0.025)\n",
    "high_end = dist.ppf(0.975)\n",
    "print(f'Middle 95% between {low_end: 0.1f} and {high_end: 0.1f}')"
   ]
  },
  {
   "cell_type": "markdown",
   "id": "2d876f6a",
   "metadata": {},
   "source": [
    "### Exponential Distribution"
   ]
  },
  {
   "cell_type": "code",
   "execution_count": null,
   "id": "32c34006",
   "metadata": {},
   "outputs": [],
   "source": [
    "from numpy.random import exponential\n",
    "from scipy.stats import expon\n",
    "from matplotlib import pyplot"
   ]
  },
  {
   "cell_type": "code",
   "execution_count": null,
   "id": "c1ac05da",
   "metadata": {},
   "outputs": [],
   "source": [
    "beta = 50\n",
    "n = 10"
   ]
  },
  {
   "cell_type": "code",
   "execution_count": null,
   "id": "0b9410e2",
   "metadata": {},
   "outputs": [],
   "source": [
    "samples = exponential(beta, n)\n",
    "print(samples)"
   ]
  },
  {
   "cell_type": "code",
   "execution_count": null,
   "id": "9cb825fc",
   "metadata": {},
   "outputs": [],
   "source": [
    "dist = expon(beta)"
   ]
  },
  {
   "cell_type": "code",
   "execution_count": null,
   "id": "8a50cc52",
   "metadata": {},
   "outputs": [],
   "source": [
    "values = [value for value in range(50, 70)]"
   ]
  },
  {
   "cell_type": "code",
   "execution_count": null,
   "id": "1a8d9cff",
   "metadata": {},
   "outputs": [],
   "source": [
    "probabilities = [dist.pdf(value) for value in values]\n",
    "pyplot.plot(values, probabilities)\n",
    "pyplot.show()"
   ]
  },
  {
   "cell_type": "code",
   "execution_count": null,
   "id": "35112121",
   "metadata": {},
   "outputs": [],
   "source": [
    "cprobs = [dist.cdf(value) for value in values]\n",
    "pyplot.plot(values, cprobs)\n",
    "pyplot.show()"
   ]
  },
  {
   "cell_type": "markdown",
   "id": "dc66ecfe",
   "metadata": {},
   "source": [
    "### Pareto Distribution"
   ]
  },
  {
   "cell_type": "code",
   "execution_count": null,
   "id": "667cb907",
   "metadata": {},
   "outputs": [],
   "source": [
    "from numpy.random import pareto"
   ]
  },
  {
   "cell_type": "code",
   "execution_count": null,
   "id": "727bb64c",
   "metadata": {},
   "outputs": [],
   "source": [
    "alpha = 1.1\n",
    "n = 10 "
   ]
  },
  {
   "cell_type": "code",
   "execution_count": null,
   "id": "fffd7b42",
   "metadata": {},
   "outputs": [],
   "source": [
    "samples = pareto(alpha, n)\n",
    "print(samples)"
   ]
  },
  {
   "cell_type": "code",
   "execution_count": null,
   "id": "76d9a893",
   "metadata": {},
   "outputs": [],
   "source": [
    "from scipy.stats import pareto\n",
    "dist = pareto(alpha)"
   ]
  },
  {
   "cell_type": "code",
   "execution_count": null,
   "id": "ad86ff46",
   "metadata": {},
   "outputs": [],
   "source": [
    "values  = [value/10.0 for value in range(10, 100)]\n",
    "probabilities = [dist.pdf(value) for value in values]"
   ]
  },
  {
   "cell_type": "code",
   "execution_count": null,
   "id": "99cf2ee9",
   "metadata": {},
   "outputs": [],
   "source": [
    "pyplot.plot(values, probabilities)\n",
    "pyplot.show()"
   ]
  },
  {
   "cell_type": "code",
   "execution_count": null,
   "id": "d5794ff6",
   "metadata": {},
   "outputs": [],
   "source": [
    "cprobs = [dist.cdf(value) for value in values]\n",
    "pyplot.plot(values, cprobs)\n",
    "pyplot.show()"
   ]
  },
  {
   "cell_type": "markdown",
   "id": "296d5a98",
   "metadata": {},
   "source": [
    "## Probability Density Estimation"
   ]
  },
  {
   "cell_type": "markdown",
   "id": "9d57d984",
   "metadata": {},
   "source": [
    "### Summarize Density With a Histogram"
   ]
  },
  {
   "cell_type": "code",
   "execution_count": null,
   "id": "0085b77a",
   "metadata": {},
   "outputs": [],
   "source": [
    "from numpy.random import normal\n",
    "from matplotlib import pyplot"
   ]
  },
  {
   "cell_type": "code",
   "execution_count": null,
   "id": "375328fd",
   "metadata": {},
   "outputs": [],
   "source": [
    "samples = normal(size=100)"
   ]
  },
  {
   "cell_type": "code",
   "execution_count": null,
   "id": "82aba4c9",
   "metadata": {},
   "outputs": [],
   "source": [
    "pyplot.hist(samples, bins=10)\n",
    "pyplot.show()"
   ]
  },
  {
   "cell_type": "markdown",
   "id": "bb5b0253",
   "metadata": {},
   "source": [
    "### Parametric Density Estimation"
   ]
  },
  {
   "cell_type": "code",
   "execution_count": null,
   "id": "34a2a185",
   "metadata": {},
   "outputs": [],
   "source": [
    "from matplotlib import pyplot\n",
    "from numpy import mean, std\n",
    "from numpy.random import normal\n",
    "from scipy.stats import norm"
   ]
  },
  {
   "cell_type": "code",
   "execution_count": null,
   "id": "802b207c",
   "metadata": {},
   "outputs": [],
   "source": [
    "samples = normal(loc=50, scale=5, size=1000)\n",
    "sample_mean = mean(samples)\n",
    "sample_std = std(samples)"
   ]
  },
  {
   "cell_type": "code",
   "execution_count": null,
   "id": "66530010",
   "metadata": {},
   "outputs": [
    {
     "name": "stdout",
     "output_type": "stream",
     "text": [
      "Mean= 50.358, Standard Deviation= 5.188\n"
     ]
    }
   ],
   "source": [
    "print(f'Mean= {sample_mean:0.3f}, Standard Deviation= {sample_std:.3f}')"
   ]
  },
  {
   "cell_type": "code",
   "execution_count": null,
   "id": "f31d0a9b",
   "metadata": {},
   "outputs": [],
   "source": [
    "dist = norm(sample_mean, sample_std)"
   ]
  },
  {
   "cell_type": "code",
   "execution_count": null,
   "id": "d39900b8",
   "metadata": {},
   "outputs": [],
   "source": [
    "values = [value for value in range(30, 70)]\n",
    "probabilities = [dist.pdf(value) for value in values]"
   ]
  },
  {
   "cell_type": "code",
   "execution_count": null,
   "id": "a50999a5",
   "metadata": {},
   "outputs": [
    {
     "data": {
      "image/png": "[encoded data removed]",
      "text/plain": [
       "<Figure size 640x480 with 1 Axes>"
      ]
     },
     "metadata": {},
     "output_type": "display_data"
    }
   ],
   "source": [
    "pyplot.hist(samples, bins=10, density=True)\n",
    "pyplot.plot(values, probabilities)\n",
    "pyplot.show()"
   ]
  },
  {
   "cell_type": "markdown",
   "id": "8cb3c8bd",
   "metadata": {},
   "source": [
    "### Nonparametric Density Estimation"
   ]
  },
  {
   "cell_type": "code",
   "execution_count": null,
   "id": "5910d213",
   "metadata": {},
   "outputs": [],
   "source": [
    "from matplotlib import pyplot\n",
    "from numpy.random import normal\n",
    "from numpy import hstack, asarray, exp\n",
    "from sklearn.neighbors import KernelDensity"
   ]
  },
  {
   "cell_type": "code",
   "execution_count": null,
   "id": "c63a7df4",
   "metadata": {},
   "outputs": [
    {
     "data": {
      "text/plain": [
       "(1000,)"
      ]
     },
     "execution_count": null,
     "metadata": {},
     "output_type": "execute_result"
    }
   ],
   "source": [
    "samples1 = normal(loc=20, scale=5, size=300)\n",
    "samples2 = normal(loc=40, scale=5, size=700)\n",
    "samples = hstack((samples1, samples2))\n",
    "samples.shape"
   ]
  },
  {
   "cell_type": "code",
   "execution_count": null,
   "id": "342d5bb4",
   "metadata": {},
   "outputs": [
    {
     "data": {
      "text/plain": [
       "(1000, 1)"
      ]
     },
     "execution_count": null,
     "metadata": {},
     "output_type": "execute_result"
    }
   ],
   "source": [
    "samples = samples.reshape(len(samples), 1)\n",
    "samples.shape"
   ]
  },
  {
   "cell_type": "code",
   "execution_count": null,
   "id": "079bc6f2",
   "metadata": {},
   "outputs": [],
   "source": [
    "model = KernelDensity(bandwidth=2, kernel='gaussian')"
   ]
  },
  {
   "cell_type": "code",
   "execution_count": null,
   "id": "092851d5",
   "metadata": {},
   "outputs": [
    {
     "data": {
      "text/html": [
       "<style>#sk-container-id-1 {color: black;background-color: white;}#sk-container-id-1 pre{padding: 0;}#sk-container-id-1 div.sk-toggleable {background-color: white;}#sk-container-id-1 label.sk-toggleable__label {cursor: pointer;display: block;width: 100%;margin-bottom: 0;padding: 0.3em;box-sizing: border-box;text-align: center;}#sk-container-id-1 label.sk-toggleable__label-arrow:before {content: \"▸\";float: left;margin-right: 0.25em;color: #696969;}#sk-container-id-1 label.sk-toggleable__label-arrow:hover:before {color: black;}#sk-container-id-1 div.sk-estimator:hover label.sk-toggleable__label-arrow:before {color: black;}#sk-container-id-1 div.sk-toggleable__content {max-height: 0;max-width: 0;overflow: hidden;text-align: left;background-color: #f0f8ff;}#sk-container-id-1 div.sk-toggleable__content pre {margin: 0.2em;color: black;border-radius: 0.25em;background-color: #f0f8ff;}#sk-container-id-1 input.sk-toggleable__control:checked~div.sk-toggleable__content {max-height: 200px;max-width: 100%;overflow: auto;}#sk-container-id-1 input.sk-toggleable__control:checked~label.sk-toggleable__label-arrow:before {content: \"▾\";}#sk-container-id-1 div.sk-estimator input.sk-toggleable__control:checked~label.sk-toggleable__label {background-color: #d4ebff;}#sk-container-id-1 div.sk-label input.sk-toggleable__control:checked~label.sk-toggleable__label {background-color: #d4ebff;}#sk-container-id-1 input.sk-hidden--visually {border: 0;clip: rect(1px 1px 1px 1px);clip: rect(1px, 1px, 1px, 1px);height: 1px;margin: -1px;overflow: hidden;padding: 0;position: absolute;width: 1px;}#sk-container-id-1 div.sk-estimator {font-family: monospace;background-color: #f0f8ff;border: 1px dotted black;border-radius: 0.25em;box-sizing: border-box;margin-bottom: 0.5em;}#sk-container-id-1 div.sk-estimator:hover {background-color: #d4ebff;}#sk-container-id-1 div.sk-parallel-item::after {content: \"\";width: 100%;border-bottom: 1px solid gray;flex-grow: 1;}#sk-container-id-1 div.sk-label:hover label.sk-toggleable__label {background-color: #d4ebff;}#sk-container-id-1 div.sk-serial::before {content: \"\";position: absolute;border-left: 1px solid gray;box-sizing: border-box;top: 0;bottom: 0;left: 50%;z-index: 0;}#sk-container-id-1 div.sk-serial {display: flex;flex-direction: column;align-items: center;background-color: white;padding-right: 0.2em;padding-left: 0.2em;position: relative;}#sk-container-id-1 div.sk-item {position: relative;z-index: 1;}#sk-container-id-1 div.sk-parallel {display: flex;align-items: stretch;justify-content: center;background-color: white;position: relative;}#sk-container-id-1 div.sk-item::before, #sk-container-id-1 div.sk-parallel-item::before {content: \"\";position: absolute;border-left: 1px solid gray;box-sizing: border-box;top: 0;bottom: 0;left: 50%;z-index: -1;}#sk-container-id-1 div.sk-parallel-item {display: flex;flex-direction: column;z-index: 1;position: relative;background-color: white;}#sk-container-id-1 div.sk-parallel-item:first-child::after {align-self: flex-end;width: 50%;}#sk-container-id-1 div.sk-parallel-item:last-child::after {align-self: flex-start;width: 50%;}#sk-container-id-1 div.sk-parallel-item:only-child::after {width: 0;}#sk-container-id-1 div.sk-dashed-wrapped {border: 1px dashed gray;margin: 0 0.4em 0.5em 0.4em;box-sizing: border-box;padding-bottom: 0.4em;background-color: white;}#sk-container-id-1 div.sk-label label {font-family: monospace;font-weight: bold;display: inline-block;line-height: 1.2em;}#sk-container-id-1 div.sk-label-container {text-align: center;}#sk-container-id-1 div.sk-container {/* jupyter's `normalize.less` sets `[hidden] { display: none; }` but bootstrap.min.css set `[hidden] { display: none !important; }` so we also need the `!important` here to be able to override the default hidden behavior on the sphinx rendered scikit-learn.org. See: https://github.com/scikit-learn/scikit-learn/issues/21755 */display: inline-block !important;position: relative;}#sk-container-id-1 div.sk-text-repr-fallback {display: none;}</style><div id=\"sk-container-id-1\" class=\"sk-top-container\"><div class=\"sk-text-repr-fallback\"><pre>KernelDensity(bandwidth=2)</pre><b>In a Jupyter environment, please rerun this cell to show the HTML representation or trust the notebook. <br />On GitHub, the HTML representation is unable to render, please try loading this page with nbviewer.org.</b></div><div class=\"sk-container\" hidden><div class=\"sk-item\"><div class=\"sk-estimator sk-toggleable\"><input class=\"sk-toggleable__control sk-hidden--visually\" id=\"sk-estimator-id-1\" type=\"checkbox\" checked><label for=\"sk-estimator-id-1\" class=\"sk-toggleable__label sk-toggleable__label-arrow\">KernelDensity</label><div class=\"sk-toggleable__content\"><pre>KernelDensity(bandwidth=2)</pre></div></div></div></div></div>"
      ],
      "text/plain": [
       "KernelDensity(bandwidth=2)"
      ]
     },
     "execution_count": null,
     "metadata": {},
     "output_type": "execute_result"
    }
   ],
   "source": [
    "model.fit(samples)"
   ]
  },
  {
   "cell_type": "code",
   "execution_count": null,
   "id": "6922bf93",
   "metadata": {},
   "outputs": [],
   "source": [
    "values = asarray([value for value in range(1, 60)])\n",
    "values = values.reshape((len(values), 1))"
   ]
  },
  {
   "cell_type": "code",
   "execution_count": null,
   "id": "5720866f",
   "metadata": {},
   "outputs": [],
   "source": [
    "probabilities = model.score_samples(values)\n",
    "probabilities = exp(probabilities)"
   ]
  },
  {
   "cell_type": "code",
   "execution_count": null,
   "id": "7000b92e",
   "metadata": {},
   "outputs": [
    {
     "data": {
      "image/png": "[encoded data removed]",
      "text/plain": [
       "<Figure size 640x480 with 1 Axes>"
      ]
     },
     "metadata": {},
     "output_type": "display_data"
    }
   ],
   "source": [
    "pyplot.hist(samples, bins=50, density=True)\n",
    "pyplot.plot(values[:], probabilities)\n",
    "pyplot.show()"
   ]
  },
  {
   "cell_type": "code",
   "execution_count": null,
   "id": "b211f76f",
   "metadata": {},
   "outputs": [],
   "source": []
  },
  {
   "cell_type": "code",
   "execution_count": null,
   "id": "0c99c6c6",
   "metadata": {},
   "outputs": [],
   "source": []
  }
 ],
 "metadata": {
  "kernelspec": {
   "display_name": "Python 3 (ipykernel)",
   "language": "python",
   "name": "python3"
  }
 },
 "nbformat": 4,
 "nbformat_minor": 5
}
