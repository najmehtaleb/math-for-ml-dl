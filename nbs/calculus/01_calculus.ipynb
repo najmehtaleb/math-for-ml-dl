{
 "cells": [
  {
   "cell_type": "markdown",
   "id": "c5437343",
   "metadata": {},
   "source": [
    "# Calculus and Optimization"
   ]
  },
  {
   "cell_type": "markdown",
   "id": "1cc2eb15",
   "metadata": {},
   "source": [
    "Much of machine learning is about minimizing a cost function (also called an objective function\n",
    "in the optimization community), which is a scalar function of several variables that typically measures\n",
    "how poorly our model fits the data we have."
   ]
  },
  {
   "cell_type": "markdown",
   "id": "f59c5af6",
   "metadata": {},
   "source": [
    "## Extrema"
   ]
  },
  {
   "cell_type": "markdown",
   "id": "b7300581",
   "metadata": {},
   "source": [
    "Optimization is about finding **extrema**, which depending on the application could be minima or maxima.\n",
    "\n",
    "Observe that maximizing a function f is equivalent to minimizing −f , so optimization problems are typically phrased in terms of minimization without loss of generality. This convention (which we follow here) eliminates the need to discuss minimization and maximization separately.\n",
    "\n",
    "**local minimum**, **local maximum**, **global minimum**"
   ]
  },
  {
   "cell_type": "markdown",
   "id": "e15aed1b",
   "metadata": {},
   "source": [
    "## Gradients"
   ]
  },
  {
   "cell_type": "markdown",
   "id": "2772dbda",
   "metadata": {},
   "source": [
    "## The Jacobian"
   ]
  },
  {
   "cell_type": "markdown",
   "id": "7b5dbf5f",
   "metadata": {},
   "source": [
    "## The Hessian"
   ]
  },
  {
   "cell_type": "markdown",
   "id": "37e6c375",
   "metadata": {},
   "source": [
    "## Matrix calculus"
   ]
  },
  {
   "cell_type": "code",
   "execution_count": null,
   "id": "d5279133",
   "metadata": {},
   "outputs": [],
   "source": []
  },
  {
   "cell_type": "markdown",
   "id": "24855398",
   "metadata": {},
   "source": [
    "## Taylor’s theorem"
   ]
  },
  {
   "cell_type": "markdown",
   "id": "c7ea24cd",
   "metadata": {},
   "source": [
    "## Conditions for local minima"
   ]
  },
  {
   "cell_type": "markdown",
   "id": "436fe846",
   "metadata": {},
   "source": [
    "## Convexity"
   ]
  },
  {
   "cell_type": "code",
   "execution_count": null,
   "id": "8de345d6",
   "metadata": {},
   "outputs": [],
   "source": []
  }
 ],
 "metadata": {
  "kernelspec": {
   "display_name": "Python 3 (ipykernel)",
   "language": "python",
   "name": "python3"
  }
 },
 "nbformat": 4,
 "nbformat_minor": 5
}
