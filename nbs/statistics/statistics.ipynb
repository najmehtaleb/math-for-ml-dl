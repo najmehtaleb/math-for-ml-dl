{
 "cells": [
  {
   "cell_type": "markdown",
   "id": "9f5c6b52",
   "metadata": {},
   "source": [
    "# Statistics Methods for Machine Learning"
   ]
  },
  {
   "cell_type": "markdown",
   "id": "2e1eaecd",
   "metadata": {},
   "source": [
    "## Foundation"
   ]
  },
  {
   "cell_type": "markdown",
   "id": "a5305833",
   "metadata": {},
   "source": [
    "### Gaussian and Summary Stats"
   ]
  },
  {
   "cell_type": "markdown",
   "id": "ffa4092c",
   "metadata": {},
   "source": [
    "### Simple Data Visualization"
   ]
  },
  {
   "cell_type": "markdown",
   "id": "a7d3f58d",
   "metadata": {},
   "source": [
    "### Random Numbers"
   ]
  },
  {
   "cell_type": "markdown",
   "id": "69763892",
   "metadata": {},
   "source": [
    "### Law of Large Numbers"
   ]
  },
  {
   "cell_type": "markdown",
   "id": "e9a9ad36",
   "metadata": {},
   "source": [
    "### Central Limit Theorem"
   ]
  },
  {
   "cell_type": "markdown",
   "id": "c4458dbe",
   "metadata": {},
   "source": [
    "## Hypothesis Testing"
   ]
  },
  {
   "cell_type": "markdown",
   "id": "7b72abe2",
   "metadata": {},
   "source": [
    "### Statistical Hypothesis Testing"
   ]
  },
  {
   "cell_type": "markdown",
   "id": "74388632",
   "metadata": {},
   "source": [
    "### Statistical Distributions"
   ]
  },
  {
   "cell_type": "markdown",
   "id": "1e2bd068",
   "metadata": {},
   "source": [
    "### Critical Values"
   ]
  },
  {
   "cell_type": "markdown",
   "id": "e8df6ba7",
   "metadata": {},
   "source": [
    "### Covariance and Correlation"
   ]
  },
  {
   "cell_type": "markdown",
   "id": "de7a2fd5",
   "metadata": {},
   "source": [
    "### Significance Tests"
   ]
  },
  {
   "cell_type": "markdown",
   "id": "c209d10d",
   "metadata": {},
   "source": [
    "### Effect Size"
   ]
  },
  {
   "cell_type": "markdown",
   "id": "2fd316a0",
   "metadata": {},
   "source": [
    "### Statistical Power"
   ]
  },
  {
   "cell_type": "markdown",
   "id": "b8d34f8c",
   "metadata": {},
   "source": [
    "## Resampling Methods"
   ]
  },
  {
   "cell_type": "markdown",
   "id": "43fd0022",
   "metadata": {},
   "source": [
    "### Introduction to Resampling"
   ]
  },
  {
   "cell_type": "markdown",
   "id": "dce4e159",
   "metadata": {},
   "source": [
    "### Estimation with Bootstrap"
   ]
  },
  {
   "cell_type": "markdown",
   "id": "067702f2",
   "metadata": {},
   "source": [
    "### Estimation with Cross-Validation"
   ]
  },
  {
   "cell_type": "markdown",
   "id": "9258388c",
   "metadata": {},
   "source": [
    "## Estimation Statistics"
   ]
  },
  {
   "cell_type": "markdown",
   "id": "d0a15c02",
   "metadata": {},
   "source": [
    "### Introduction to Estimation Statistics"
   ]
  },
  {
   "cell_type": "markdown",
   "id": "94a605c0",
   "metadata": {},
   "source": [
    "### Tolerance Intervals"
   ]
  },
  {
   "cell_type": "markdown",
   "id": "b80cb93d",
   "metadata": {},
   "source": [
    "### Confidence Intervals"
   ]
  },
  {
   "cell_type": "markdown",
   "id": "69c71c70",
   "metadata": {},
   "source": [
    "### Prediction Intervals"
   ]
  },
  {
   "cell_type": "markdown",
   "id": "57c4518f",
   "metadata": {},
   "source": [
    "## Nonparametric Methods"
   ]
  },
  {
   "cell_type": "markdown",
   "id": "9791d4e4",
   "metadata": {},
   "source": [
    "### Rank Data"
   ]
  },
  {
   "cell_type": "markdown",
   "id": "73bb04f3",
   "metadata": {},
   "source": [
    "### Normality Tests"
   ]
  },
  {
   "cell_type": "markdown",
   "id": "be80b35e",
   "metadata": {},
   "source": [
    "### Make Data Normal"
   ]
  },
  {
   "cell_type": "markdown",
   "id": "066ad493",
   "metadata": {},
   "source": [
    "### 5-Number Summary"
   ]
  },
  {
   "cell_type": "markdown",
   "id": "3b8b8057",
   "metadata": {},
   "source": [
    "### Rank Correlation"
   ]
  },
  {
   "cell_type": "markdown",
   "id": "08d5a248",
   "metadata": {},
   "source": [
    "### Rank Significance Tests"
   ]
  },
  {
   "cell_type": "markdown",
   "id": "24d611e1",
   "metadata": {},
   "source": [
    "### Independence Test"
   ]
  },
  {
   "cell_type": "code",
   "execution_count": null,
   "id": "4e82dec0",
   "metadata": {},
   "outputs": [],
   "source": []
  },
  {
   "cell_type": "code",
   "execution_count": null,
   "id": "55f1b1c8",
   "metadata": {},
   "outputs": [],
   "source": []
  }
 ],
 "metadata": {
  "kernelspec": {
   "display_name": "Python 3 (ipykernel)",
   "language": "python",
   "name": "python3"
  }
 },
 "nbformat": 4,
 "nbformat_minor": 5
}
