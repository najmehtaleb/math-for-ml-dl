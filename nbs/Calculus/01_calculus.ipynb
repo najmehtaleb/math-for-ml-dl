{
 "cells": [
  {
   "cell_type": "markdown",
   "id": "c5437343",
   "metadata": {},
   "source": [
    "# Calculus and Optimization"
   ]
  },
  {
   "cell_type": "markdown",
   "id": "13d0d483",
   "metadata": {},
   "source": [
    "## Extrema"
   ]
  },
  {
   "cell_type": "markdown",
   "id": "a8e0f6ee",
   "metadata": {},
   "source": [
    "The notes will be added. "
   ]
  },
  {
   "cell_type": "markdown",
   "id": "903d9ad6",
   "metadata": {},
   "source": [
    "## Gradients"
   ]
  },
  {
   "cell_type": "markdown",
   "id": "416914e4",
   "metadata": {},
   "source": [
    "## The Jacobian"
   ]
  },
  {
   "cell_type": "markdown",
   "id": "4eb433cd",
   "metadata": {},
   "source": [
    "## The Hessian"
   ]
  },
  {
   "cell_type": "markdown",
   "id": "164bc719",
   "metadata": {},
   "source": [
    "## Matrix calculus"
   ]
  },
  {
   "cell_type": "markdown",
   "id": "77acb551",
   "metadata": {},
   "source": [
    "## Taylor’s theorem"
   ]
  },
  {
   "cell_type": "markdown",
   "id": "b8acdb45",
   "metadata": {},
   "source": [
    "## Conditions for local minima"
   ]
  },
  {
   "cell_type": "markdown",
   "id": "74df1872",
   "metadata": {},
   "source": [
    "## Convexity"
   ]
  },
  {
   "cell_type": "code",
   "execution_count": null,
   "id": "dc2c17d3",
   "metadata": {},
   "outputs": [],
   "source": []
  }
 ],
 "metadata": {
  "kernelspec": {
   "display_name": "Python 3 (ipykernel)",
   "language": "python",
   "name": "python3"
  }
 },
 "nbformat": 4,
 "nbformat_minor": 5
}
