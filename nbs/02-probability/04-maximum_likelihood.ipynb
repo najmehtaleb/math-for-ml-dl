{
 "cells": [
  {
   "cell_type": "markdown",
   "id": "77a18df2",
   "metadata": {},
   "source": [
    "# Maximum Likelihood"
   ]
  },
  {
   "cell_type": "markdown",
   "id": "f9d3c4fb",
   "metadata": {},
   "source": [
    "Density estimation is the problem of estimating the probability distribution for a sample of\n",
    "observations from a problem domain. There are many techniques for solving density estimation,\n",
    "although a common framework used throughout the field of machine learning is maximum\n",
    "likelihood estimation. Maximum likelihood estimation involves defining a likelihood function\n",
    "for calculating the conditional probability of observing the data sample given a probability\n",
    "distribution and distribution parameters. This approach can be used to search a space of possible\n",
    "distributions and parameters. This flexible probabilistic framework also provides the foundation\n",
    "for many machine learning algorithms, including important methods such as linear regression\n",
    "and logistic regression for predicting numeric values and class labels respectively, but also more\n",
    "generally for deep learning artificial neural networks. In this tutorial, you will discover a gentle\n",
    "introduction to maximum likelihood estimation. After reading this tutorial, you will know:\n",
    "* Maximum Likelihood Estimation is a probabilistic framework for solving the problem of\n",
    "density estimation.\n",
    "* It involves maximizing a likelihood function in order to find the probability distribution\n",
    "and parameters that best explain the observed data.\n",
    "* It provides a framework for predictive modeling in machine learning where finding model\n",
    "parameters can be framed as an optimization problem."
   ]
  },
  {
   "cell_type": "markdown",
   "id": "ca1fe3ec",
   "metadata": {},
   "source": [
    "## Maximum Likelihood Estimation"
   ]
  },
  {
   "cell_type": "markdown",
   "id": "ecb26fca",
   "metadata": {},
   "source": [
    "### Problem of Probability Density Estimation"
   ]
  },
  {
   "cell_type": "markdown",
   "id": "83c4c1e9",
   "metadata": {},
   "source": [
    "A common modeling problem involves how to estimate a joint probability distribution for a\n",
    "dataset. For example, given a sample of observation (X) from a domain (x 1 , x 2 , x 3 , · · · , x n ),\n",
    "where each observation is drawn independently from the domain with the same probability\n",
    "distribution (so-called independent and identically distributed, i.i.d., or close to it). Density\n",
    "estimation involves selecting a probability distribution function and the parameters of that\n",
    "distribution that best explain the joint probability distribution of the observed data (X).\n",
    "\n",
    "* How do you choose the probability distribution function?\n",
    "* How do you choose the parameters for the probability distribution function?\n",
    "\n",
    "This problem is made more challenging if the sample (X) drawn from the population is\n",
    "small and has noise, meaning that any evaluation of an estimated probability density function\n",
    "and its parameters will have some error. There are many techniques for solving this problem,\n",
    "although two common approaches are:\n",
    "* Maximum a Posteriori (MAP), a Bayesian method.\n",
    "* Maximum Likelihood Estimation (MLE), frequentist method.\n",
    "\n",
    "The main difference is that MLE assumes that all solutions are equally likely beforehand,\n",
    "whereas MAP allows prior information about the form of the solution to be harnessed. In this\n",
    "tutorial, we will take a closer look at the MLE method and its relationship to applied machine\n",
    "learning."
   ]
  },
  {
   "cell_type": "markdown",
   "id": "225e0982",
   "metadata": {},
   "source": [
    "### Maximum Likelihood Estimation"
   ]
  },
  {
   "cell_type": "markdown",
   "id": "5029557f",
   "metadata": {},
   "source": [
    "One solution to probability density estimation is referred to as Maximum Likelihood Estimation,\n",
    "or MLE for short. Maximum Likelihood Estimation involves treating the problem as an\n",
    "optimization or search problem, where we seek a set of parameters that results in the best fit for\n",
    "the joint probability of the data sample (X). First, it involves defining a parameter called theta\n",
    "(θ) that defines both the choice of the probability density function and the parameters of that\n",
    "distribution. It may be a vector of numerical values whose values change smoothly and map to\n",
    "different probability distributions and their parameters. In Maximum Likelihood Estimation, we\n",
    "wish to maximize the probability of observing the data from the joint probability distribution\n",
    "given a specific probability distribution and its parameters, stated formally as:\n",
    "\n",
    "P (X|θ)\n",
    "\n",
    "This conditional probability is often stated using the semicolon (;) notation instead of the\n",
    "bar notation (|) because θ is not a random variable, but instead an unknown parameter. For\n",
    "example:\n",
    "\n",
    "P (X; θ)\n",
    "\n",
    "Or:\n",
    "\n",
    "P (x 1 , x 2 , x 3 , · · · , x n ; θ)"
   ]
  },
  {
   "cell_type": "markdown",
   "id": "c6df7139",
   "metadata": {},
   "source": [
    "This resulting conditional probability is referred to as the likelihood of observing the data\n",
    "given the model parameters and written using the notation L() to denote the likelihood function.\n",
    "For example:\n",
    "\n",
    "L(X; θ)"
   ]
  },
  {
   "cell_type": "markdown",
   "id": "2a38780a",
   "metadata": {},
   "source": [
    "The objective of Maximum Likelihood Estimation is to find the set of parameters (θ) that\n",
    "maximize the likelihood function, e.g. result in the largest likelihood value.\n",
    "\n",
    "max L(X; θ)"
   ]
  },
  {
   "cell_type": "markdown",
   "id": "10ed3b35",
   "metadata": {},
   "source": [
    "We can unpack the conditional probability calculated by the likelihood function. Given that\n",
    "the sample is comprised of n examples, we can frame this as the joint probability of the observed\n",
    "data samples x 1 , x 2 , x 3 , · · · , x n in X given the probability distribution parameters (θ).\n",
    "\n",
    "L(x 1 , x 2 , x 3 , · · · , x n ; θ)"
   ]
  },
  {
   "cell_type": "markdown",
   "id": "336cb57c",
   "metadata": {},
   "source": [
    "The joint probability distribution can be restated as the multiplication of the conditional\n",
    "probability for observing each example given the distribution parameters.\n",
    "\n",
    "n\n",
    "Y\n",
    "P (x i ; θ)\n"
   ]
  },
  {
   "cell_type": "markdown",
   "id": "73f00735",
   "metadata": {},
   "source": [
    "Multiplying many small probabilities together can be numerically unstable in practice,\n",
    "therefore, it is common to restate this problem as the sum of the log conditional probabilities of\n",
    "observing each example given the model parameters.\n",
    "\n",
    "Where log with base-e called the natural logarithm is commonly used.\n",
    "\n",
    "This product over many probabilities can be inconvenient [...] it is prone to numerical\n",
    "underflow. To obtain a more convenient but equivalent optimization problem, we\n",
    "observe that taking the logarithm of the likelihood does not change its arg max but\n",
    "does conveniently transform a product into a sum"
   ]
  },
  {
   "cell_type": "markdown",
   "id": "e156f1f5",
   "metadata": {},
   "source": [
    "Given the frequent use of log in the likelihood function, it is commonly referred to as a\n",
    "log-likelihood function. It is common in optimization problems to prefer to minimize the cost\n",
    "function, rather than to maximize it. Therefore, the negative of the log-likelihood function is\n",
    "used, referred to generally as a Negative Log-Likelihood (NLL) function.\n",
    "\n",
    "In software, we often phrase both as minimizing a cost function. Maximum likelihood\n",
    "thus becomes minimization of the negative log-likelihood (NLL) ..."
   ]
  },
  {
   "cell_type": "markdown",
   "id": "3d8b6542",
   "metadata": {},
   "source": [
    "### Relationship to Machine Learning"
   ]
  },
  {
   "cell_type": "markdown",
   "id": "3a965e33",
   "metadata": {},
   "source": [
    "This problem of density estimation is directly related to applied machine learning. We can\n",
    "frame the problem of fitting a machine learning model as the problem of probability density\n",
    "estimation. Specifically, the choice of model and model parameters is referred to as a modeling\n",
    "hypothesis h, and the problem involves finding h that best explains the data X.\n",
    "\n",
    "P (X; h)"
   ]
  },
  {
   "cell_type": "markdown",
   "id": "3887efad",
   "metadata": {},
   "source": [
    "We can, therefore, find the modeling hypothesis that maximizes the likelihood function.\n",
    "\n",
    "max L(X; h)"
   ]
  },
  {
   "cell_type": "markdown",
   "id": "238e987b",
   "metadata": {},
   "source": [
    "Or, more fully:"
   ]
  },
  {
   "cell_type": "markdown",
   "id": "befe4eef",
   "metadata": {},
   "source": [
    "This provides the basis for estimating the probability density of a dataset, typically used in\n",
    "unsupervised machine learning algorithms; for example:\n",
    "* Clustering algorithms.\n",
    "\n",
    "Using the expected log joint probability as a key quantity for learning in a proba-\n",
    "bility model with hidden variables is better known in the context of the celebrated\n",
    "expectation maximization or EM algorithm."
   ]
  },
  {
   "cell_type": "markdown",
   "id": "4e20c4a9",
   "metadata": {},
   "source": [
    "The Maximum Likelihood Estimation framework is also a useful tool for supervised machine\n",
    "learning. This applies to data where we have input and output variables, where the output\n",
    "variable may be a numerical value or a class label in the case of regression and classification\n",
    "predictive modeling retrospectively. We can state this as the conditional probability of the\n",
    "output y given the input (X) given the modeling hypothesis (h).\n",
    "\n",
    "max L(y|X; h)\n",
    "\n",
    "Or, more fully:"
   ]
  },
  {
   "cell_type": "markdown",
   "id": "43286255",
   "metadata": {},
   "source": [
    "The maximum likelihood estimator can readily be generalized to the case where our\n",
    "goal is to estimate a conditional probability P (y|x; θ) in order to predict y given\n",
    "x. This is actually the most common situation because it forms the basis for most\n",
    "supervised learning."
   ]
  },
  {
   "cell_type": "markdown",
   "id": "f29e98e8",
   "metadata": {},
   "source": [
    "This means that the same Maximum Likelihood Estimation framework that is generally\n",
    "used for density estimation can be used to find a supervised learning model and parameters.\n",
    "This provides the basis for foundational linear modeling techniques, such as:\n",
    "* Linear Regression, for predicting a numerical value.\n",
    "* Logistic Regression, for binary classification."
   ]
  },
  {
   "cell_type": "markdown",
   "id": "a986ece6",
   "metadata": {},
   "source": [
    "In the case of linear regression, the model is constrained to a line and involves finding a set\n",
    "of coefficients for the line that best fits the observed data. Fortunately, this problem can be\n",
    "solved analytically (e.g. directly using linear algebra). In the case of logistic regression, the\n",
    "model defines a line and involves finding a set of coefficients for the line that best separates\n",
    "the classes. This cannot be solved analytically and is often solved by searching the space of\n",
    "possible coefficient values using an efficient optimization algorithm such as the BFGS algorithm\n",
    "or variants."
   ]
  },
  {
   "cell_type": "markdown",
   "id": "7a425fde",
   "metadata": {},
   "source": [
    "Both methods can also be solved less efficiently using a more general optimization algorithm such as stochastic gradient descent. In fact, most machine learning models can be framed under the maximum likelihood estimation framework, providing a useful and consistent way to approach predictive modeling as an optimization problem. An important benefit of the maximum likelihood estimator in machine learning is that as the size of the dataset increases, the quality of the estimator continues to improve."
   ]
  },
  {
   "cell_type": "markdown",
   "id": "ab2d7973",
   "metadata": {},
   "source": [
    "In this tutorial, you discovered a gentle introduction to maximum likelihood estimation. Specifi-\n",
    "cally, you learned:\n",
    "* Maximum Likelihood Estimation is a probabilistic framework for solving the problem of\n",
    "density estimation.\n",
    "* It involves maximizing a likelihood function in order to find the probability distribution\n",
    "and parameters that best explain the observed data.\n",
    "* It provides a framework for predictive modeling in machine learning where finding model\n",
    "parameters can be framed as an optimization problem."
   ]
  },
  {
   "cell_type": "markdown",
   "id": "2472b687",
   "metadata": {},
   "source": [
    "## Linear Regression With Maximum Likelihood Estimation"
   ]
  },
  {
   "cell_type": "markdown",
   "id": "6e5a5ac6",
   "metadata": {},
   "source": [
    "Linear regression is a classical model for predicting a numerical quantity. The parameters of\n",
    "a linear regression model can be estimated using a least squares procedure or by a maximum\n",
    "likelihood estimation procedure. Maximum likelihood estimation is a probabilistic framework for\n",
    "automatically finding the probability distribution and parameters that best describe the observed\n",
    "data. Supervised learning can be framed as a conditional probability problem, and maximum\n",
    "likelihood estimation can be used to fit the parameters of a model that best summarizes the\n",
    "conditional probability distribution, so-called conditional maximum likelihood estimation. A\n",
    "linear regression model can be fit under this framework and can be shown to derive an identical\n",
    "solution to a least squares approach. In this tutorial, you will discover linear regression with\n",
    "maximum likelihood estimation. After reading this tutorial, you will know:\n",
    "* Linear regression is a model for predicting a numerical quantity and maximum likelihood\n",
    "estimation is a probabilistic framework for estimating model parameters.\n",
    "* Coefficients of a linear regression model can be estimated using a negative log-likelihood\n",
    "function from maximum likelihood estimation.\n",
    "* The negative log-likelihood function can be used to derive the least squares solution to\n",
    "linear regression."
   ]
  },
  {
   "cell_type": "markdown",
   "id": "b5d8cfa2",
   "metadata": {},
   "source": [
    "### Linear Regression as Maximum Likelihood"
   ]
  },
  {
   "cell_type": "markdown",
   "id": "fda004a1",
   "metadata": {},
   "source": [
    "### Least Squares and Maximum Likelihood"
   ]
  },
  {
   "cell_type": "markdown",
   "id": "4eeee972",
   "metadata": {},
   "source": [
    "## Logistic Regression With Maximum Likelihood Estimation"
   ]
  },
  {
   "cell_type": "markdown",
   "id": "461f737a",
   "metadata": {},
   "source": [
    "### Logistic Regression and Log-Odds"
   ]
  },
  {
   "cell_type": "code",
   "execution_count": null,
   "id": "7124bb99",
   "metadata": {},
   "outputs": [],
   "source": [
    "from math import log\n",
    "from math import exp"
   ]
  },
  {
   "cell_type": "code",
   "execution_count": null,
   "id": "238acb23",
   "metadata": {},
   "outputs": [],
   "source": [
    "prob = 0.8\n",
    "print(f'Probability is: {prob}')"
   ]
  },
  {
   "cell_type": "code",
   "execution_count": null,
   "id": "c958335e",
   "metadata": {},
   "outputs": [],
   "source": [
    "odds = prob / (1 - prob)\n",
    "print(f'Odds is: {odds: .1f}')"
   ]
  },
  {
   "cell_type": "code",
   "execution_count": null,
   "id": "ad3ffc03",
   "metadata": {},
   "outputs": [],
   "source": [
    "prob = odds/ (odds +1)\n",
    "print(f'Probability is: {prob}')"
   ]
  },
  {
   "cell_type": "code",
   "execution_count": null,
   "id": "0ad28398",
   "metadata": {},
   "outputs": [],
   "source": [
    "logodds = log(odds)\n",
    "print(f'Log-Odds is: {logodds: 0.2f}')"
   ]
  },
  {
   "cell_type": "code",
   "execution_count": null,
   "id": "76ab23d6",
   "metadata": {},
   "outputs": [],
   "source": [
    "prob = 1 / (1 + exp(-logodds))\n",
    "print(f'Probability is: {prob}')"
   ]
  },
  {
   "cell_type": "markdown",
   "id": "1da0732b",
   "metadata": {},
   "source": [
    "### Logistic Regression as Maximum Likelihood"
   ]
  },
  {
   "cell_type": "code",
   "execution_count": null,
   "id": "9c584262",
   "metadata": {},
   "outputs": [],
   "source": [
    "def likelihood(y, yhat):\n",
    "    return yhat*y + (1 - yhat)*(1 - y)"
   ]
  },
  {
   "cell_type": "code",
   "execution_count": null,
   "id": "4413be04",
   "metadata": {},
   "outputs": [],
   "source": [
    "y, yhat = 1, 0.9\n",
    "print(f'y={y}, yhat={yhat}, likelihood: {likelihood(y, yhat):.3f}')"
   ]
  },
  {
   "cell_type": "code",
   "execution_count": null,
   "id": "7775ea67",
   "metadata": {},
   "outputs": [],
   "source": [
    "y, yhat = 1, 0.1\n",
    "print(f'y={y}, yhat={yhat}, likelihood: {likelihood(y, yhat):.3f}')"
   ]
  },
  {
   "cell_type": "code",
   "execution_count": null,
   "id": "4765a622",
   "metadata": {},
   "outputs": [],
   "source": [
    "y, yhat = 0, 0.1\n",
    "print(f'y={y}, yhat={yhat}, likelihood: {likelihood(y, yhat):.3f}')"
   ]
  },
  {
   "cell_type": "code",
   "execution_count": null,
   "id": "e6b5e7fb",
   "metadata": {},
   "outputs": [],
   "source": [
    "y, yhat = 0, 0.9\n",
    "print(f'y={y}, yhat={yhat}, likelihood: {likelihood(y, yhat):.3f}')"
   ]
  },
  {
   "cell_type": "markdown",
   "id": "8817fbff",
   "metadata": {},
   "source": [
    "## Expectation Maximization (EM Algorithm)"
   ]
  },
  {
   "cell_type": "markdown",
   "id": "d906f0f1",
   "metadata": {},
   "source": [
    "### Expectation-Maximization Algorithm"
   ]
  },
  {
   "cell_type": "markdown",
   "id": "6c492388",
   "metadata": {},
   "source": [
    "### Gaussian Mixture Model and the EM Algorithm"
   ]
  },
  {
   "cell_type": "markdown",
   "id": "b3582839",
   "metadata": {},
   "source": [
    "### Example of Gaussian Mixture Model"
   ]
  },
  {
   "cell_type": "code",
   "execution_count": null,
   "id": "b5d39d89",
   "metadata": {},
   "outputs": [],
   "source": [
    "from numpy import hstack\n",
    "from numpy.random import normal\n",
    "from sklearn.mixture import GaussianMixture"
   ]
  },
  {
   "cell_type": "code",
   "execution_count": null,
   "id": "56c96805",
   "metadata": {},
   "outputs": [],
   "source": [
    "X1 = normal(loc=20, scale=5, size=3000)\n",
    "X2 = normal(loc=40, scale=5, size=7000)"
   ]
  },
  {
   "cell_type": "code",
   "execution_count": null,
   "id": "0941a0b0",
   "metadata": {},
   "outputs": [],
   "source": [
    "X = hstack((X1, X2))\n",
    "X = X.reshape(len(X), 1)"
   ]
  },
  {
   "cell_type": "code",
   "execution_count": null,
   "id": "4aa4de38",
   "metadata": {},
   "outputs": [
    {
     "data": {
      "text/html": [
       "<style>#sk-container-id-3 {color: black;background-color: white;}#sk-container-id-3 pre{padding: 0;}#sk-container-id-3 div.sk-toggleable {background-color: white;}#sk-container-id-3 label.sk-toggleable__label {cursor: pointer;display: block;width: 100%;margin-bottom: 0;padding: 0.3em;box-sizing: border-box;text-align: center;}#sk-container-id-3 label.sk-toggleable__label-arrow:before {content: \"▸\";float: left;margin-right: 0.25em;color: #696969;}#sk-container-id-3 label.sk-toggleable__label-arrow:hover:before {color: black;}#sk-container-id-3 div.sk-estimator:hover label.sk-toggleable__label-arrow:before {color: black;}#sk-container-id-3 div.sk-toggleable__content {max-height: 0;max-width: 0;overflow: hidden;text-align: left;background-color: #f0f8ff;}#sk-container-id-3 div.sk-toggleable__content pre {margin: 0.2em;color: black;border-radius: 0.25em;background-color: #f0f8ff;}#sk-container-id-3 input.sk-toggleable__control:checked~div.sk-toggleable__content {max-height: 200px;max-width: 100%;overflow: auto;}#sk-container-id-3 input.sk-toggleable__control:checked~label.sk-toggleable__label-arrow:before {content: \"▾\";}#sk-container-id-3 div.sk-estimator input.sk-toggleable__control:checked~label.sk-toggleable__label {background-color: #d4ebff;}#sk-container-id-3 div.sk-label input.sk-toggleable__control:checked~label.sk-toggleable__label {background-color: #d4ebff;}#sk-container-id-3 input.sk-hidden--visually {border: 0;clip: rect(1px 1px 1px 1px);clip: rect(1px, 1px, 1px, 1px);height: 1px;margin: -1px;overflow: hidden;padding: 0;position: absolute;width: 1px;}#sk-container-id-3 div.sk-estimator {font-family: monospace;background-color: #f0f8ff;border: 1px dotted black;border-radius: 0.25em;box-sizing: border-box;margin-bottom: 0.5em;}#sk-container-id-3 div.sk-estimator:hover {background-color: #d4ebff;}#sk-container-id-3 div.sk-parallel-item::after {content: \"\";width: 100%;border-bottom: 1px solid gray;flex-grow: 1;}#sk-container-id-3 div.sk-label:hover label.sk-toggleable__label {background-color: #d4ebff;}#sk-container-id-3 div.sk-serial::before {content: \"\";position: absolute;border-left: 1px solid gray;box-sizing: border-box;top: 0;bottom: 0;left: 50%;z-index: 0;}#sk-container-id-3 div.sk-serial {display: flex;flex-direction: column;align-items: center;background-color: white;padding-right: 0.2em;padding-left: 0.2em;position: relative;}#sk-container-id-3 div.sk-item {position: relative;z-index: 1;}#sk-container-id-3 div.sk-parallel {display: flex;align-items: stretch;justify-content: center;background-color: white;position: relative;}#sk-container-id-3 div.sk-item::before, #sk-container-id-3 div.sk-parallel-item::before {content: \"\";position: absolute;border-left: 1px solid gray;box-sizing: border-box;top: 0;bottom: 0;left: 50%;z-index: -1;}#sk-container-id-3 div.sk-parallel-item {display: flex;flex-direction: column;z-index: 1;position: relative;background-color: white;}#sk-container-id-3 div.sk-parallel-item:first-child::after {align-self: flex-end;width: 50%;}#sk-container-id-3 div.sk-parallel-item:last-child::after {align-self: flex-start;width: 50%;}#sk-container-id-3 div.sk-parallel-item:only-child::after {width: 0;}#sk-container-id-3 div.sk-dashed-wrapped {border: 1px dashed gray;margin: 0 0.4em 0.5em 0.4em;box-sizing: border-box;padding-bottom: 0.4em;background-color: white;}#sk-container-id-3 div.sk-label label {font-family: monospace;font-weight: bold;display: inline-block;line-height: 1.2em;}#sk-container-id-3 div.sk-label-container {text-align: center;}#sk-container-id-3 div.sk-container {/* jupyter's `normalize.less` sets `[hidden] { display: none; }` but bootstrap.min.css set `[hidden] { display: none !important; }` so we also need the `!important` here to be able to override the default hidden behavior on the sphinx rendered scikit-learn.org. See: https://github.com/scikit-learn/scikit-learn/issues/21755 */display: inline-block !important;position: relative;}#sk-container-id-3 div.sk-text-repr-fallback {display: none;}</style><div id=\"sk-container-id-3\" class=\"sk-top-container\"><div class=\"sk-text-repr-fallback\"><pre>GaussianMixture(init_params=&#x27;random&#x27;, n_components=2)</pre><b>In a Jupyter environment, please rerun this cell to show the HTML representation or trust the notebook. <br />On GitHub, the HTML representation is unable to render, please try loading this page with nbviewer.org.</b></div><div class=\"sk-container\" hidden><div class=\"sk-item\"><div class=\"sk-estimator sk-toggleable\"><input class=\"sk-toggleable__control sk-hidden--visually\" id=\"sk-estimator-id-3\" type=\"checkbox\" checked><label for=\"sk-estimator-id-3\" class=\"sk-toggleable__label sk-toggleable__label-arrow\">GaussianMixture</label><div class=\"sk-toggleable__content\"><pre>GaussianMixture(init_params=&#x27;random&#x27;, n_components=2)</pre></div></div></div></div></div>"
      ],
      "text/plain": [
       "GaussianMixture(init_params='random', n_components=2)"
      ]
     },
     "execution_count": null,
     "metadata": {},
     "output_type": "execute_result"
    }
   ],
   "source": [
    "model = GaussianMixture(n_components=2, init_params='random')\n",
    "model.fit(X)"
   ]
  },
  {
   "cell_type": "code",
   "execution_count": null,
   "id": "7349a68b",
   "metadata": {},
   "outputs": [],
   "source": [
    "yhat = model.predict(X)"
   ]
  },
  {
   "cell_type": "code",
   "execution_count": null,
   "id": "f7944e3c",
   "metadata": {},
   "outputs": [
    {
     "name": "stdout",
     "output_type": "stream",
     "text": [
      "[0 1 1 0 0 0 0 0 0 0 1 0 0 0 0 0 0 0 0 0 0 1 0 1 0 0 0 0 0 1 0 0 0 0 0 0 0\n",
      " 1 0 0 0 0 0 0 0 0 0 0 0 0 0 1 0 0 0 0 0 0 0 0 0 0 0 0 0 0 0 0 0 0 0 1 0 0\n",
      " 0 0 0 0 0 0 0 1 0 0 0 0 0 0 0 0 0 0 0 0 0 0 0 1 0 0]\n"
     ]
    }
   ],
   "source": [
    "print(yhat[:100])"
   ]
  },
  {
   "cell_type": "code",
   "execution_count": null,
   "id": "cb32339b",
   "metadata": {},
   "outputs": [
    {
     "name": "stdout",
     "output_type": "stream",
     "text": [
      "[0 0 0 0 0 0 0 0 0 0 0 0 0 0 0 0 0 0 0 0 0 0 0 0 0 0 0 0 0 0 0 0 0 0 0 0 0\n",
      " 0 0 0 0 0 0 0 0 0 0 0 0 0 0 0 0 0 0 0 0 0 0 0 0 0 0 0 0 0 0 0 0 0 0 0 0 0\n",
      " 0 0 0 0 0 0 0 0 0 0 0 0 0 0 0 0 0 0 0 0 0 0 0 0 0 0]\n"
     ]
    }
   ],
   "source": [
    "print(yhat[-100:])"
   ]
  },
  {
   "cell_type": "markdown",
   "id": "fea46fea",
   "metadata": {},
   "source": [
    "## Probabilistic Model Selection with AIC, BIC, and MDL"
   ]
  },
  {
   "cell_type": "code",
   "execution_count": null,
   "id": "51d9c3ee",
   "metadata": {},
   "outputs": [],
   "source": []
  },
  {
   "cell_type": "code",
   "execution_count": null,
   "id": "a1d740f1",
   "metadata": {},
   "outputs": [],
   "source": []
  },
  {
   "cell_type": "code",
   "execution_count": null,
   "id": "15890aa4",
   "metadata": {},
   "outputs": [],
   "source": []
  },
  {
   "cell_type": "code",
   "execution_count": null,
   "id": "00caef43",
   "metadata": {},
   "outputs": [],
   "source": []
  },
  {
   "cell_type": "code",
   "execution_count": null,
   "id": "a8b60720",
   "metadata": {},
   "outputs": [],
   "source": []
  },
  {
   "cell_type": "code",
   "execution_count": null,
   "id": "235c54e8",
   "metadata": {},
   "outputs": [],
   "source": []
  },
  {
   "cell_type": "code",
   "execution_count": null,
   "id": "5f8e1ad3",
   "metadata": {},
   "outputs": [],
   "source": []
  },
  {
   "cell_type": "code",
   "execution_count": null,
   "id": "f3e794ec",
   "metadata": {},
   "outputs": [],
   "source": []
  },
  {
   "cell_type": "code",
   "execution_count": null,
   "id": "c4c4cfe3",
   "metadata": {},
   "outputs": [],
   "source": []
  },
  {
   "cell_type": "code",
   "execution_count": null,
   "id": "dbc2fb54",
   "metadata": {},
   "outputs": [],
   "source": []
  }
 ],
 "metadata": {
  "kernelspec": {
   "display_name": "Python 3 (ipykernel)",
   "language": "python",
   "name": "python3"
  }
 },
 "nbformat": 4,
 "nbformat_minor": 5
}
