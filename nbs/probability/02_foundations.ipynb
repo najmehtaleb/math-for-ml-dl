{
 "cells": [
  {
   "cell_type": "markdown",
   "id": "adf7ad63",
   "metadata": {},
   "source": [
    "# Joint, Marginal, and Conditional Probability"
   ]
  },
  {
   "cell_type": "markdown",
   "id": "df75f32d",
   "metadata": {},
   "source": [
    "* Joint probability is the probability of two or more events occurring simultaneously.\n",
    "* Marginal probability is the probability of an event irrespective of the outcome of other variables.\n",
    "* Conditional probability is the probability of one event occurring in the presence of one or more other events."
   ]
  },
  {
   "cell_type": "markdown",
   "id": "ecf7c7eb",
   "metadata": {},
   "source": [
    "## Probability for One Random Variable"
   ]
  },
  {
   "cell_type": "markdown",
   "id": "036a9bcf",
   "metadata": {},
   "source": [
    "## Probability for Multiple Random Variables"
   ]
  },
  {
   "cell_type": "markdown",
   "id": "2026f7e6",
   "metadata": {},
   "source": [
    "In machine learning, we are likely to work with many random variables. For example, given a\n",
    "table of data, such as in excel, each row represents a separate observation or event, and each\n",
    "column represents a separate random variable. Variables may be either discrete, meaning that\n",
    "they take on a finite set of values, or continuous, meaning they take on a real or numerical value. As such, we are interested in the probability across two or more random variables.\n",
    "\n",
    "This is complicated as there are many ways that random variables can interact, which, in\n",
    "turn, impacts their probabilities. This can be simplified by reducing the discussion to just two\n",
    "random variables (X, Y ), although the principles generalize to multiple variables"
   ]
  },
  {
   "cell_type": "markdown",
   "id": "a0adebf3",
   "metadata": {},
   "source": [
    "Therefore, we will introduce the probability of multiple random variables as the probability\n",
    "of event A and event B, which in shorthand is X = A and Y = B. We assume that the\n",
    "two variables are related or dependent in some way. As such, there are three main types of\n",
    "probability we might want to consider; they are:\n",
    "* Joint Probability: Probability of events A and B.\n",
    "* Marginal Probability: Probability of event A given variable Y .\n",
    "* Conditional Probability: Probability of event A given event B."
   ]
  },
  {
   "cell_type": "markdown",
   "id": "bfb53dab",
   "metadata": {},
   "source": [
    "These types of probability form the basis of much of predictive modeling with problems such\n",
    "as classification and regression. For example:\n",
    "* The probability of a row of data is the joint probability across each input variable.\n",
    "* The probability of a specific value of one input variable is the marginal probability across the values of the other input variables.\n",
    "* The predictive model itself is an estimate of the conditional probability of an output given an input example."
   ]
  },
  {
   "cell_type": "markdown",
   "id": "a0d36c20",
   "metadata": {},
   "source": [
    "### Joint Probability for Two Variables"
   ]
  },
  {
   "cell_type": "markdown",
   "id": "cbe66f46",
   "metadata": {},
   "source": [
    "We may be interested in the probability of two simultaneous events, e.g. the outcomes of two\n",
    "different random variables. The probability of two (or more) events is called the joint probability.\n",
    "The joint probability of two or more random variables is referred to as the joint probability\n",
    "distribution. For example, the joint probability of event A and event B is written formally as:\n",
    "P (A and B) = P (A ∩ B) = P (A, B)\n",
    "\n",
    "The joint probability for events A and B is calculated as the probability of event A given\n",
    "event B multiplied by the probability of event B. This can be stated formally as follows:\n",
    "\n",
    "P (A ∩ B) = P (A given B) × P (B)\n",
    "\n",
    "\n",
    "The calculation of the joint probability is sometimes called the fundamental rule of probability\n",
    "or the product rule of probability. Here, P (A given B) is the probability of event A given that\n",
    "event B has occurred, called the conditional probability, described below. The joint probability\n",
    "is symmetrical, meaning that P (A ∩ B) is the same as P (B ∩ A)."
   ]
  },
  {
   "cell_type": "markdown",
   "id": "327e927c",
   "metadata": {},
   "source": [
    "### Marginal Probability"
   ]
  },
  {
   "cell_type": "markdown",
   "id": "5e53a706",
   "metadata": {},
   "source": [
    "We may be interested in the probability of an event for one random variable, irrespective of the\n",
    "outcome of another random variable. For example, the probability of X = A for all outcomes of\n",
    "Y . The probability of one event in the presence of all (or a subset of) outcomes of the other\n",
    "random variable is called the marginal probability or the marginal distribution. The marginal\n",
    "probability of one random variable in the presence of additional random variables is referred to\n",
    "as the marginal probability distribution.\n",
    "\n",
    "P (X = A) = y∈YX P (X = A, Y = y)\n",
    "\n",
    "This is another important foundational rule in probability, referred to as the sum rule. The\n",
    "marginal probability is different from the conditional probability (described next) because it\n",
    "considers the union of all events for the second variable rather than the probability of a single\n",
    "event."
   ]
  },
  {
   "cell_type": "markdown",
   "id": "ada47c00",
   "metadata": {},
   "source": [
    "### Conditional Probability"
   ]
  },
  {
   "cell_type": "markdown",
   "id": "afd94677",
   "metadata": {},
   "source": [
    "We may be interested in the probability of an event given the occurrence of another event.\n",
    "The probability of one event given the occurrence of another event is called the conditional\n",
    "probability. The conditional probability of one to one or more random variables is referred to as\n",
    "the conditional probability distribution. For example, the conditional probability of event A\n",
    "given event B is written formally as:\n",
    "\n",
    "P (A given B) = P (A|B)\n",
    "\n",
    "The conditional probability for events A given event B is calculated as follows:\n",
    "P (A|B) = P (A ∩ B) / P (B)\n",
    "\n"
   ]
  },
  {
   "cell_type": "markdown",
   "id": "ee4dbccc",
   "metadata": {},
   "source": [
    "## Probability for Independence and Exclusivity"
   ]
  },
  {
   "cell_type": "markdown",
   "id": "7b2db0b1",
   "metadata": {},
   "source": [
    "When considering multiple random variables, it is possible that they do not interact. We may\n",
    "know or assume that two variables are not dependent upon each other instead are independent.\n",
    "Alternately, the variables may interact but their events may not occur simultaneously, referred\n",
    "to as exclusivity."
   ]
  },
  {
   "cell_type": "markdown",
   "id": "7d92863c",
   "metadata": {},
   "source": [
    "### Independence"
   ]
  },
  {
   "cell_type": "markdown",
   "id": "5716e914",
   "metadata": {},
   "source": [
    "If one variable is not dependent on a second variable, this is called independence or statistical\n",
    "independence. This has an impact on calculating the probabilities of the two variables. For\n",
    "example, we may be interested in the joint probability of independent events A and B, which\n",
    "is the same as the probability of A and the probability of B. Probabilities are combined\n",
    "using multiplication, therefore the joint probability of independent events is calculated as the\n",
    "probability of event A multiplied by the probability of event B. This can be stated formally as\n",
    "follows:\n",
    "Joint Probability : P (A ∩ B) = P (A) × P (B)\n"
   ]
  },
  {
   "cell_type": "markdown",
   "id": "e7a92cb7",
   "metadata": {},
   "source": [
    "As we might intuit, the marginal probability for an event for an independent random variable\n",
    "is simply the probability of the event. It is the idea of probability of a single random variable\n",
    "that are familiar with:\n",
    "\n",
    "Marginal Probability : P (A)\n",
    "\n",
    "We refer to the marginal probability of an independent probability as simply the probability."
   ]
  },
  {
   "cell_type": "markdown",
   "id": "1f33c689",
   "metadata": {},
   "source": [
    "Similarly, the conditional probability of A given B when the variables are independent is simply\n",
    "the probability of A as the probability of B has no effect. For example:\n",
    "\n",
    "Conditional Probability : P (A|B) = P (A)"
   ]
  },
  {
   "cell_type": "markdown",
   "id": "40b83eec",
   "metadata": {},
   "source": [
    "We may be familiar with the notion of statistical independence from sampling. This assumes\n",
    "that one sample is unaffected by prior samples and does not affect future samples. Many\n",
    "machine learning algorithms assume that samples from a domain are independent to each other\n",
    "and come from the same probability distribution, referred to as independent and identically\n",
    "distributed, or i.i.d. for short."
   ]
  },
  {
   "cell_type": "markdown",
   "id": "a2d0ff34",
   "metadata": {},
   "source": [
    "### Exclusivity"
   ]
  },
  {
   "cell_type": "markdown",
   "id": "6878f51f",
   "metadata": {},
   "source": [
    "If the occurrence of one event excludes the occurrence of other events, then the events are said\n",
    "to be mutually exclusive. The probability of the events are said to be disjoint, meaning that\n",
    "they cannot interact, are strictly independent. If the probability of event A is mutually exclusive\n",
    "with event B, then the joint probability of event A and event B is zero.\n",
    "P (A ∩ B) = 0.0\n",
    "\n",
    "Instead, the probability of an outcome can be described as event A or event B, stated\n",
    "formally as follows:\n",
    "\n",
    "P (A or B) = P (A ∪ B) = P (A) + P (B)\n"
   ]
  },
  {
   "cell_type": "markdown",
   "id": "0c31a64c",
   "metadata": {},
   "source": [
    "If the events are not mutually exclusive, we may be interested in the outcome of either event.\n",
    "The probability of non-mutually exclusive events is calculated as the probability of event A and\n",
    "the probability of event B minus the probability of both events occurring simultaneously. This\n",
    "can be stated formally as follows:\n",
    "\n",
    "P (A ∪ B) = P (A) + P (B) − P (A ∩ B)"
   ]
  },
  {
   "cell_type": "code",
   "execution_count": null,
   "id": "ca6f6e1e",
   "metadata": {},
   "outputs": [],
   "source": []
  },
  {
   "cell_type": "code",
   "execution_count": null,
   "id": "af0d2a4c",
   "metadata": {},
   "outputs": [],
   "source": []
  },
  {
   "cell_type": "code",
   "execution_count": null,
   "id": "6e47e747",
   "metadata": {},
   "outputs": [],
   "source": []
  }
 ],
 "metadata": {
  "kernelspec": {
   "display_name": "Python 3 (ipykernel)",
   "language": "python",
   "name": "python3"
  }
 },
 "nbformat": 4,
 "nbformat_minor": 5
}
