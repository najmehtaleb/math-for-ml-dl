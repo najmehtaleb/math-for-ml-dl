{
 "cells": [
  {
   "cell_type": "markdown",
   "id": "a7515c2d",
   "metadata": {},
   "source": [
    "# Introduction"
   ]
  },
  {
   "cell_type": "markdown",
   "id": "e2747381",
   "metadata": {},
   "source": [
    "## What is Probability?"
   ]
  },
  {
   "cell_type": "markdown",
   "id": "8b12336a",
   "metadata": {},
   "source": [
    "**What is Probability?** \\\n",
    "Uncertainty involves making decisions with incomplete information, and this is the way we generally operate in the world. Handling uncertainty is typically described using everyday words like chance, luck, and risk. Probability is a field of mathematics that gives us the language and tools to quantify the uncertainty of events and reason in a principled manner.\n",
    "\n",
    "Probability theory is the mathematics of uncertainty. Uncertainty refers to imperfect or incomplete information. The world is messy and imperfect and we must make decisions and operate in the face of this uncertainty.For example, we often talk about luck, chance, odds,\n",
    "likelihood, and risk. These are words that we use to interpret and negotiate uncertainty in the\n",
    "world. When making inferences and reasoning in an uncertain world, we need principled, formal\n",
    "methods to express and solve problems. Probability provides the language and tools to handle\n",
    "uncertainty."
   ]
  },
  {
   "cell_type": "markdown",
   "id": "9c5b7fe1",
   "metadata": {},
   "source": [
    "The probability, or likelihood, of an event is also commonly referred to as the odds of the event or the chance of the event. These all generally refer to the same notion, although odds often has its own notation of wins to losses, written as w:1; e.g. 1:3 for a 1 win and 3 losses or 1/4 (25%) probability of a win."
   ]
  },
  {
   "cell_type": "markdown",
   "id": "0f5426bd",
   "metadata": {},
   "source": [
    "Probability theory has three important concepts:\n",
    "* **Event (A)**: An outcome to which a probability is assigned.\n",
    "* **Sample Space (S)**: The set of possible outcomes or events.\n",
    "* **Probability Function (P)**: The function used to assign a probability to an event"
   ]
  },
  {
   "cell_type": "markdown",
   "id": "129e6789",
   "metadata": {},
   "source": [
    "The likelihood of an event (A) being drawn from the sample space (S) is determined by the probability function (P ). The shape or distribution of all events in the sample space is called the\n",
    "probability distribution. Many domains have a familiar shape to the distribution of probabilities to events, such as uniform if all events are equally likely or Gaussian if the likelihood of the\n",
    "events forms a normal or bell-shape."
   ]
  },
  {
   "cell_type": "markdown",
   "id": "8b60e256",
   "metadata": {},
   "source": [
    "**Two Schools of Probability**\n",
    "\n",
    "There are two main ways of interpreting or thinking about probability. The perhaps simpler\n",
    "approach is to consider probability as the actual likelihood of an event, called the Frequentist\n",
    "probability. Another approach is to consider probability a notion of how strongly it is believed\n",
    "the event will occur, called Bayesian probability. It is not that one approach is correct and the\n",
    "other is incorrect; instead, they are complementary and both interpretations provide different\n",
    "and useful techniques.\n"
   ]
  },
  {
   "cell_type": "markdown",
   "id": "2635a3c2",
   "metadata": {},
   "source": [
    "**Frequentist Probability**\n",
    "\n",
    "The frequentist approach to probability is objective.\n",
    "Events are observed and counted, and their\n",
    "frequencies provide the basis for directly calculating a probability, hence the name frequentist.\n",
    "Probability theory was originally developed to analyze the frequencies of events.\n",
    "\n",
    "Methods from frequentist probability include p-values and confidence intervals used in\n",
    "statistical inference and maximum likelihood estimation for parameter estimation."
   ]
  },
  {
   "cell_type": "markdown",
   "id": "85a883db",
   "metadata": {},
   "source": [
    "**Bayesian Probability**\n",
    "\n",
    "The Bayesian approach to probability is subjective. Probabilities are assigned to events based on\n",
    "evidence and personal belief and are centered around Bayes’ theorem, hence the name Bayesian.\n",
    "This allows probabilities to be assigned to very infrequent events and events that have not been\n",
    "observed before, unlike frequentist probability.\n",
    "\n",
    "One big advantage of the Bayesian interpretation is that it can be used to model\n",
    "our uncertainty about events that do not have long term frequencies.\n",
    "\n",
    "Methods from Bayesian probability include Bayes factors and credible interval for inference\n",
    "and Bayes estimator and maximum a posteriori estimation for parameter estimation."
   ]
  },
  {
   "cell_type": "markdown",
   "id": "834d77d3",
   "metadata": {},
   "source": [
    "## Uncertainty in Machine Learning"
   ]
  },
  {
   "cell_type": "markdown",
   "id": "3761ae22",
   "metadata": {},
   "source": [
    "There are many sources of uncertainty\n",
    "in a machine learning project, including variance in the specific data values, the sample of data\n",
    "collected from the domain, and in the imperfect nature of any models developed from such data.\n",
    "\n",
    "Noise in data, incomplete coverage of the domain, and imperfect models provide the three\n",
    "main sources of uncertainty in machine learning."
   ]
  },
  {
   "cell_type": "markdown",
   "id": "8701534d",
   "metadata": {},
   "source": [
    "Applied machine learning requires getting comfortable with uncertainty. Uncertainty means\n",
    "working with imperfect or incomplete information.For software engineers and developers,\n",
    "computers are deterministic. You write a program, and the computer does what you say.\n",
    "Algorithms are analyzed based on space or time complexity and can be chosen to optimize\n",
    "whichever is most important to the project, like execution speed or memory constraints."
   ]
  },
  {
   "cell_type": "markdown",
   "id": "186c2fa9",
   "metadata": {},
   "source": [
    "There are three main sources of uncertainty in machine learning:\n",
    "\n",
    "**Noise in Observations**\n",
    "\n",
    "An observation from\n",
    "the domain is often referred to as an instance or a example and is one row of data. It is what\n",
    "was measured or what was collected. It is the data that describes the object or subject. It is\n",
    "the input to a model and the expected output.\n",
    "\n",
    "Noise refers to variability in the observation. Variability could be natural, such as a larger or\n",
    "smaller flower than normal. It could also be an error, such as a slip when measuring or a typo\n",
    "when writing it down. This variability impacts not just the inputs or measurements but also\n",
    "the outputs; for example, an observation could have an incorrect class label. This means that\n",
    "although we have observations for the domain, we must expect some variability or randomness."
   ]
  },
  {
   "cell_type": "markdown",
   "id": "50f841dc",
   "metadata": {},
   "source": [
    "**Incomplete Coverage of the Domain**\n",
    "\n",
    "Observations from a domain used to train a model are a sample and incomplete by definition. In\n",
    "statistics, a random sample refers to a collection of observations chosen from the domain without\n",
    "systematic bias (e.g. uniformly random). Nevertheless, there will always be some limitation\n",
    "that will introduce bias. For example, we might choose to measure the size of randomly selected\n",
    "flowers in one garden. The flowers are randomly selected, but the scope is limited to one garden.\n",
    "Scope can be increased to gardens in one city, across a country, across a continent, and so on.\n",
    "\n",
    "An appropriate level of variance and bias in the sample is required such that the sample\n",
    "is representative of the task or project for which the data or model will be used. We aim to\n",
    "collect or obtain a suitably representative random sample of observations to train and evaluate\n",
    "a machine learning model. Often, we have little control over the sampling process. Instead, we\n",
    "access a database or CSV file and the data we have is the data we must work with. In all cases,\n",
    "we will never have all of the observations. If we did, a predictive model would not be required.\n",
    "This means that there will always be some unobserved cases. There will be part of the problem\n",
    "domain for which we do not have coverage.\n",
    "\n",
    "This is why we split a dataset into train and test sets or use resampling methods like k-fold\n",
    "cross-validation. We do this to handle the uncertainty in the representativeness of our dataset\n",
    "and estimate the performance of a modeling procedure on data not used in that procedure."
   ]
  },
  {
   "cell_type": "markdown",
   "id": "e5307449",
   "metadata": {},
   "source": [
    "**Imperfect Model of the Problem**\n",
    "\n",
    "A machine learning model will always have some error. This is often summarized as all models\n",
    "are wrong, or more completely in an aphorism by George Box:\n",
    "All models are wrong but some are useful.\n",
    "\n",
    "This does not apply just to the model, the artifact, but the whole procedure used to prepare\n",
    "it, including the choice and preparation of data, choice of training hyperparameters, and the\n",
    "interpretation of model predictions. Model error could mean imperfect predictions, such as\n",
    "predicting a quantity in a regression problem that is quite different to what was expected, or\n",
    "predicting a class label that does not match what would be expected. This type of error in\n",
    "prediction is expected given the uncertainty we have about the data that we have just discussed,\n",
    "both in terms of noise in the observations and incomplete coverage of the domain.\n",
    "\n",
    "Another type of error is an error of omission. We leave out details or abstract them in order\n",
    "to generalize to new cases. This is achieved by selecting models that are simpler but more\n",
    "robust to the specifics of the data, as opposed to complex models that may be highly specialized\n",
    "to the training data. As such, we might and often do choose a model known to make errors on\n",
    "the training dataset with the expectation that the model will generalize better to new cases and\n",
    "have better overall performance."
   ]
  },
  {
   "cell_type": "markdown",
   "id": "4451f51e",
   "metadata": {},
   "source": [
    "**How to Manage Uncertainty**\n",
    "\n",
    "**In terms of noisy observations**, probability and statistics help us to understand and quantify the expected value and variability of variables in our observations from the domain.\n",
    "\n",
    "**In terms of the incomplete coverage of the domain**, probability helps to understand and quantify the expected distribution and density of observations in the domain.\n",
    "\n",
    "**In terms of model error**, probability helps to understand and quantify the expected capability and variance in performance of our predictive models when applied to new data.\n",
    "\n",
    "But this is just the beginning, as probability provides the foundation for the iterative training\n",
    "of many machine learning models, called maximum likelihood estimation, behind models such\n",
    "as linear regression, logistic regression, artificial neural networks, and much more. Probability\n",
    "also provides the basis for developing specific algorithms, such as Naive Bayes, as well as entire\n",
    "subfields of study in machine learning, such as graphical models like the Bayesian Belief Network."
   ]
  },
  {
   "cell_type": "markdown",
   "id": "9b39337b",
   "metadata": {},
   "source": [
    "## Why Learn Probability for Machine Learning"
   ]
  },
  {
   "cell_type": "markdown",
   "id": "41ae9b6a",
   "metadata": {},
   "source": [
    "* Class Membership Requires Predicting a Probability\n",
    "* Some Algorithms Are Designed Using Probability\n",
    "    * `Naive Bayes` which  is constructed using Bayes Theorem with some simplifying assumptions.\n",
    "    * `Probabilistic Graphical Models (PGM)` are designed around Bayes Theorem.\n",
    "    * `Bayesian Belief Networks` or Bayes Nets, which are capable of capturing the conditional dependencies  between variables.\n",
    "* Models Are Trained Using a Probabilistic Framework\n",
    "\n",
    "Many machine learning models are trained using an iterative algorithm designed under a\n",
    "probabilistic framework. Perhaps the most common is the framework of maximum likelihood\n",
    "estimation, sometimes shorted as MLE. This is a framework for estimating model parameters\n",
    "(e.g. weights) given observed data. This is the framework that underlies the ordinary least\n",
    "squares estimate of a linear regression model. The expectation-maximization algorithm, or\n",
    "EM for short, is an approach for maximum likelihood estimation often used for unsupervised\n",
    "data clustering, e.g. estimating k means for k clusters, also known as the k-Means clustering\n",
    "algorithm.\n",
    "\n",
    "For models that predict class membership, maximum likelihood estimation provides the\n",
    "framework for minimizing the difference or divergence between an observed and a predicted\n",
    "probability distribution. This is used in classification algorithms like logistic regression as\n",
    "well as deep learning neural networks. It is common to measure this difference in probability\n",
    "distributions during training using entropy, e.g. via cross-entropy. Entropy, differences between\n",
    "distributions measured via KL divergence, and cross-entropy are from the field of information\n",
    "theory that directly builds upon probability theory. For example, entropy is calculated directly\n",
    "as the negative log of the probability.\n",
    "\n",
    "* Models Can Be Tuned With a Probabilistic Framework\n",
    "* Probabilistic Measures Are Used to Evaluate Model Skill"
   ]
  },
  {
   "cell_type": "code",
   "execution_count": null,
   "id": "eaf9338d",
   "metadata": {},
   "outputs": [],
   "source": []
  },
  {
   "cell_type": "code",
   "execution_count": null,
   "id": "c103b740",
   "metadata": {},
   "outputs": [],
   "source": []
  },
  {
   "cell_type": "code",
   "execution_count": null,
   "id": "9efbef3e",
   "metadata": {},
   "outputs": [],
   "source": []
  },
  {
   "cell_type": "code",
   "execution_count": null,
   "id": "37919618",
   "metadata": {},
   "outputs": [],
   "source": []
  },
  {
   "cell_type": "code",
   "execution_count": null,
   "id": "7f489bf7",
   "metadata": {},
   "outputs": [],
   "source": []
  },
  {
   "cell_type": "code",
   "execution_count": null,
   "id": "f019f60d",
   "metadata": {},
   "outputs": [],
   "source": []
  },
  {
   "cell_type": "code",
   "execution_count": null,
   "id": "110eca09",
   "metadata": {},
   "outputs": [],
   "source": []
  },
  {
   "cell_type": "code",
   "execution_count": null,
   "id": "11faf4c7",
   "metadata": {},
   "outputs": [],
   "source": []
  },
  {
   "cell_type": "code",
   "execution_count": null,
   "id": "c287c4a8",
   "metadata": {},
   "outputs": [],
   "source": []
  },
  {
   "cell_type": "code",
   "execution_count": null,
   "id": "190d90be",
   "metadata": {},
   "outputs": [],
   "source": []
  },
  {
   "cell_type": "code",
   "execution_count": null,
   "id": "b4aea0c3",
   "metadata": {},
   "outputs": [],
   "source": []
  },
  {
   "cell_type": "code",
   "execution_count": null,
   "id": "a59c93e8",
   "metadata": {},
   "outputs": [],
   "source": []
  }
 ],
 "metadata": {
  "kernelspec": {
   "display_name": "Python 3 (ipykernel)",
   "language": "python",
   "name": "python3"
  }
 },
 "nbformat": 4,
 "nbformat_minor": 5
}
