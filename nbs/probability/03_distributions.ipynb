{
 "cells": [
  {
   "cell_type": "markdown",
   "id": "a62eccef",
   "metadata": {},
   "source": [
    "# Probability Distributions"
   ]
  },
  {
   "cell_type": "markdown",
   "id": "ebe4cd7b",
   "metadata": {},
   "source": [
    "The structure and type of the probability distribution varies based on the properties\n",
    "of the random variable, such as continuous or discrete, and this, in turn, impacts how the\n",
    "distribution might be summarized or how to calculate the most likely outcome and its probability.\n",
    "\n",
    "* Random variables in probability have a defined domain and can be continuous or discrete.\n",
    "* Probability distributions summarize the relationship between possible values and their probability for a random variable.\n",
    "* Probability density or mass functions map values to probabilities and cumulative distribution functions map outcomes less than or equal to a value to a probability."
   ]
  },
  {
   "cell_type": "markdown",
   "id": "ae11620d",
   "metadata": {},
   "source": [
    "**Random Variable**\n",
    "\n",
    "A random variable is often denoted as a capital letter, e.g. X, and values of the random\n",
    "variable are denoted as a lowercase letter and an index, e.g. x 1 , x 2 , x 3 .\n",
    "Upper-case letters like X denote a random variable, while lower-case letters like x\n",
    "denote the value that the random variable takes.\n",
    "\n",
    "The values that a random variable can take is called its domain, and the domain of a random\n",
    "variable may be discrete or continuous.\n"
   ]
  },
  {
   "cell_type": "markdown",
   "id": "3dcd4dfc",
   "metadata": {},
   "source": [
    "A discrete random variable has a finite set of states: for example, colors of a car. A random\n",
    "variable that has values true or false is discrete and is referred to as a Boolean random variable:\n",
    "for example, a coin toss. A continuous random variable has a range of numerical values: for\n",
    "example, the height of humans.\n",
    "* Discrete Random Variable. Values are drawn from a finite set of states.\n",
    "* Boolean Random Variable. Values are drawn from the set of {true, false}.\n",
    "* Continuous Random Variable. Values are drawn from a range of real-valued numerical\n",
    "values."
   ]
  },
  {
   "cell_type": "markdown",
   "id": "a37e9762",
   "metadata": {},
   "source": [
    "A value of a random variable can be specified via an equals operator: for example, X = T rue.\n",
    "The probability of a random variable is denoted as a function using the upper case P or P r; for\n",
    "example, P (X) is the probability of all values for the random variable X. The probability of a\n",
    "value of a random variable can be denoted P (X = T rue), in this case indicating the probability\n",
    "of the X random variable having the value True."
   ]
  },
  {
   "cell_type": "markdown",
   "id": "7a9c96c7",
   "metadata": {},
   "source": [
    "## Probability Distribution"
   ]
  },
  {
   "cell_type": "markdown",
   "id": "008437b5",
   "metadata": {},
   "source": [
    "A probability distribution is a summary of probabilities for the possible values of a random\n",
    "variable. As a distribution, the mapping of the values of a random variable to a probability\n",
    "has a shape when all values of the random variable are lined up. The distribution also has\n",
    "general properties that can be measured. Two important properties of a probability distribution\n",
    "are the expected value and the variance. Mathematically, these are referred to as the first and\n",
    "second moments of the distribution. Other moments include the skewness (3rd moment) and\n",
    "the kurtosis (4th moment)."
   ]
  },
  {
   "cell_type": "markdown",
   "id": "3e7bffff",
   "metadata": {},
   "source": [
    "The expected\n",
    "value is the average or mean value of a random variable X. This is the most likely value or the\n",
    "outcome with the highest probability. It is typically denoted as a function of the uppercase\n",
    "letter E with square brackets: for example, E[X] for the expected value of X or E[f (x)] where\n",
    "the function f () is used to sample a value from the domain of X.\n",
    "\n",
    "The expectation value (or the mean) of a random variable X is denoted by E(X)."
   ]
  },
  {
   "cell_type": "markdown",
   "id": "0d377989",
   "metadata": {},
   "source": [
    "The variance is the spread of the values of a random variable from the mean. This is typically\n",
    "denoted as a function V ar; for example, V ar(X) is the variance of the random variable X or\n",
    "V ar(f (x)) for the variance of values drawn from the domain of X using the function f (). The\n",
    "square root of the variance normalizes the value and is referred to as the standard deviation. The\n",
    "variance between two variables is called the covariance and summarizes the linear relationship\n",
    "for how two random variables change together.\n",
    "\n",
    "* Expected Value. The average value of a random variable.\n",
    "* Variance. The average spread of values around the expected value.\n",
    "* Covariance: The variance between two variables is called the covariance and summarizes the linear relationship for how two random variables change together."
   ]
  },
  {
   "cell_type": "markdown",
   "id": "1b3a4696",
   "metadata": {},
   "source": [
    "Each random variable has its own probability distribution, although the probability distribu-\n",
    "tion of many different random variables may have the same shape. Most common probability\n",
    "distributions can be defined using a few parameters and provide procedures for calculating\n",
    "the expected value and the variance. The structure of the probability distribution will differ\n",
    "depending on whether the random variable is discrete or continuous."
   ]
  },
  {
   "cell_type": "markdown",
   "id": "067f7ab1",
   "metadata": {},
   "source": [
    "## Discrete Probability Distributions"
   ]
  },
  {
   "cell_type": "markdown",
   "id": "163bcc53",
   "metadata": {},
   "source": [
    "A discrete probability distribution summarizes the probabilities for a discrete random variable.\n",
    "The probability mass function, or PMF, defines the probability distribution for a discrete\n",
    "random variable. It is a function that assigns a probability for specific discrete values. A discrete\n",
    "probability distribution has a cumulative distribution function, or CDF. This is a function that\n",
    "assigns a probability that a discrete random variable will have a value of less than or equal to a\n",
    "specific discrete value.\n",
    "\n",
    "* Probability Mass Function. Probability for a value for a discrete random variable.\n",
    "* Cumulative Distribution Function. Probability less than or equal to a value for a\n",
    "random variable."
   ]
  },
  {
   "cell_type": "markdown",
   "id": "77af2df5",
   "metadata": {},
   "source": [
    "The values of the random variable may or may not be ordinal, meaning they may or may\n",
    "not be ordered on a number line, e.g. counts can, car color cannot. In this case, the structure of\n",
    "the PMF and CDF may be discontinuous, or may not form a neat or clean transition in relative\n",
    "probabilities across values. The expected value for a discrete random variable can be calculated\n",
    "from a sample using the mode, e.g. finding the most common value. The sum of probabilities in\n",
    "the PMF equals to one. Some examples of well known discrete probability distributions include:\n",
    "* Bernoulli and binomial distributions.\n",
    "* Multinoulli and multinomial distributions.\n",
    "* Poisson distribution."
   ]
  },
  {
   "cell_type": "markdown",
   "id": "b557a643",
   "metadata": {},
   "source": [
    "* The probabilities of dice rolls form a discrete uniform distribution.\n",
    "* The probabilities of coin flips form a Bernoulli distribution.\n",
    "* The probabilities car colors form a multinomial distribution."
   ]
  },
  {
   "cell_type": "markdown",
   "id": "9af795d5",
   "metadata": {},
   "source": [
    "Discrete probability distributions are used in machine learning, most notably\n",
    "in the modeling of binary and multiclass classification problems, but also in evaluating the\n",
    "performance for binary classification models, such as the calculation of confidence intervals, and\n",
    "in the modeling of the distribution of words in text for natural language processing.\n",
    "Knowledge\n",
    "of discrete probability distributions is also required in the choice of activation functions in the\n",
    "output layer of deep learning neural networks for classification tasks and selecting an appropriate\n",
    "loss function."
   ]
  },
  {
   "cell_type": "markdown",
   "id": "906164c3",
   "metadata": {},
   "source": [
    "* The probability of outcomes for discrete random variables can be summarized using discrete probability distributions.\n",
    "* A single binary outcome has a Bernoulli distribution, and a sequence of binary outcomes has a Binomial distribution.\n",
    "* A single categorical outcome has a Multinoulli distribution, and a sequence of categorical outcomes has a Multinomial distribution."
   ]
  },
  {
   "cell_type": "markdown",
   "id": "44b0ddeb",
   "metadata": {},
   "source": [
    "A discrete random variable\n",
    "is a random variable that can have one of a finite set of specific outcomes. The two types of\n",
    "discrete random variables most commonly used in machine learning are binary and categorical.\n",
    "* Binary Random Variable: x ∈ {0, 1}. A binary random variable is a discrete random variable where the finite set of outcomes is in {0, 1}.\n",
    "* Categorical Random Variable: x ∈ {1, 2, · · · , K}. A categorical random variable is a discrete random variable where the finite set of outcomes is in {1, 2, · · · , K}, where K is the total number of unique outcomes."
   ]
  },
  {
   "cell_type": "markdown",
   "id": "772eb7a7",
   "metadata": {},
   "source": [
    "The relationship between the events for\n",
    "a discrete random variable and their probabilities is called the discrete probability distribution\n",
    "and is summarized by a probability mass function, or PMF for short. For outcomes that can\n",
    "be ordered, the probability of an event equal to or less than a given value is defined by the\n",
    "cumulative distribution function, or CDF for short. The inverse of the CDF is called the\n",
    "percentage-point function and will give the discrete outcome that is less than or equal to a\n",
    "probability.\n",
    "\n",
    "* PMF: Probability Mass Function, returns the probability of a given outcome.\n",
    "* CDF: Cumulative Distribution Function, returns the probability of a value less than\n",
    "or equal to a given outcome.\n",
    "* PPF: Percent-Point Function, returns a discrete value that is less than or equal to\n",
    "the given probability."
   ]
  },
  {
   "cell_type": "markdown",
   "id": "1eb4be44",
   "metadata": {},
   "source": [
    "There are many common discrete probability distributions. The most common are the\n",
    "Bernoulli and Multinoulli distributions for binary and categorical discrete random variables\n",
    "respectively, and the Binomial and Multinomial distributions that generalize each to multiple\n",
    "independent trials.\n",
    "\n",
    "* Binary Random Variable: Bernoulli Distribution.\n",
    "* Sequence of a Binary Random Variable: Binomial Distribution.\n",
    "* Categorical Random Variable: Multinoulli Distribution.\n",
    "* Sequence of a Categorical Random Variable: Multinomial Distribution.\n",
    "\n",
    "There are additional discrete probability distributions that you may want to explore, including\n",
    "the Poisson Distribution and the Discrete Uniform Distribution."
   ]
  },
  {
   "cell_type": "markdown",
   "id": "074495c4",
   "metadata": {},
   "source": [
    "### Bernoulli Distribution"
   ]
  },
  {
   "cell_type": "markdown",
   "id": "f8b88ee8",
   "metadata": {},
   "source": [
    "The Bernoulli distribution is a discrete probability distribution that covers a case where an\n",
    "event will have a binary outcome as either a 0 or 1.\n",
    "x ∈ {0, 1}\n",
    "\n",
    "A Bernoulli trial is an experiment or case where the outcome follows a Bernoulli distribution.Some\n",
    "common examples of Bernoulli trials include:\n",
    "* The single flip of a coin that may have a heads (0) or a tails (1) outcome.\n",
    "* A single birth of either a boy (0) or a girl (1).\n",
    "\n",
    "A common example of a Bernoulli trial in machine learning might be a binary classification of\n",
    "a single example as the first class (0) or the second class (1). The distribution can be summarized\n",
    "by a single variable p that defines the probability of an outcome 1. Given this parameter, the\n",
    "probability for each event can be calculated as follows:\n",
    "\n",
    "P (x = 1) = p \\\n",
    "P (x = 0) = 1 − p"
   ]
  },
  {
   "cell_type": "markdown",
   "id": "a7d630e6",
   "metadata": {},
   "source": [
    "### Binomial Distribution"
   ]
  },
  {
   "cell_type": "markdown",
   "id": "fb6a309d",
   "metadata": {},
   "source": [
    "The repetition of multiple independent Bernoulli trials is called a Bernoulli process. The\n",
    "outcomes of a Bernoulli process will follow a Binomial distribution. As such, the Bernoulli\n",
    "distribution would be a Binomial distribution with a single trial. Some common examples of\n",
    "Bernoulli processes include:\n",
    "* A sequence of independent coin flips.\n",
    "* A sequence of independent births.\n",
    "\n",
    "The performance of a machine learning algorithm on a binary classification problem can be\n",
    "analyzed as a Bernoulli process, where the prediction by the model on an example from a test\n",
    "set is a Bernoulli trial (correct or incorrect). The Binomial distribution summarizes the number\n",
    "of successes k in a given number of Bernoulli trials n, with a given probability of success for\n",
    "each trial p."
   ]
  },
  {
   "cell_type": "markdown",
   "id": "caa50641",
   "metadata": {},
   "source": [
    "We can demonstrate this with a Bernoulli process where the probability of success\n",
    "is 30% or P (x = 1) = 0.3 and the total number of trials is 100 (k = 100).\n",
    "\n",
    "This can be achieved via the binomial() NumPy\n",
    "function. This function takes the total number of trials and probability of success as arguments\n",
    "and returns the number of successful outcomes across the trials for one simulation."
   ]
  },
  {
   "cell_type": "code",
   "execution_count": null,
   "id": "423fe872",
   "metadata": {},
   "outputs": [
    {
     "name": "stdout",
     "output_type": "stream",
     "text": [
      "Total Success is: 28\n"
     ]
    }
   ],
   "source": [
    "# example of simulating a binomial process and counting success\n",
    "from numpy.random import binomial\n",
    "\n",
    "# define the parameters of the distribution\n",
    "p = 0.3 #probability of success\n",
    "n = 100 # Total number of trials\n",
    "\n",
    "# run a single simulation\n",
    "success = binomial(n, p)\n",
    "print(f'Total Success is: {success}')"
   ]
  },
  {
   "cell_type": "markdown",
   "id": "e089c80d",
   "metadata": {},
   "source": [
    "We can calculate the moments of this distribution, specifically the expected value or mean\n",
    "and the variance using the binom.stats() SciPy function."
   ]
  },
  {
   "cell_type": "code",
   "execution_count": null,
   "id": "33b22421",
   "metadata": {},
   "outputs": [
    {
     "name": "stdout",
     "output_type": "stream",
     "text": [
      "Mean=30.0, Variance=21.0\n"
     ]
    }
   ],
   "source": [
    "from scipy.stats import binom\n",
    "\n",
    "mean, var,_,_ = binom.stats(n, p, moments='mvsk')\n",
    "print(f'Mean={mean}, Variance={var}')"
   ]
  },
  {
   "cell_type": "markdown",
   "id": "c06376fc",
   "metadata": {},
   "source": [
    "We can use the probability mass function to calculate the likelihood of different numbers of successful outcomes for a sequence of trials, such as 10, 20, 30, to 100. We would expect 30 successful outcomes to have the highest probability.\n",
    "\n",
    "Running the example defines the binomial distribution and calculates the probability for each\n",
    "number of successful outcomes in [10, 100] in groups of 10. The probabilities are multiplied by\n",
    "100 to give percentages, and we can see that 30 successful outcomes has the highest probability\n",
    "at about 8.6%."
   ]
  },
  {
   "cell_type": "code",
   "execution_count": null,
   "id": "c0633cd4",
   "metadata": {},
   "outputs": [
    {
     "name": "stdout",
     "output_type": "stream",
     "text": [
      "Probability of 10 success is: 0.000%\n",
      "Probability of 20 success is: 0.758%\n",
      "Probability of 30 success is: 8.678%\n",
      "Probability of 40 success is: 0.849%\n",
      "Probability of 50 success is: 0.001%\n",
      "Probability of 60 success is: 0.000%\n",
      "Probability of 70 success is: 0.000%\n",
      "Probability of 80 success is: 0.000%\n",
      "Probability of 90 success is: 0.000%\n",
      "Probability of 100 success is: 0.000%\n"
     ]
    }
   ],
   "source": [
    "dist = binom(n, p)\n",
    "\n",
    "for n in range(10, 110, 10):\n",
    "    print(f'Probability of {n} success is: {dist.pmf(n)*100 :0.3f}%')"
   ]
  },
  {
   "cell_type": "markdown",
   "id": "ae586722",
   "metadata": {},
   "source": [
    "Running the example prints each number of successes in [10, 100] in groups of 10 and the\n",
    "probability of achieving that many success or less over 100 trials. As expected, after 50 successes\n",
    "or less covers 99.999% of the successes expected to happen in this distribution."
   ]
  },
  {
   "cell_type": "code",
   "execution_count": null,
   "id": "a67d28eb",
   "metadata": {},
   "outputs": [
    {
     "name": "stdout",
     "output_type": "stream",
     "text": [
      "Probbaility of less than 10 success is: 0.000%\n",
      "Probbaility of less than 20 success is: 1.646%\n",
      "Probbaility of less than 30 success is: 54.912%\n",
      "Probbaility of less than 40 success is: 98.750%\n",
      "Probbaility of less than 50 success is: 99.999%\n",
      "Probbaility of less than 60 success is: 100.000%\n",
      "Probbaility of less than 70 success is: 100.000%\n",
      "Probbaility of less than 80 success is: 100.000%\n",
      "Probbaility of less than 90 success is: 100.000%\n",
      "Probbaility of less than 100 success is: 100.000%\n"
     ]
    }
   ],
   "source": [
    "for n in range(10, 110, 10):\n",
    "    print(f'Probbaility of less than {n} success is: {dist.cdf(n)*100:0.3f}%')"
   ]
  },
  {
   "cell_type": "markdown",
   "id": "1da6e5f7",
   "metadata": {},
   "source": [
    "### Multinoulli Distribution"
   ]
  },
  {
   "cell_type": "markdown",
   "id": "847c6b27",
   "metadata": {},
   "source": [
    "The Multinoulli distribution, also called the categorical distribution, covers the case where an\n",
    "event will have one of K possible outcomes.\n",
    "\n",
    "x ∈ {1, 2, 3, · · · , K}\n",
    "\n",
    "It is a generalization of the Bernoulli distribution from a binary variable to a categorical\n",
    "variable, where the number of cases K for the Bernoulli distribution is set to 2, K = 2. A\n",
    "common example that follows a Multinoulli distribution is:\n",
    "* A single roll of a die that will have an outcome in {1, 2, 3, 4, 5, 6}, e.g. K = 6.\n",
    "\n",
    "A common example of a Multinoulli distribution in machine learning might be a multiclass\n",
    "classification of a single example into one of K classes, e.g. one of three different species of the\n",
    "iris flower. The distribution can be summarized with p variables from p 1 to p K , each defining\n",
    "the probability of a given categorical outcome from 1 to K, and where all probabilities sum to\n",
    "1.0.\n",
    "\n",
    "P (x = 1) = p 1\n",
    "P (x = 2) = p 1\n",
    "P (x = 3) = p 3\n",
    "···\n",
    "P (x = K) = p K\n",
    "\n",
    "In the case of a single roll of a die, the probabilities for each value would be 16 , or about\n",
    "0.166 or about 16.6%."
   ]
  },
  {
   "cell_type": "markdown",
   "id": "9d69b93b",
   "metadata": {},
   "source": [
    "### Multinomial Distribution"
   ]
  },
  {
   "cell_type": "markdown",
   "id": "4ed9397f",
   "metadata": {},
   "source": [
    "The repetition of multiple independent Multinoulli trials will follow a multinomial distribution.\n",
    "The multinomial distribution is a generalization of the binomial distribution for a discrete variable\n",
    "with K outcomes. An example of a multinomial process includes a sequence of independent\n",
    "dice rolls. A common example of the multinomial distribution is the occurrence counts of words\n",
    "in a text document, from the field of natural language processing. A multinomial distribution is\n",
    "summarized by a discrete random variable with K outcomes, a probability for each outcome\n",
    "from p 1 to p K , and n successive trials."
   ]
  },
  {
   "cell_type": "markdown",
   "id": "62431c77",
   "metadata": {},
   "source": [
    "We can demonstrate this with a small example with 3 categories (K = 3) with equal\n",
    "probability (p=33.33%) and 100 trials. Firstly, we can use the multinomial() NumPy function\n",
    "to simulate 100 independent trials and summarize the number of times that the event resulted in\n",
    "each of the given categories. The function takes both the number of trials and the probabilities\n",
    "for each category as a list. The complete example is listed below.\n",
    "\n",
    "We would expect each category to have about 33 events."
   ]
  },
  {
   "cell_type": "code",
   "execution_count": null,
   "id": "ca9ac126",
   "metadata": {},
   "outputs": [
    {
     "name": "stdout",
     "output_type": "stream",
     "text": [
      "Case 1: 37\n",
      "Case 2: 36\n",
      "Case 3: 27\n"
     ]
    }
   ],
   "source": [
    "# # example of simulating a multinomial process\n",
    "from numpy.random import multinomial\n",
    "\n",
    "# define the parameters of the distribution\n",
    "p = [1.0/3.0, 1.0/3.0, 1.0/3.0]\n",
    "k = 100\n",
    "\n",
    "# run a single simulation\n",
    "dist = multinomial(k, p)\n",
    "for i in range(len(dist)):\n",
    "    print(f'Case {i+1}: {dist[i]}')"
   ]
  },
  {
   "cell_type": "markdown",
   "id": "789c9321",
   "metadata": {},
   "source": [
    "We might expect the idealized case of 100 trials to result in 33, 33, and 34 cases for events 1,\n",
    "2 and 3 respectively. We can calculate the probability of this specific combination occurring\n",
    "in practice using the probability mass function or multinomial.pmf() SciPy function. The\n",
    "complete example is listed below."
   ]
  },
  {
   "cell_type": "markdown",
   "id": "a91c5e8b",
   "metadata": {},
   "source": [
    "Running the example reports the probability of less than 1% for the idealized number of\n",
    "cases of [33, 33, 34] for each event type."
   ]
  },
  {
   "cell_type": "code",
   "execution_count": null,
   "id": "49afb824",
   "metadata": {},
   "outputs": [
    {
     "name": "stdout",
     "output_type": "stream",
     "text": [
      " Case=[33, 33, 34], Probability: 0.813% \n"
     ]
    }
   ],
   "source": [
    "# calculate the probability for a given number of events of each type\n",
    "\n",
    "from scipy.stats import multinomial\n",
    "\n",
    "# define the parameters of the distribution\n",
    "p = [1.0/3.0, 1.0/3.0, 1.0/3.0]\n",
    "k = 100\n",
    "\n",
    "# define the distribution\n",
    "dist = multinomial(k, p)\n",
    "\n",
    "# define a specific number of outcomes from 100 trials\n",
    "cases = [33, 33, 34]\n",
    "\n",
    "# calculate the probability for the case\n",
    "pr = dist.pmf(cases)\n",
    "\n",
    "# print as a percentage\n",
    "print( ' Case=%s, Probability: %.3f%% ' % (cases, pr*100))"
   ]
  },
  {
   "cell_type": "markdown",
   "id": "d1238f17",
   "metadata": {},
   "source": [
    "* The probability of outcomes for discrete random variables can be summarized using\n",
    "discrete probability distributions.\n",
    "* A single binary outcome has a Bernoulli distribution, and a sequence of binary outcomes\n",
    "has a Binomial distribution.\n",
    "* A single categorical outcome has a Multinoulli distribution, and a sequence of categorical\n",
    "outcomes has a Multinomial distribution."
   ]
  },
  {
   "cell_type": "markdown",
   "id": "5ad2609c",
   "metadata": {},
   "source": [
    "## Continuous Probability Distributions"
   ]
  },
  {
   "cell_type": "markdown",
   "id": "7385296b",
   "metadata": {},
   "source": [
    "Continuous probability distributions are encountered in machine learning,\n",
    "most notably in the distribution of numerical input and output variables for models and in\n",
    "the distribution of errors made by models. Knowledge of the normal continuous probability\n",
    "distribution is also required more generally in the density and parameter estimation performed by\n",
    "many machine learning models."
   ]
  },
  {
   "cell_type": "markdown",
   "id": "0113fce2",
   "metadata": {},
   "source": [
    "Unlike a discrete random variable, the probability for a given continuous random variable\n",
    "cannot be specified directly; instead, it is calculated as an integral (area under the curve) for a\n",
    "tiny interval around the specific outcome. The probability of an event equal to or less than a\n",
    "given value is defined by the cumulative distribution function, or CDF for short. The inverse of\n",
    "the CDF is called the percentage-point function and will give the discrete outcome that is less\n",
    "than or equal to a probability.\n",
    "\n",
    "* PDF: Probability Density Function, returns the probability of a given continuous\n",
    "outcome.\n",
    "* CDF: Cumulative Distribution Function, returns the probability of a value less than\n",
    "or equal to a given outcome.\n",
    "* PPF: Percent-Point Function, returns a discrete value that is less than or equal to\n",
    "the given probability."
   ]
  },
  {
   "cell_type": "markdown",
   "id": "005a1a0f",
   "metadata": {},
   "source": [
    "A continuous probability distribution summarizes the probability for a continuous random\n",
    "variable. The probability distribution function, or PDF, defines the probability distribution\n",
    "for a continuous random variable.\n",
    "Like a discrete probability distribution,\n",
    "the continuous probability distribution also has a cumulative distribution function, or CDF,\n",
    "that defines the probability of a value less than or equal to a specific numerical value from the\n",
    "domain.\n",
    "* Probability Distribution Function. Probability for a value for a continuous random\n",
    "variable.\n",
    "* Cumulative Distribution Function. Probability less than or equal to a value for a\n",
    "random variable."
   ]
  },
  {
   "cell_type": "markdown",
   "id": "fe27a371",
   "metadata": {},
   "source": [
    "There are many common continuous probability distributions. The most common is the\n",
    "normal probability distribution. Practically all continuous probability distributions of interest\n",
    "belong to the so-called exponential family of distributions, which are just a collection of\n",
    "parameterized probability distributions (e.g. distributions that change based on the values of\n",
    "parameters).\n",
    "\n",
    "Continuous probability distributions play an important role in machine learning from the\n",
    "distribution of input variables to the models, the distribution of errors made by models, and\n",
    "in the models themselves when estimating the mapping between inputs and outputs."
   ]
  },
  {
   "cell_type": "markdown",
   "id": "564a20d2",
   "metadata": {},
   "source": [
    "As a continuous function, the structure forms a smooth curve. Some examples of well-known continuous probability distributions include:\n",
    "* Normal or Gaussian distribution.\n",
    "* Exponential distribution.\n",
    "* Pareto distribution.\n",
    "\n",
    "Some examples of domains with well-known continuous probability distributions include:\n",
    "* The probabilities of the heights of humans form a Normal distribution.\n",
    "* The probabilities of movies being a hit form a Power-law distribution.\n",
    "* The probabilities of income levels form a Pareto distribution."
   ]
  },
  {
   "cell_type": "markdown",
   "id": "4fda6a1c",
   "metadata": {},
   "source": [
    "* Random variables in probability have a defined domain and can be continuous or discrete.\n",
    "* Probability distributions summarize the relationship between possible values and their probability for a random variable.\n",
    "* Probability density or mass functions map values to probabilities and cumulative distribution functions map outcomes less than or equal to a value to a probability."
   ]
  },
  {
   "cell_type": "markdown",
   "id": "6889f305",
   "metadata": {},
   "source": [
    "### Normal Distribution"
   ]
  },
  {
   "cell_type": "markdown",
   "id": "fff0b240",
   "metadata": {},
   "source": [
    "The normal distribution is also called the Gaussian distribution (named for Carl Friedrich\n",
    "Gauss) or the bell curve distribution. The distribution covers the probability of real-valued\n",
    "events from many different problem domains, making it a common and well-known distribution,\n",
    "hence the name normal. A continuous random variable that has a normal distribution is said to\n",
    "be normal or normally distributed. Some examples of domains that have normally distributed\n",
    "events include:\n",
    "* The heights of people.\n",
    "* The weights of babies.\n",
    "* The scores on a test."
   ]
  },
  {
   "cell_type": "markdown",
   "id": "90cd16ec",
   "metadata": {},
   "source": [
    "The distribution can be defined using two parameters:\n",
    "* Mean (mu or μ): The expected value.\n",
    "* Variance (sigma 2 or σ 2 ): The spread from the mean.\n",
    "* Standard Deviation (sigma or σ): The average spread from the mean.\n",
    "\n",
    "A normal distribution with a mean of zero and a standard deviation of 1 is called a standard\n",
    "normal distribution, and often data is reduced or standardized to this for analysis for ease of\n",
    "interpretation and comparison."
   ]
  },
  {
   "cell_type": "markdown",
   "id": "9821ca18",
   "metadata": {},
   "source": [
    "We can define a distribution with a mean of 50 and a standard\n",
    "deviation of 5 and sample random numbers from this distribution. We can achieve this using the normal() NumPy function. Running the example prints 10 numbers randomly sampled from the defined normal distri-\n",
    "bution."
   ]
  },
  {
   "cell_type": "code",
   "execution_count": null,
   "id": "01f724b7",
   "metadata": {},
   "outputs": [
    {
     "name": "stdout",
     "output_type": "stream",
     "text": [
      "[46.2058084  49.05613613 42.51165349 52.78140355 38.97850568 50.11030593\n",
      " 48.55113593 47.1842823  33.85826765 55.7023781 ]\n"
     ]
    }
   ],
   "source": [
    "# sample a normal distribution\n",
    "from numpy.random import normal\n",
    "\n",
    "# define the distribution\n",
    "mu = 50\n",
    "sigma = 5\n",
    "n = 10 \n",
    "\n",
    "# generate the sample\n",
    "samples = normal(mu, sigma, n)\n",
    "print(samples)"
   ]
  },
  {
   "cell_type": "markdown",
   "id": "9cb91660",
   "metadata": {},
   "source": [
    "A sample of data can be checked to see if it is normal by plotting it and checking for the\n",
    "familiar normal shape, or by using statistical tests. If the samples of observations of a random\n",
    "variable are normally distributed, then they can be summarized by just the mean and variance,\n",
    "calculated directly on the samples. We can calculate the probability of each observation using\n",
    "the probability density function. A plot of these values would give us the tell-tale bell shape."
   ]
  },
  {
   "cell_type": "markdown",
   "id": "997a978a",
   "metadata": {},
   "source": [
    "We\n",
    "can define a normal distribution using the norm() SciPy function and then calculate properties\n",
    "such as the moments, PDF, CDF, and more. The example below calculates the probability for\n",
    "integer values between 30 and 70 in our distribution and plots the result, then does the same\n",
    "for the cumulative probability."
   ]
  },
  {
   "cell_type": "code",
   "execution_count": null,
   "id": "ca3c03d5",
   "metadata": {},
   "outputs": [
    {
     "data": {
      "image/png": "[encoded data removed]",
      "text/plain": [
       "<Figure size 640x480 with 1 Axes>"
      ]
     },
     "metadata": {},
     "output_type": "display_data"
    }
   ],
   "source": [
    "# pdf and cdf for a normal distribution\n",
    "from scipy.stats import norm\n",
    "from matplotlib import pyplot\n",
    "\n",
    "# define distribution parameters\n",
    "mu = 50\n",
    "sigma = 5\n",
    "\n",
    "# create distribution\n",
    "dist = norm(mu, sigma)\n",
    "\n",
    "# plot pdf\n",
    "values = [value for value in range(30, 70)]\n",
    "probabilities = [dist.pdf(value) for value in values]\n",
    "pyplot.plot(values, probabilities)\n",
    "pyplot.show()"
   ]
  },
  {
   "cell_type": "markdown",
   "id": "197d33fd",
   "metadata": {},
   "source": [
    "Running the example first calculates the probability for integers in the range [30, 70] and\n",
    "creates a line plot of values and probabilities. The plot shows the Gaussian or bell-shape with\n",
    "the peak of highest probability around the expected value or mean of 50 with a probability of\n",
    "about 8%."
   ]
  },
  {
   "cell_type": "markdown",
   "id": "dbec5af7",
   "metadata": {},
   "source": [
    "The cumulative probabilities are then calculated for observations over the same range,\n",
    "showing that at the mean, we have covered about 50% of the expected values and very close to\n",
    "100% after the value of about 65 or 3 standard deviations from the mean (50 + (3 × 5))."
   ]
  },
  {
   "cell_type": "code",
   "execution_count": null,
   "id": "3ec61042",
   "metadata": {},
   "outputs": [
    {
     "data": {
      "image/png": "[encoded data removed]",
      "text/plain": [
       "<Figure size 640x480 with 1 Axes>"
      ]
     },
     "metadata": {},
     "output_type": "display_data"
    }
   ],
   "source": [
    "# plot cdf\n",
    "cprobs = [dist.cdf(value) for value in values]\n",
    "pyplot.plot(values, cprobs)\n",
    "pyplot.show()"
   ]
  },
  {
   "cell_type": "markdown",
   "id": "415e9cf5",
   "metadata": {},
   "source": [
    "In fact, the normal distribution has a heuristic or rule of thumb that defines the percentage\n",
    "of data covered by a given range by the number of standard deviations from the mean. It is\n",
    "called the 68-95-99.7 rule, which is the approximate percentage of the data covered by ranges\n",
    "defined by 1, 2, and 3 standard deviations from the mean."
   ]
  },
  {
   "cell_type": "markdown",
   "id": "d6eb80ed",
   "metadata": {},
   "source": [
    "For example, in our distribution with\n",
    "a mean of 50 and standard deviation of 5, we would expect 95% of the data to be covered by\n",
    "values that are 2 standard deviations from the mean, or 50 − (2 × 5) and 50 + (2 × 5) or between\n",
    "40 and 60. We can confirm this by calculating the exact values using the percentage-point\n",
    "function. The middle 95% would be defined by the percentage point function value for 2.5% at\n",
    "the low end and 97.5% at the high end, where 97.5 to 2.5 gives the middle 95%. The complete\n",
    "example is listed below."
   ]
  },
  {
   "cell_type": "code",
   "execution_count": null,
   "id": "6aa519a0",
   "metadata": {},
   "outputs": [
    {
     "name": "stdout",
     "output_type": "stream",
     "text": [
      "Middle 95% between  40.2 and  59.8\n"
     ]
    }
   ],
   "source": [
    "# calculate the values that define the middle 95%\n",
    "from scipy.stats import norm\n",
    "\n",
    "# define distribution parameters\n",
    "mu = 50\n",
    "sigma = 5\n",
    "\n",
    "# create distribution\n",
    "dist = norm(mu, sigma)\n",
    "\n",
    "low_end = dist.ppf(0.025)\n",
    "high_end = dist.ppf(0.975)\n",
    "print(f'Middle 95% between {low_end: 0.1f} and {high_end: 0.1f}')"
   ]
  },
  {
   "cell_type": "markdown",
   "id": "014213ad",
   "metadata": {},
   "source": [
    "An important related distribution is the Log-Normal probability distribution."
   ]
  },
  {
   "cell_type": "markdown",
   "id": "2d876f6a",
   "metadata": {},
   "source": [
    "### Exponential Distribution"
   ]
  },
  {
   "cell_type": "markdown",
   "id": "6a008112",
   "metadata": {},
   "source": [
    "The exponential distribution is a continuous probability distribution where a few outcomes are\n",
    "the most likely with a rapid decrease in probability to all other outcomes. It is the continuous\n",
    "random variable equivalent to the geometric probability distribution for discrete random variables.\n",
    "Some examples of domains that have exponential distribution events include:\n",
    "* The time between clicks on a Geiger counter.\n",
    "* The time until the failure of a part.\n",
    "* The time until the default of a loan.\n",
    "\n",
    "The distribution can be defined using one parameter:\n",
    "* Scale (Beta or β): The mean and standard deviation of the distribution.\n",
    "\n",
    "\n",
    "Sometimes the distribution is defined more formally with a parameter lambda or rate. The\n",
    "beta parameter is defined as the reciprocal of the lambda parameter (β = λ 1 )\n",
    "* Rate (lambda or λ) = Rate of change in the distribution."
   ]
  },
  {
   "cell_type": "markdown",
   "id": "df5d6c97",
   "metadata": {},
   "source": [
    "We can define a distribution with a mean of 50 and sample random numbers from this\n",
    "distribution. We can achieve this using the exponential() NumPy function. The example\n",
    "below samples and prints 10 numbers from this distribution."
   ]
  },
  {
   "cell_type": "code",
   "execution_count": null,
   "id": "c1ac05da",
   "metadata": {},
   "outputs": [
    {
     "name": "stdout",
     "output_type": "stream",
     "text": [
      "[ 26.00390615 238.69329655   0.24801164  39.32988685   6.80239972\n",
      "   2.16661426  20.20464917  13.32706905  22.96502669  65.09258785]\n"
     ]
    }
   ],
   "source": [
    "# sample an exponential distribution\n",
    "from numpy.random import exponential\n",
    "\n",
    "# define the distribution\n",
    "beta = 50\n",
    "n = 10\n",
    "\n",
    "# generate the sample\n",
    "samples = exponential(beta, n)\n",
    "print(samples)"
   ]
  },
  {
   "cell_type": "markdown",
   "id": "4419683d",
   "metadata": {},
   "source": [
    "Running the example prints 10 numbers randomly sampled from the defined distribution."
   ]
  },
  {
   "cell_type": "markdown",
   "id": "b6a171b9",
   "metadata": {},
   "source": [
    "We can define an exponential distribution using the expon() SciPy function and then\n",
    "calculate properties such as the moments, PDF, CDF, and more. The example below defines\n",
    "a range of observations between 50 and 70 and calculates the probability and cumulative\n",
    "probability for each and plots the result."
   ]
  },
  {
   "cell_type": "code",
   "execution_count": null,
   "id": "32c34006",
   "metadata": {},
   "outputs": [
    {
     "data": {
      "image/png": "[encoded data removed]",
      "text/plain": [
       "<Figure size 640x480 with 1 Axes>"
      ]
     },
     "metadata": {},
     "output_type": "display_data"
    }
   ],
   "source": [
    "# pdf and cdf for an exponential distribution\n",
    "from scipy.stats import expon\n",
    "from matplotlib import pyplot\n",
    "\n",
    "# define distribution parameter\n",
    "beta = 50\n",
    "\n",
    "# create distribution\n",
    "dist = expon(beta)\n",
    "\n",
    "# plot pdf\n",
    "values = [value for value in range(50, 70)]\n",
    "probabilities = [dist.pdf(value) for value in values]\n",
    "pyplot.plot(values, probabilities)\n",
    "pyplot.show()"
   ]
  },
  {
   "cell_type": "code",
   "execution_count": null,
   "id": "35112121",
   "metadata": {},
   "outputs": [
    {
     "data": {
      "image/png": "[encoded data removed]",
      "text/plain": [
       "<Figure size 640x480 with 1 Axes>"
      ]
     },
     "metadata": {},
     "output_type": "display_data"
    }
   ],
   "source": [
    "# plot cdf\n",
    "cprobs = [dist.cdf(value) for value in values]\n",
    "pyplot.plot(values, cprobs)\n",
    "pyplot.show()"
   ]
  },
  {
   "cell_type": "markdown",
   "id": "0359fba8",
   "metadata": {},
   "source": [
    "Next, the cumulative probabilities for each outcome are calculated and graphed as a line\n",
    "plot, showing that after perhaps a value of 55 that almost 100% of the expected values will be\n",
    "observed."
   ]
  },
  {
   "cell_type": "markdown",
   "id": "f9664c82",
   "metadata": {},
   "source": [
    "An important related distribution is the double exponential distribution, also called the\n",
    "Laplace distribution."
   ]
  },
  {
   "cell_type": "markdown",
   "id": "dc66ecfe",
   "metadata": {},
   "source": [
    "### Pareto Distribution"
   ]
  },
  {
   "cell_type": "markdown",
   "id": "dd4650ba",
   "metadata": {},
   "source": [
    "A Pareto distribution is named after Vilfredo Pareto and is may be referred to as a power-law\n",
    "distribution. It is also related to the Pareto principle (or 80/20 rule) which is a heuristic for\n",
    "continuous random variables that follow a Pareto distribution, where 80% of the events are\n",
    "covered by 20% of the range of outcomes, e.g. most events are drawn from just 20% of the\n",
    "range of the continuous variable. The Pareto principle is just a heuristic for a specific Pareto\n",
    "distribution, specifically the Pareto Type II distribution, that is perhaps most interesting and\n",
    "on which we will focus. Some examples of domains that have Pareto distributed events include:\n",
    "* The income of households in a country.\n",
    "* The total sales of books.\n",
    "* The scores by players on a sports team.\n",
    "\n",
    "The distribution can be defined using one parameter:\n",
    "* Shape (alpha or α): The steepness of the decease in probability."
   ]
  },
  {
   "cell_type": "markdown",
   "id": "6931d9bf",
   "metadata": {},
   "source": [
    "Values for the shape parameter are often small, such as between 1 and 3, with the Pareto\n",
    "principle given when alpha is set to 1.161. We can define a distribution with a shape of 1.1\n",
    "and sample random numbers from this distribution. We can achieve this using the pareto()\n",
    "NumPy function."
   ]
  },
  {
   "cell_type": "code",
   "execution_count": null,
   "id": "667cb907",
   "metadata": {},
   "outputs": [
    {
     "name": "stdout",
     "output_type": "stream",
     "text": [
      "[ 0.4774442   0.28700929 10.97301841 34.92526594  1.42528873  2.85659883\n",
      "  0.1570074   0.31605884  0.07072592  8.23924924]\n"
     ]
    }
   ],
   "source": [
    "# sample a pareto distribution\n",
    "from numpy.random import pareto\n",
    "\n",
    "# define the distribution\n",
    "alpha = 1.1\n",
    "n = 10\n",
    "\n",
    "# generate the sample\n",
    "samples = pareto(alpha, n)\n",
    "print(samples)"
   ]
  },
  {
   "cell_type": "markdown",
   "id": "5e77da1b",
   "metadata": {},
   "source": [
    "We can define a Pareto distribution using the pareto() SciPy function and then calculate\n",
    "properties, such as the moments, PDF, CDF, and more. The example below defines a range of\n",
    "observations between 1 and about 10 and calculates the probability and cumulative probability\n",
    "for each and plots the result."
   ]
  },
  {
   "cell_type": "code",
   "execution_count": null,
   "id": "76d9a893",
   "metadata": {},
   "outputs": [
    {
     "data": {
      "image/png": "[encoded data removed]",
      "text/plain": [
       "<Figure size 640x480 with 1 Axes>"
      ]
     },
     "metadata": {},
     "output_type": "display_data"
    }
   ],
   "source": [
    "# pdf and cdf for a pareto distribution\n",
    "from scipy.stats import pareto\n",
    "from matplotlib import pyplot\n",
    "\n",
    "# define distribution parameter\n",
    "alpha = 1.5\n",
    "\n",
    "# create distribution\n",
    "dist = pareto(alpha)\n",
    "\n",
    "# plot pdf\n",
    "values  = [value/10.0 for value in range(10, 100)]\n",
    "probabilities = [dist.pdf(value) for value in values]\n",
    "pyplot.plot(values, probabilities)\n",
    "pyplot.show()"
   ]
  },
  {
   "cell_type": "markdown",
   "id": "f4ebc58c",
   "metadata": {},
   "source": [
    "Next, the cumulative probabilities for each outcome are calculated and graphed as a line\n",
    "plot, showing a rise that is less steep than the exponential distribution seen in the previous\n",
    "section."
   ]
  },
  {
   "cell_type": "code",
   "execution_count": null,
   "id": "d5794ff6",
   "metadata": {},
   "outputs": [
    {
     "data": {
      "image/png": "[encoded data removed]",
      "text/plain": [
       "<Figure size 640x480 with 1 Axes>"
      ]
     },
     "metadata": {},
     "output_type": "display_data"
    }
   ],
   "source": [
    "# plot cdf\n",
    "cprobs = [dist.cdf(value) for value in values]\n",
    "pyplot.plot(values, cprobs)\n",
    "pyplot.show()"
   ]
  },
  {
   "cell_type": "markdown",
   "id": "296d5a98",
   "metadata": {},
   "source": [
    "## Probability Density Estimation"
   ]
  },
  {
   "cell_type": "markdown",
   "id": "a9284017",
   "metadata": {},
   "source": [
    "Probability density is the relationship between observations and their probability. Some outcomes\n",
    "of a random variable will have low probability density and other outcomes will have a high\n",
    "probability density. The overall shape of the probability density is referred to as a probability\n",
    "distribution, and the calculation of probabilities for specific outcomes of a random variable\n",
    "is performed by a probability density function, or PDF for short. It is useful to know the\n",
    "probability density function for a sample of data in order to know whether a given observation\n",
    "is unlikely, or so unlikely as to be considered an outlier or anomaly and whether it should\n",
    "be removed. It is also helpful in order to choose appropriate learning methods that require\n",
    "input data to have a specific probability distribution. It is unlikely that the probability density\n",
    "function for a random sample of data is known. As such, the probability density must be\n",
    "approximated using a process known as probability density estimation.\n",
    "\n",
    "* Histogram plots provide a fast and reliable way to visualize the probability density of a data sample.\n",
    "* Parametric probability density estimation involves selecting a common distribution and estimating the parameters for the density function from a data sample.\n",
    "* Nonparametric probability density estimation involves using a technique to fit a model to the arbitrary distribution of the data, like kernel density estimation.\n",
    "\n",
    "This tutorial is divided into four parts; they are:\n",
    "1. Probability Density\n",
    "2. Summarize Density With a Histogram\n",
    "3. Parametric Density Estimation\n",
    "4. Nonparametric Density Estimation"
   ]
  },
  {
   "cell_type": "markdown",
   "id": "75ed95d6",
   "metadata": {},
   "source": [
    "**Probability Density**\n",
    "\n",
    "A random variable x has a probability distribution p(x). The relationship between the outcomes\n",
    "of a random variable and its probability is referred to as the probability density, or simply\n",
    "the density. If a random variable is continuous, then the probability can be calculated via\n",
    "probability density function, or PDF for short. The shape of the probability density function\n",
    "across the domain for a random variable is referred to as the probability distribution and\n",
    "common probability distributions have names, such as uniform, normal, exponential, and so on."
   ]
  },
  {
   "cell_type": "markdown",
   "id": "f26bd21d",
   "metadata": {},
   "source": [
    "Given a random variable, we are interested in the density of its probabilities. For example, given a random sample of a variable, we might want to know things like the shape of the probability distribution, the most likely value, the spread of values, and other properties. Knowing the probability distribution for a random variable can help to calculate moments of the distribution, like the mean and variance, but can also be useful for other more general considerations, like determining whether an observation is unlikely or very unlikely and might be an outlier or anomaly.The problem is, we may not know the probability distribution for a random variable. We rarely do know the distribution because we don’t have access to all possible outcomes for a random variable. In fact, all we have access to is a sample of observations. As such, we must select a probability distribution.\n",
    "\n",
    "This problem is referred to as probability density estimation, or simply density estimation, as we are using the observations in a random sample to estimate the general density of probabilities beyond just the sample of data we have available.\n",
    "\n",
    "There are a few steps in the process of density estimation for a random variable. The first step is to review the density of observations in the random sample with a simple histogram. From the histogram, we might be able to identify a common and well-understood probability distribution that can be used, such as a normal distribution. If not, we may have to fit a model to estimate the distribution.\n",
    "\n",
    "In the following sections, we will take a closer look at each one of these steps in turn. We will focus on univariate data, e.g. one random variable, in this tutorial for simplicity. Although the steps are applicable for multivariate data, they can become more challenging if the number of variables increases."
   ]
  },
  {
   "cell_type": "markdown",
   "id": "9d57d984",
   "metadata": {},
   "source": [
    "### Summarize Density With a Histogram"
   ]
  },
  {
   "cell_type": "markdown",
   "id": "2e3461cb",
   "metadata": {},
   "source": [
    "The first step in density estimation is to create a histogram of the observations in the random\n",
    "sample. A histogram is a plot that involves first grouping the observations into bins and counting\n",
    "the number of events that fall into each bin. The counts, or frequencies of observations, in each\n",
    "bin are then plotted as a bar graph with the bins on the x-axis and the frequency on the y-axis.\n",
    "The choice of the number of bins is important as it controls the coarseness of the distribution\n",
    "(number of bars) and, in turn, how well the density of the observations is plotted. It is a good\n",
    "idea to experiment with different bin sizes for a given data sample to get multiple perspectives\n",
    "or views on the same data."
   ]
  },
  {
   "cell_type": "markdown",
   "id": "4fbe28a7",
   "metadata": {},
   "source": [
    "We can create a random sample drawn from a normal distribution and pretend we don’t\n",
    "know the distribution, then create a histogram of the data. The normal() NumPy function will\n",
    "achieve this and we will generate 1,000 samples with a mean of 0 and a standard deviation of 1,\n",
    "e.g. a standard Gaussian. The complete example is listed below."
   ]
  },
  {
   "cell_type": "code",
   "execution_count": null,
   "id": "0085b77a",
   "metadata": {},
   "outputs": [
    {
     "data": {
      "image/png": "[encoded data removed]",
      "text/plain": [
       "<Figure size 640x480 with 1 Axes>"
      ]
     },
     "metadata": {},
     "output_type": "display_data"
    }
   ],
   "source": [
    "# example of plotting a histogram of a random sample\n",
    "from numpy.random import normal\n",
    "from matplotlib import pyplot\n",
    "\n",
    "# generate a sample\n",
    "samples = normal(size=1000)\n",
    "\n",
    "# plot a histogram of the sample\n",
    "pyplot.hist(samples, bins=10)\n",
    "pyplot.show()"
   ]
  },
  {
   "cell_type": "markdown",
   "id": "39824908",
   "metadata": {},
   "source": [
    "Running the example draws a sample of random observations and creates the histogram\n",
    "with 10 bins. We can clearly see the shape of the normal distribution."
   ]
  },
  {
   "cell_type": "markdown",
   "id": "677f9567",
   "metadata": {},
   "source": [
    "Reviewing a histogram of a data sample with a range of different numbers of bins will help\n",
    "to identify whether the density looks like a common probability distribution or not. In most\n",
    "cases, you will see a unimodal distribution, such as the familiar bell shape of the normal, the\n",
    "flat shape of the uniform, or the descending or ascending shape of an exponential or Pareto\n",
    "distribution. You might also see complex distributions, such as two peaks that don’t disappear\n",
    "with different numbers of bins, referred to as a bimodal distribution, or multiple peaks, referred\n",
    "to as a multimodal distribution. You might also see a large spike in density for a given value or\n",
    "small range of values indicating outliers, often occurring on the tail of a distribution far away\n",
    "from the rest of the density."
   ]
  },
  {
   "cell_type": "markdown",
   "id": "bb5b0253",
   "metadata": {},
   "source": [
    "### Parametric Density Estimation"
   ]
  },
  {
   "cell_type": "markdown",
   "id": "3b0e0116",
   "metadata": {},
   "source": [
    "The shape of a histogram of most random samples will match a well-known probability distribu-\n",
    "tion. The common distributions are common because they occur again and again in different\n",
    "and sometimes unexpected domains. Get familiar with the common probability distributions\n",
    "as it will help you to identify a given distribution from a histogram. Once identified, you can\n",
    "attempt to estimate the density of the random variable with a chosen probability distribution.\n",
    "This can be achieved by estimating the parameters of the distribution from a random sample of\n",
    "data."
   ]
  },
  {
   "cell_type": "markdown",
   "id": "09def469",
   "metadata": {},
   "source": [
    "For example, the normal distribution has two parameters: the mean and the standard\n",
    "deviation. Given these two parameters, we now know the probability distribution function.\n",
    "These parameters can be estimated from data by calculating the sample mean and sample\n",
    "standard deviation. We refer to this process as parametric density estimation. The reason is\n",
    "that we are using predefined functions to summarize the relationship between observations and\n",
    "their probability that can be controlled or configured with parameters, hence parametric. Once\n",
    "we have estimated the density, we can check if it is a good fit. This can be done in many ways,\n",
    "such as:\n",
    "* Plotting the density function and comparing the shape to the histogram.\n",
    "* Sampling the density function and comparing the generated sample to the real sample.\n",
    "* Using a statistical test to confirm the data fits the distribution."
   ]
  },
  {
   "cell_type": "markdown",
   "id": "5b8a65f8",
   "metadata": {},
   "source": [
    "We can demonstrate this with an example. We can generate a random sample of 100\n",
    "observations from a normal distribution with a mean of 50 and a standard deviation of 5."
   ]
  },
  {
   "cell_type": "code",
   "execution_count": null,
   "id": "57711df5",
   "metadata": {},
   "outputs": [],
   "source": [
    "from numpy.random import normal\n",
    "\n",
    "# generate a sample\n",
    "samples = normal(loc=50, scale=5, size=1000)"
   ]
  },
  {
   "cell_type": "markdown",
   "id": "4932371b",
   "metadata": {},
   "source": [
    "We can then pretend that we don’t know the probability distribution and maybe look at a\n",
    "histogram and guess that it is normal. Assuming that it is normal, we can then calculate the\n",
    "parameters of the distribution, specifically the mean and standard deviation. We would not\n",
    "expect the mean and standard deviation to be 50 and 5 exactly given the small sample size and\n",
    "noise in the sampling process."
   ]
  },
  {
   "cell_type": "code",
   "execution_count": null,
   "id": "fdbc8b46",
   "metadata": {},
   "outputs": [
    {
     "name": "stdout",
     "output_type": "stream",
     "text": [
      "Mean= 49.958, Standard Deviation= 4.987\n"
     ]
    }
   ],
   "source": [
    "from numpy import mean, std\n",
    "\n",
    "# calculate parameters\n",
    "sample_mean = mean(samples)\n",
    "sample_std = std(samples)\n",
    "print(f'Mean= {sample_mean:0.3f}, Standard Deviation= {sample_std:.3f}')"
   ]
  },
  {
   "cell_type": "markdown",
   "id": "815e9502",
   "metadata": {},
   "source": [
    "Then fit the distribution with these parameters, so-called parametric density estimation of\n",
    "our data sample. In this case, we can use the norm() SciPy function."
   ]
  },
  {
   "cell_type": "code",
   "execution_count": null,
   "id": "f31d0a9b",
   "metadata": {},
   "outputs": [],
   "source": [
    "from scipy.stats import norm\n",
    "\n",
    "# define the distribution\n",
    "dist = norm(sample_mean, sample_std)"
   ]
  },
  {
   "cell_type": "markdown",
   "id": "71868546",
   "metadata": {},
   "source": [
    "We can then sample the probabilities from this distribution for a range of values in our\n",
    "domain, in this case between 30 and 70"
   ]
  },
  {
   "cell_type": "code",
   "execution_count": null,
   "id": "d39900b8",
   "metadata": {},
   "outputs": [],
   "source": [
    "# sample probabilities for a range of outcomes\n",
    "values = [value for value in range(30, 70)]\n",
    "probabilities = [dist.pdf(value) for value in values]"
   ]
  },
  {
   "cell_type": "markdown",
   "id": "2cc2ee54",
   "metadata": {},
   "source": [
    "Finally, we can plot a histogram of the data sample and overlay a line plot of the probabilities\n",
    "calculated for the range of values from the PDF. Importantly, we can convert the counts or\n",
    "frequencies in each bin of the histogram to a normalized probability to ensure the y-axis of the\n",
    "histogram matches the y-axis of the line plot. This can be achieved by setting the density\n",
    "argument to True in the call to hist().\n"
   ]
  },
  {
   "cell_type": "code",
   "execution_count": null,
   "id": "a50999a5",
   "metadata": {},
   "outputs": [
    {
     "data": {
      "image/png": "[encoded data removed]",
      "text/plain": [
       "<Figure size 640x480 with 1 Axes>"
      ]
     },
     "metadata": {},
     "output_type": "display_data"
    }
   ],
   "source": [
    "# plot the histogram and pdf\n",
    "from matplotlib import pyplot\n",
    "pyplot.hist(samples, bins=10, density=True)\n",
    "pyplot.plot(values, probabilities)\n",
    "pyplot.show()"
   ]
  },
  {
   "cell_type": "markdown",
   "id": "c113042b",
   "metadata": {},
   "source": [
    "It is possible that the data does match a common probability distribution, but requires a\n",
    "transformation before parametric density estimation. For example, you may have outlier values\n",
    "that are far from the mean or center of mass of the distribution. This may have the effect of\n",
    "giving incorrect estimates of the distribution parameters and, in turn, causing a poor fit to\n",
    "the data. These outliers should be removed prior to estimating the distribution parameters.\n",
    "Another example is the data may have a skew or be shifted left or right. In this case, you might\n",
    "need to transform the data prior to estimating the parameters, such as taking the log or square\n",
    "root, or more generally, using a power transform like the Box-Cox transform. These types of\n",
    "modifications to the data may not be obvious and effective parametric density estimation may\n",
    "require an iterative process of:\n",
    "\n",
    "Loop Until Fit of Distribution to Data is Good Enough:\n",
    "1. Estimating distribution parameters\n",
    "2. Reviewing the resulting PDF against the data\n",
    "3. Transforming the data to better fit the distribution"
   ]
  },
  {
   "cell_type": "markdown",
   "id": "8cb3c8bd",
   "metadata": {},
   "source": [
    "### Nonparametric Density Estimation"
   ]
  },
  {
   "cell_type": "markdown",
   "id": "ea318a31",
   "metadata": {},
   "source": [
    "In some cases, a data sample may not resemble a common probability distribution or cannot\n",
    "be easily made to fit the distribution. This is often the case when the data has two peaks\n",
    "(bimodal distribution) or many peaks (multimodal distribution). In this case, parametric density\n",
    "estimation is not feasible and alternative methods can be used that do not use a common\n",
    "distribution. Instead, an algorithm is used to approximate the probability distribution of the\n",
    "data without a pre-defined distribution, referred to as a nonparametric method."
   ]
  },
  {
   "cell_type": "markdown",
   "id": "ace089b0",
   "metadata": {},
   "source": [
    "The distributions will still have parameters but are not directly controllable in the same\n",
    "way as simple probability distributions. For example, a nonparametric method might estimate\n",
    "the density using all observations in a random sample, in effect making all observations in the\n",
    "sample parameters. Perhaps the most common nonparametric approach for estimating the\n",
    "probability density function of a continuous random variable is called kernel smoothing, or\n",
    "kernel density estimation, KDE for short.\n",
    "\n",
    " Kernel Density Estimation: Nonparametric method for using a dataset to estimating\n",
    "probabilities for new points."
   ]
  },
  {
   "cell_type": "markdown",
   "id": "87d797cb",
   "metadata": {},
   "source": [
    "In this case, a kernel is a mathematical function that returns a probability for a given value\n",
    "of a random variable. The kernel effectively smooths or interpolates the probabilities across\n",
    "the range of outcomes for a random variable such that the sum of probabilities equals one,\n",
    "a requirement of well-behaved probabilities. The kernel function weights the contribution of\n",
    "observations from a data sample based on their relationship or distance to a given query sample\n",
    "for which the probability is requested. A parameter, called the smoothing parameter or the\n",
    "bandwidth, controls the scope, or window of observations, from the data sample that contributes\n",
    "to estimating the probability for a given sample. As such, kernel density estimation is sometimes\n",
    "referred to as a Parzen-Rosenblatt window, or simply a Parzen window, after the developers of\n",
    "the method.\n",
    "\n",
    " Smoothing Parameter (bandwidth): Parameter that controls the number of samples or\n",
    "window of samples used to estimate the probability for a new point."
   ]
  },
  {
   "cell_type": "markdown",
   "id": "1dce425b",
   "metadata": {},
   "source": [
    "A large window may result in a coarse density with little details, whereas a small window\n",
    "may have too much detail and not be smooth or general enough to correctly cover new or\n",
    "unseen examples. The contribution of samples within the window can be shaped using different\n",
    "functions, sometimes referred to as basis functions, e.g. uniform normal, etc., with different\n",
    "effects on the smoothness of the resulting density function.\n",
    "\n",
    "Basis Function (kernel ): The function chosen used to control the contribution of samples\n",
    "in the dataset toward estimating the probability of a new point."
   ]
  },
  {
   "cell_type": "markdown",
   "id": "5584e195",
   "metadata": {},
   "source": [
    "As such, it may be useful to experiment with different window sizes and different contribution\n",
    "functions and evaluate the results against histograms of the data. We can demonstrate this\n",
    "with an example. First, we can construct a bimodal distribution by combining samples from\n",
    "two different normal distributions. Specifically, 300 examples with a mean of 20 and a standard\n",
    "deviation of 5 (the smaller peak), and 700 examples with a mean of 40 and a standard deviation\n",
    "of 5 (the larger peak). The means were chosen close together to ensure the distributions\n",
    "overlap in the combined sample. The complete example of creating this sample with a bimodal\n",
    "probability distribution and plotting the histogram is listed below."
   ]
  },
  {
   "cell_type": "code",
   "execution_count": null,
   "id": "5910d213",
   "metadata": {},
   "outputs": [],
   "source": [
    "# example of a bimodal data sample\n",
    "from matplotlib import pyplot\n",
    "from numpy.random import normal\n",
    "from numpy import hstack"
   ]
  },
  {
   "cell_type": "code",
   "execution_count": null,
   "id": "c63a7df4",
   "metadata": {},
   "outputs": [
    {
     "data": {
      "text/plain": [
       "(1000,)"
      ]
     },
     "execution_count": null,
     "metadata": {},
     "output_type": "execute_result"
    }
   ],
   "source": [
    "# generate a sample\n",
    "sample1 = normal(loc=20, scale=5, size=300)\n",
    "sample2 = normal(loc=40, scale=5, size=700)\n",
    "sample = hstack((sample1, sample2))\n",
    "sample.shape"
   ]
  },
  {
   "cell_type": "code",
   "execution_count": null,
   "id": "78d59142",
   "metadata": {},
   "outputs": [
    {
     "data": {
      "image/png": "[encoded data removed]",
      "text/plain": [
       "<Figure size 640x480 with 1 Axes>"
      ]
     },
     "metadata": {},
     "output_type": "display_data"
    }
   ],
   "source": [
    "# plot the histogram\n",
    "pyplot.hist(sample, bins=50)\n",
    "pyplot.show()"
   ]
  },
  {
   "cell_type": "markdown",
   "id": "7c9b8945",
   "metadata": {},
   "source": [
    "Data\n",
    "with this distribution does not nicely fit into a common probability distribution, by design. It is\n",
    "a good case for using a nonparametric kernel density estimation method."
   ]
  },
  {
   "cell_type": "markdown",
   "id": "9dee16af",
   "metadata": {},
   "source": [
    "The scikit-learn machine learning library provides the KernelDensity class that implements kernel density estimation. First, the class is constructed with the desired bandwidth (window\n",
    "size) and kernel (basis function) arguments. It is a good idea to test different configurations on\n",
    "your data. In this case, we will try a bandwidth of 2 and a Gaussian kernel. The class is then\n",
    "fit on a data sample via the fit() function. The function expects the data to have a 2D shape\n",
    "with the form [rows, columns], therefore we can reshape our data sample to have 1,000 rows\n",
    "and 1 column."
   ]
  },
  {
   "cell_type": "code",
   "execution_count": null,
   "id": "342d5bb4",
   "metadata": {},
   "outputs": [
    {
     "data": {
      "text/plain": [
       "(1000, 1)"
      ]
     },
     "execution_count": null,
     "metadata": {},
     "output_type": "execute_result"
    }
   ],
   "source": [
    "# fit density\n",
    "from sklearn.neighbors import KernelDensity\n",
    "model = KernelDensity(bandwidth=2, kernel='gaussian')\n",
    "samples = samples.reshape(len(samples), 1)\n",
    "samples.shape"
   ]
  },
  {
   "cell_type": "code",
   "execution_count": null,
   "id": "079bc6f2",
   "metadata": {},
   "outputs": [
    {
     "data": {
      "text/html": [
       "<style>#sk-container-id-1 {color: black;background-color: white;}#sk-container-id-1 pre{padding: 0;}#sk-container-id-1 div.sk-toggleable {background-color: white;}#sk-container-id-1 label.sk-toggleable__label {cursor: pointer;display: block;width: 100%;margin-bottom: 0;padding: 0.3em;box-sizing: border-box;text-align: center;}#sk-container-id-1 label.sk-toggleable__label-arrow:before {content: \"▸\";float: left;margin-right: 0.25em;color: #696969;}#sk-container-id-1 label.sk-toggleable__label-arrow:hover:before {color: black;}#sk-container-id-1 div.sk-estimator:hover label.sk-toggleable__label-arrow:before {color: black;}#sk-container-id-1 div.sk-toggleable__content {max-height: 0;max-width: 0;overflow: hidden;text-align: left;background-color: #f0f8ff;}#sk-container-id-1 div.sk-toggleable__content pre {margin: 0.2em;color: black;border-radius: 0.25em;background-color: #f0f8ff;}#sk-container-id-1 input.sk-toggleable__control:checked~div.sk-toggleable__content {max-height: 200px;max-width: 100%;overflow: auto;}#sk-container-id-1 input.sk-toggleable__control:checked~label.sk-toggleable__label-arrow:before {content: \"▾\";}#sk-container-id-1 div.sk-estimator input.sk-toggleable__control:checked~label.sk-toggleable__label {background-color: #d4ebff;}#sk-container-id-1 div.sk-label input.sk-toggleable__control:checked~label.sk-toggleable__label {background-color: #d4ebff;}#sk-container-id-1 input.sk-hidden--visually {border: 0;clip: rect(1px 1px 1px 1px);clip: rect(1px, 1px, 1px, 1px);height: 1px;margin: -1px;overflow: hidden;padding: 0;position: absolute;width: 1px;}#sk-container-id-1 div.sk-estimator {font-family: monospace;background-color: #f0f8ff;border: 1px dotted black;border-radius: 0.25em;box-sizing: border-box;margin-bottom: 0.5em;}#sk-container-id-1 div.sk-estimator:hover {background-color: #d4ebff;}#sk-container-id-1 div.sk-parallel-item::after {content: \"\";width: 100%;border-bottom: 1px solid gray;flex-grow: 1;}#sk-container-id-1 div.sk-label:hover label.sk-toggleable__label {background-color: #d4ebff;}#sk-container-id-1 div.sk-serial::before {content: \"\";position: absolute;border-left: 1px solid gray;box-sizing: border-box;top: 0;bottom: 0;left: 50%;z-index: 0;}#sk-container-id-1 div.sk-serial {display: flex;flex-direction: column;align-items: center;background-color: white;padding-right: 0.2em;padding-left: 0.2em;position: relative;}#sk-container-id-1 div.sk-item {position: relative;z-index: 1;}#sk-container-id-1 div.sk-parallel {display: flex;align-items: stretch;justify-content: center;background-color: white;position: relative;}#sk-container-id-1 div.sk-item::before, #sk-container-id-1 div.sk-parallel-item::before {content: \"\";position: absolute;border-left: 1px solid gray;box-sizing: border-box;top: 0;bottom: 0;left: 50%;z-index: -1;}#sk-container-id-1 div.sk-parallel-item {display: flex;flex-direction: column;z-index: 1;position: relative;background-color: white;}#sk-container-id-1 div.sk-parallel-item:first-child::after {align-self: flex-end;width: 50%;}#sk-container-id-1 div.sk-parallel-item:last-child::after {align-self: flex-start;width: 50%;}#sk-container-id-1 div.sk-parallel-item:only-child::after {width: 0;}#sk-container-id-1 div.sk-dashed-wrapped {border: 1px dashed gray;margin: 0 0.4em 0.5em 0.4em;box-sizing: border-box;padding-bottom: 0.4em;background-color: white;}#sk-container-id-1 div.sk-label label {font-family: monospace;font-weight: bold;display: inline-block;line-height: 1.2em;}#sk-container-id-1 div.sk-label-container {text-align: center;}#sk-container-id-1 div.sk-container {/* jupyter's `normalize.less` sets `[hidden] { display: none; }` but bootstrap.min.css set `[hidden] { display: none !important; }` so we also need the `!important` here to be able to override the default hidden behavior on the sphinx rendered scikit-learn.org. See: https://github.com/scikit-learn/scikit-learn/issues/21755 */display: inline-block !important;position: relative;}#sk-container-id-1 div.sk-text-repr-fallback {display: none;}</style><div id=\"sk-container-id-1\" class=\"sk-top-container\"><div class=\"sk-text-repr-fallback\"><pre>KernelDensity(bandwidth=2)</pre><b>In a Jupyter environment, please rerun this cell to show the HTML representation or trust the notebook. <br />On GitHub, the HTML representation is unable to render, please try loading this page with nbviewer.org.</b></div><div class=\"sk-container\" hidden><div class=\"sk-item\"><div class=\"sk-estimator sk-toggleable\"><input class=\"sk-toggleable__control sk-hidden--visually\" id=\"sk-estimator-id-1\" type=\"checkbox\" checked><label for=\"sk-estimator-id-1\" class=\"sk-toggleable__label sk-toggleable__label-arrow\">KernelDensity</label><div class=\"sk-toggleable__content\"><pre>KernelDensity(bandwidth=2)</pre></div></div></div></div></div>"
      ],
      "text/plain": [
       "KernelDensity(bandwidth=2)"
      ]
     },
     "execution_count": null,
     "metadata": {},
     "output_type": "execute_result"
    }
   ],
   "source": [
    "model.fit(samples)"
   ]
  },
  {
   "cell_type": "markdown",
   "id": "eaa6af8f",
   "metadata": {},
   "source": [
    "We can then evaluate how well the density estimate matches our data by calculating the\n",
    "probabilities for a range of observations and comparing the shape to the histogram, just like\n",
    "we did for the parametric case in the prior section. The score samples() function on the\n",
    "KernelDensity will calculate the log probability for an array of samples. We can create a range\n",
    "of samples from 1 to 60, about the range of our domain, calculate the log probabilities, then\n",
    "invert the log operation by calculating the exponent or exp() to return the values to the range\n",
    "0-1 for normal probabilities."
   ]
  },
  {
   "cell_type": "code",
   "execution_count": null,
   "id": "6922bf93",
   "metadata": {},
   "outputs": [],
   "source": [
    "# sample probabilities for a range of outcomes\n",
    "from numpy import asarray, exp\n",
    "values = asarray([value for value in range(1, 60)])\n",
    "values = values.reshape((len(values), 1))\n",
    "probabilities = model.score_samples(values)\n",
    "probabilities = exp(probabilities)"
   ]
  },
  {
   "cell_type": "markdown",
   "id": "a2f0aa39",
   "metadata": {},
   "source": [
    "Finally, we can create a histogram with normalized frequencies and an overlay line plot of\n",
    "values to estimated probabilities."
   ]
  },
  {
   "cell_type": "code",
   "execution_count": null,
   "id": "7000b92e",
   "metadata": {},
   "outputs": [
    {
     "data": {
      "image/png": "[encoded data removed]",
      "text/plain": [
       "<Figure size 640x480 with 1 Axes>"
      ]
     },
     "metadata": {},
     "output_type": "display_data"
    }
   ],
   "source": [
    "pyplot.hist(samples, bins=50, density=True)\n",
    "pyplot.plot(values[:], probabilities)\n",
    "pyplot.show()"
   ]
  },
  {
   "cell_type": "markdown",
   "id": "d9bfa8b5",
   "metadata": {},
   "source": [
    "The KernelDensity class is powerful and does support estimating the PDF for multidimen-\n",
    "sional data."
   ]
  },
  {
   "cell_type": "markdown",
   "id": "01502622",
   "metadata": {},
   "source": [
    "In this tutorial, you discovered a gentle introduction to probability density estimation. Specifi-\n",
    "cally, you learned:\n",
    "* Histogram plots provide a fast and reliable way to visualize the probability density of a\n",
    "data sample.\n",
    "* Parametric probability density estimation involves selecting a common distribution and\n",
    "estimating the parameters for the density function from a data sample.\n",
    "* Nonparametric probability density estimation involves using a technique to fit a model to\n",
    "the arbitrary distribution of the data, like kernel density estimation."
   ]
  },
  {
   "cell_type": "code",
   "execution_count": null,
   "id": "ffe6fad9",
   "metadata": {},
   "outputs": [],
   "source": []
  }
 ],
 "metadata": {
  "kernelspec": {
   "display_name": "Python 3 (ipykernel)",
   "language": "python",
   "name": "python3"
  }
 },
 "nbformat": 4,
 "nbformat_minor": 5
}
