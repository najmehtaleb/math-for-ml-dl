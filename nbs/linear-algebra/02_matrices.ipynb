{
 "cells": [
  {
   "cell_type": "markdown",
   "id": "418b4752",
   "metadata": {},
   "source": [
    "# Matrices"
   ]
  },
  {
   "cell_type": "code",
   "execution_count": null,
   "id": "0391b83d",
   "metadata": {},
   "outputs": [],
   "source": [
    "from numpy import inf\n",
    "from numpy import array\n",
    "from numpy import identity\n",
    "from numpy import trace\n",
    "from numpy import count_nonzero\n",
    "from numpy import tensordot\n",
    "from numpy import tril, triu, diag\n",
    "from numpy.linalg import norm, inv, det, matrix_rank\n",
    "from scipy.sparse import csr_matrix"
   ]
  },
  {
   "cell_type": "markdown",
   "id": "a38cd041",
   "metadata": {},
   "source": [
    "## Vectors and Vector Arithmetic"
   ]
  },
  {
   "cell_type": "markdown",
   "id": "3c0bd5bb",
   "metadata": {},
   "source": [
    "**Defining a Vector**"
   ]
  },
  {
   "cell_type": "code",
   "execution_count": null,
   "id": "73ef3486",
   "metadata": {},
   "outputs": [
    {
     "name": "stdout",
     "output_type": "stream",
     "text": [
      "[1 2 3]\n"
     ]
    }
   ],
   "source": [
    "vector = array([1,2,3])\n",
    "print(vector)"
   ]
  },
  {
   "cell_type": "markdown",
   "id": "443639f7",
   "metadata": {},
   "source": [
    "### Vector Arithmetic"
   ]
  },
  {
   "cell_type": "markdown",
   "id": "a5f8f02c",
   "metadata": {},
   "source": [
    "**Vector Addition**"
   ]
  },
  {
   "cell_type": "code",
   "execution_count": null,
   "id": "ac6b7eee",
   "metadata": {},
   "outputs": [
    {
     "name": "stdout",
     "output_type": "stream",
     "text": [
      "[1 2 3]\n"
     ]
    }
   ],
   "source": [
    "a = array([1,2,3])\n",
    "print(a)"
   ]
  },
  {
   "cell_type": "code",
   "execution_count": null,
   "id": "16ca080d",
   "metadata": {},
   "outputs": [
    {
     "name": "stdout",
     "output_type": "stream",
     "text": [
      "[4 5 6]\n"
     ]
    }
   ],
   "source": [
    "b = array([4,5,6])\n",
    "print(b)"
   ]
  },
  {
   "cell_type": "code",
   "execution_count": null,
   "id": "c05e7a46",
   "metadata": {},
   "outputs": [
    {
     "name": "stdout",
     "output_type": "stream",
     "text": [
      "[5 7 9]\n"
     ]
    }
   ],
   "source": [
    "c = a + b\n",
    "print(c)"
   ]
  },
  {
   "cell_type": "markdown",
   "id": "ced717eb",
   "metadata": {},
   "source": [
    "**Vector Subtraction**"
   ]
  },
  {
   "cell_type": "code",
   "execution_count": null,
   "id": "e13fb46c",
   "metadata": {},
   "outputs": [
    {
     "name": "stdout",
     "output_type": "stream",
     "text": [
      "[1 2 3]\n"
     ]
    }
   ],
   "source": [
    "a = array([1,2,3])\n",
    "print(a)"
   ]
  },
  {
   "cell_type": "code",
   "execution_count": null,
   "id": "a8079541",
   "metadata": {},
   "outputs": [
    {
     "name": "stdout",
     "output_type": "stream",
     "text": [
      "[0.5 0.5 0.5]\n"
     ]
    }
   ],
   "source": [
    "b = array([0.5,0.5,0.5])\n",
    "print(b)"
   ]
  },
  {
   "cell_type": "code",
   "execution_count": null,
   "id": "430697c6",
   "metadata": {},
   "outputs": [
    {
     "name": "stdout",
     "output_type": "stream",
     "text": [
      "[0.5 1.5 2.5]\n"
     ]
    }
   ],
   "source": [
    "c = a - b\n",
    "print(c)"
   ]
  },
  {
   "cell_type": "markdown",
   "id": "4e4bae48",
   "metadata": {},
   "source": [
    "**Vector Multiplication**"
   ]
  },
  {
   "cell_type": "code",
   "execution_count": null,
   "id": "5d84332a",
   "metadata": {},
   "outputs": [
    {
     "name": "stdout",
     "output_type": "stream",
     "text": [
      "[1 2 3]\n"
     ]
    }
   ],
   "source": [
    "a = array([1,2,3])\n",
    "print(a)"
   ]
  },
  {
   "cell_type": "code",
   "execution_count": null,
   "id": "cff4ff6f",
   "metadata": {},
   "outputs": [
    {
     "name": "stdout",
     "output_type": "stream",
     "text": [
      "[1 2 3]\n"
     ]
    }
   ],
   "source": [
    "b = array([1,2,3])\n",
    "print(b)"
   ]
  },
  {
   "cell_type": "code",
   "execution_count": null,
   "id": "c024d867",
   "metadata": {},
   "outputs": [
    {
     "name": "stdout",
     "output_type": "stream",
     "text": [
      "[1 4 9]\n"
     ]
    }
   ],
   "source": [
    "c = a*b\n",
    "print(c)"
   ]
  },
  {
   "cell_type": "markdown",
   "id": "0075c657",
   "metadata": {},
   "source": [
    "**Vector Division**"
   ]
  },
  {
   "cell_type": "code",
   "execution_count": null,
   "id": "1df2cf34",
   "metadata": {},
   "outputs": [
    {
     "name": "stdout",
     "output_type": "stream",
     "text": [
      "[1 2 3]\n"
     ]
    }
   ],
   "source": [
    "a = array([1,2,3])\n",
    "print(a)"
   ]
  },
  {
   "cell_type": "code",
   "execution_count": null,
   "id": "69273e6f",
   "metadata": {},
   "outputs": [
    {
     "name": "stdout",
     "output_type": "stream",
     "text": [
      "[1 2 3]\n"
     ]
    }
   ],
   "source": [
    "b = array([1,2,3])\n",
    "print(b)"
   ]
  },
  {
   "cell_type": "code",
   "execution_count": null,
   "id": "fa2ab9ff",
   "metadata": {},
   "outputs": [
    {
     "name": "stdout",
     "output_type": "stream",
     "text": [
      "[1. 1. 1.]\n"
     ]
    }
   ],
   "source": [
    "c = a/b\n",
    "print(c)"
   ]
  },
  {
   "cell_type": "markdown",
   "id": "c2606cca",
   "metadata": {},
   "source": [
    "### Vector Dot Product"
   ]
  },
  {
   "cell_type": "code",
   "execution_count": null,
   "id": "329870da",
   "metadata": {},
   "outputs": [
    {
     "name": "stdout",
     "output_type": "stream",
     "text": [
      "[1 2 3]\n"
     ]
    }
   ],
   "source": [
    "a = array([1,2,3])\n",
    "print(a)"
   ]
  },
  {
   "cell_type": "code",
   "execution_count": null,
   "id": "2378c706",
   "metadata": {},
   "outputs": [
    {
     "name": "stdout",
     "output_type": "stream",
     "text": [
      "[1 2 3]\n"
     ]
    }
   ],
   "source": [
    "b = array([1,2,3])\n",
    "print(b)"
   ]
  },
  {
   "cell_type": "code",
   "execution_count": null,
   "id": "9f4c4586",
   "metadata": {},
   "outputs": [
    {
     "name": "stdout",
     "output_type": "stream",
     "text": [
      "14\n"
     ]
    }
   ],
   "source": [
    "c = a.dot(b)\n",
    "print(c)"
   ]
  },
  {
   "cell_type": "markdown",
   "id": "0e5ce864",
   "metadata": {},
   "source": [
    "### Vector-Scalar Multiplication"
   ]
  },
  {
   "cell_type": "code",
   "execution_count": null,
   "id": "39e22787",
   "metadata": {},
   "outputs": [
    {
     "name": "stdout",
     "output_type": "stream",
     "text": [
      "[1 2 3]\n"
     ]
    }
   ],
   "source": [
    "a = array([1,2,3])\n",
    "print(a)"
   ]
  },
  {
   "cell_type": "code",
   "execution_count": null,
   "id": "e3e83bcb",
   "metadata": {},
   "outputs": [
    {
     "name": "stdout",
     "output_type": "stream",
     "text": [
      "0.5\n"
     ]
    }
   ],
   "source": [
    "b = 0.5\n",
    "print(b)"
   ]
  },
  {
   "cell_type": "code",
   "execution_count": null,
   "id": "54c968c6",
   "metadata": {},
   "outputs": [
    {
     "name": "stdout",
     "output_type": "stream",
     "text": [
      "[0.5 1.  1.5]\n"
     ]
    }
   ],
   "source": [
    "c = b*a\n",
    "print(c)"
   ]
  },
  {
   "cell_type": "markdown",
   "id": "8938bab0",
   "metadata": {},
   "source": [
    "## Vector Norms"
   ]
  },
  {
   "cell_type": "code",
   "execution_count": null,
   "id": "9820baef",
   "metadata": {},
   "outputs": [
    {
     "name": "stdout",
     "output_type": "stream",
     "text": [
      "[1 2 3]\n"
     ]
    }
   ],
   "source": [
    "a = array([1,2,3])\n",
    "print(a)"
   ]
  },
  {
   "cell_type": "markdown",
   "id": "05047b0b",
   "metadata": {},
   "source": [
    "**Vector L1 Norm**"
   ]
  },
  {
   "cell_type": "code",
   "execution_count": null,
   "id": "f0b9fddb",
   "metadata": {},
   "outputs": [
    {
     "name": "stdout",
     "output_type": "stream",
     "text": [
      "6.0\n"
     ]
    }
   ],
   "source": [
    "l1 = norm(a, 1)\n",
    "print(l1)"
   ]
  },
  {
   "cell_type": "markdown",
   "id": "caf862e2",
   "metadata": {},
   "source": [
    "**Vector L2 Norm**"
   ]
  },
  {
   "cell_type": "code",
   "execution_count": null,
   "id": "e457870b",
   "metadata": {},
   "outputs": [
    {
     "name": "stdout",
     "output_type": "stream",
     "text": [
      "3.7416573867739413\n"
     ]
    }
   ],
   "source": [
    "l2 = norm(a)\n",
    "print(l2)"
   ]
  },
  {
   "cell_type": "markdown",
   "id": "bb207051",
   "metadata": {},
   "source": [
    "**Vector Max Norm**"
   ]
  },
  {
   "cell_type": "code",
   "execution_count": null,
   "id": "bbe7b505",
   "metadata": {},
   "outputs": [
    {
     "name": "stdout",
     "output_type": "stream",
     "text": [
      "3.0\n"
     ]
    }
   ],
   "source": [
    "maxnorm = norm(a,inf)\n",
    "print(maxnorm)"
   ]
  },
  {
   "cell_type": "markdown",
   "id": "81af7926",
   "metadata": {},
   "source": [
    "## Matrices and Matrix Arithmetic"
   ]
  },
  {
   "cell_type": "markdown",
   "id": "f82682af",
   "metadata": {},
   "source": [
    "**Defining a Matrix**"
   ]
  },
  {
   "cell_type": "code",
   "execution_count": null,
   "id": "e5714385",
   "metadata": {},
   "outputs": [
    {
     "name": "stdout",
     "output_type": "stream",
     "text": [
      "[[1 2 3]\n",
      " [4 5 6]]\n"
     ]
    }
   ],
   "source": [
    "A = array([[1,2,3],\n",
    "          [4,5,6]])\n",
    "print(A)"
   ]
  },
  {
   "cell_type": "markdown",
   "id": "b563c521",
   "metadata": {},
   "source": [
    "### Matrix Arithmetic"
   ]
  },
  {
   "cell_type": "code",
   "execution_count": null,
   "id": "3b712c7f",
   "metadata": {},
   "outputs": [
    {
     "name": "stdout",
     "output_type": "stream",
     "text": [
      "[[1 2 3]\n",
      " [4 5 6]]\n"
     ]
    }
   ],
   "source": [
    "A = array([[1,2,3],\n",
    "         [4,5,6]])\n",
    "print(A)"
   ]
  },
  {
   "cell_type": "code",
   "execution_count": null,
   "id": "56f3fefe",
   "metadata": {},
   "outputs": [
    {
     "name": "stdout",
     "output_type": "stream",
     "text": [
      "[[1 2 3]\n",
      " [4 5 6]]\n"
     ]
    }
   ],
   "source": [
    "B = array([[1,2,3],\n",
    "          [4,5,6]])\n",
    "print(B)"
   ]
  },
  {
   "cell_type": "markdown",
   "id": "c7c29f4c",
   "metadata": {},
   "source": [
    "**Matrix Addition**"
   ]
  },
  {
   "cell_type": "code",
   "execution_count": null,
   "id": "a25e4157",
   "metadata": {},
   "outputs": [
    {
     "name": "stdout",
     "output_type": "stream",
     "text": [
      "[[ 2  4  6]\n",
      " [ 8 10 12]]\n"
     ]
    }
   ],
   "source": [
    "C = A + B\n",
    "print(C)"
   ]
  },
  {
   "cell_type": "markdown",
   "id": "0306c78c",
   "metadata": {},
   "source": [
    "**Matrix Subtraction**"
   ]
  },
  {
   "cell_type": "code",
   "execution_count": null,
   "id": "c1f7f1c4",
   "metadata": {},
   "outputs": [
    {
     "name": "stdout",
     "output_type": "stream",
     "text": [
      "[[0 0 0]\n",
      " [0 0 0]]\n"
     ]
    }
   ],
   "source": [
    "C = A - B\n",
    "print(C)"
   ]
  },
  {
   "cell_type": "markdown",
   "id": "0ec4497f",
   "metadata": {},
   "source": [
    "**Matrix Multiplication (Hadamard Product)**"
   ]
  },
  {
   "cell_type": "code",
   "execution_count": null,
   "id": "b8ab1b06",
   "metadata": {},
   "outputs": [
    {
     "name": "stdout",
     "output_type": "stream",
     "text": [
      "[[ 1  4  9]\n",
      " [16 25 36]]\n"
     ]
    }
   ],
   "source": [
    "C = A *B\n",
    "print(C)"
   ]
  },
  {
   "cell_type": "markdown",
   "id": "ea4c4123",
   "metadata": {},
   "source": [
    "**Matrix Division**"
   ]
  },
  {
   "cell_type": "code",
   "execution_count": null,
   "id": "fa28e1cd",
   "metadata": {},
   "outputs": [
    {
     "name": "stdout",
     "output_type": "stream",
     "text": [
      "[[1. 1. 1.]\n",
      " [1. 1. 1.]]\n"
     ]
    }
   ],
   "source": [
    "C = A / B\n",
    "print(C)"
   ]
  },
  {
   "cell_type": "markdown",
   "id": "4df0b4d1",
   "metadata": {},
   "source": [
    "### Matrix-Matrix Multiplication"
   ]
  },
  {
   "cell_type": "code",
   "execution_count": null,
   "id": "aaa34367",
   "metadata": {},
   "outputs": [
    {
     "name": "stdout",
     "output_type": "stream",
     "text": [
      "[[1 2]\n",
      " [3 4]\n",
      " [5 6]]\n"
     ]
    }
   ],
   "source": [
    "A = array([\n",
    "    [1,2],\n",
    "    [3,4],\n",
    "    [5,6]])\n",
    "print(A)"
   ]
  },
  {
   "cell_type": "code",
   "execution_count": null,
   "id": "9c6cd0c6",
   "metadata": {},
   "outputs": [
    {
     "name": "stdout",
     "output_type": "stream",
     "text": [
      "[[1 2]\n",
      " [3 4]]\n"
     ]
    }
   ],
   "source": [
    "B = array([\n",
    "    [1,2],\n",
    "    [3,4]])\n",
    "print(B)"
   ]
  },
  {
   "cell_type": "code",
   "execution_count": null,
   "id": "bb297458",
   "metadata": {},
   "outputs": [
    {
     "name": "stdout",
     "output_type": "stream",
     "text": [
      "[[ 7 10]\n",
      " [15 22]\n",
      " [23 34]]\n"
     ]
    }
   ],
   "source": [
    "C = A.dot(B)\n",
    "print(C)"
   ]
  },
  {
   "cell_type": "code",
   "execution_count": null,
   "id": "a2fb2536",
   "metadata": {},
   "outputs": [
    {
     "name": "stdout",
     "output_type": "stream",
     "text": [
      "[[ 7 10]\n",
      " [15 22]\n",
      " [23 34]]\n"
     ]
    }
   ],
   "source": [
    "D = A @ B\n",
    "print(D)"
   ]
  },
  {
   "cell_type": "markdown",
   "id": "ebb8be7f",
   "metadata": {},
   "source": [
    "### Matrix-Vector Multiplication"
   ]
  },
  {
   "cell_type": "code",
   "execution_count": null,
   "id": "7c0c597a",
   "metadata": {},
   "outputs": [
    {
     "name": "stdout",
     "output_type": "stream",
     "text": [
      "[[1 2]\n",
      " [3 4]\n",
      " [5 6]]\n"
     ]
    }
   ],
   "source": [
    "A = array([\n",
    "    [1,2],\n",
    "    [3,4],\n",
    "    [5,6]])\n",
    "print(A)"
   ]
  },
  {
   "cell_type": "code",
   "execution_count": null,
   "id": "58c01afa",
   "metadata": {},
   "outputs": [
    {
     "name": "stdout",
     "output_type": "stream",
     "text": [
      "[0.5 0.5]\n"
     ]
    }
   ],
   "source": [
    "b = array([0.5, 0.5])\n",
    "print(b)"
   ]
  },
  {
   "cell_type": "code",
   "execution_count": null,
   "id": "71da86c4",
   "metadata": {},
   "outputs": [
    {
     "name": "stdout",
     "output_type": "stream",
     "text": [
      "[1.5 3.5 5.5]\n"
     ]
    }
   ],
   "source": [
    "C = A.dot(b)\n",
    "print(C)"
   ]
  },
  {
   "cell_type": "markdown",
   "id": "8d73fa8b",
   "metadata": {},
   "source": [
    "### Matrix-Scalar Multiplication"
   ]
  },
  {
   "cell_type": "code",
   "execution_count": null,
   "id": "e96cf98d",
   "metadata": {},
   "outputs": [
    {
     "name": "stdout",
     "output_type": "stream",
     "text": [
      "[[1 2]\n",
      " [3 4]\n",
      " [5 6]]\n"
     ]
    }
   ],
   "source": [
    "A = array([\n",
    "    [1,2],\n",
    "    [3,4],\n",
    "    [5,6]])\n",
    "print(A)"
   ]
  },
  {
   "cell_type": "code",
   "execution_count": null,
   "id": "bef4b081",
   "metadata": {},
   "outputs": [
    {
     "name": "stdout",
     "output_type": "stream",
     "text": [
      "0.5\n"
     ]
    }
   ],
   "source": [
    "b = 0.5\n",
    "print(b)"
   ]
  },
  {
   "cell_type": "code",
   "execution_count": null,
   "id": "eebb6c5f",
   "metadata": {},
   "outputs": [
    {
     "name": "stdout",
     "output_type": "stream",
     "text": [
      "[[0.5 1. ]\n",
      " [1.5 2. ]\n",
      " [2.5 3. ]]\n"
     ]
    }
   ],
   "source": [
    "C = A*b\n",
    "print(C)"
   ]
  },
  {
   "cell_type": "markdown",
   "id": "d0c394cb",
   "metadata": {},
   "source": [
    "## Types of Matrices"
   ]
  },
  {
   "cell_type": "markdown",
   "id": "5975fd66",
   "metadata": {},
   "source": [
    "**Square Matrix**"
   ]
  },
  {
   "cell_type": "markdown",
   "id": "494d0e8a",
   "metadata": {},
   "source": [
    "**Symmetric Matrix**"
   ]
  },
  {
   "cell_type": "markdown",
   "id": "3b63ce7e",
   "metadata": {},
   "source": [
    "**Triangular Matrix**"
   ]
  },
  {
   "cell_type": "code",
   "execution_count": null,
   "id": "4e2b5ac0",
   "metadata": {},
   "outputs": [
    {
     "name": "stdout",
     "output_type": "stream",
     "text": [
      "[[1 2 3]\n",
      " [1 2 3]\n",
      " [1 2 3]]\n"
     ]
    }
   ],
   "source": [
    "M = array([\n",
    "    [1,2,3],\n",
    "    [1,2,3],\n",
    "    [1,2,3]])\n",
    "print(M)"
   ]
  },
  {
   "cell_type": "code",
   "execution_count": null,
   "id": "a7d15b4c",
   "metadata": {},
   "outputs": [
    {
     "name": "stdout",
     "output_type": "stream",
     "text": [
      "[[1 0 0]\n",
      " [1 2 0]\n",
      " [1 2 3]]\n"
     ]
    }
   ],
   "source": [
    "lower = tril(M)\n",
    "print(lower)"
   ]
  },
  {
   "cell_type": "code",
   "execution_count": null,
   "id": "3c227a37",
   "metadata": {},
   "outputs": [
    {
     "name": "stdout",
     "output_type": "stream",
     "text": [
      "[[1 2 3]\n",
      " [0 2 3]\n",
      " [0 0 3]]\n"
     ]
    }
   ],
   "source": [
    "upper = triu(M)\n",
    "print(upper)"
   ]
  },
  {
   "cell_type": "markdown",
   "id": "6beedeb6",
   "metadata": {},
   "source": [
    "**Diagonal Matrix**"
   ]
  },
  {
   "cell_type": "code",
   "execution_count": null,
   "id": "16956b2a",
   "metadata": {},
   "outputs": [
    {
     "name": "stdout",
     "output_type": "stream",
     "text": [
      "[[1 2 3]\n",
      " [1 2 3]\n",
      " [1 2 3]]\n"
     ]
    }
   ],
   "source": [
    "M = array([\n",
    "    [1,2,3],\n",
    "    [1,2,3],\n",
    "    [1,2,3]])\n",
    "print(M)"
   ]
  },
  {
   "cell_type": "code",
   "execution_count": null,
   "id": "2be6725c",
   "metadata": {},
   "outputs": [
    {
     "name": "stdout",
     "output_type": "stream",
     "text": [
      "[1 2 3]\n"
     ]
    }
   ],
   "source": [
    "d = diag(M)\n",
    "print(d)"
   ]
  },
  {
   "cell_type": "code",
   "execution_count": null,
   "id": "cf7d0f6e",
   "metadata": {},
   "outputs": [
    {
     "name": "stdout",
     "output_type": "stream",
     "text": [
      "[[1 0 0]\n",
      " [0 2 0]\n",
      " [0 0 3]]\n"
     ]
    }
   ],
   "source": [
    "D = diag(d)\n",
    "print(D)"
   ]
  },
  {
   "cell_type": "markdown",
   "id": "ecefbdc6",
   "metadata": {},
   "source": [
    "**Identity Matrix**"
   ]
  },
  {
   "cell_type": "code",
   "execution_count": null,
   "id": "6dfd0ada",
   "metadata": {},
   "outputs": [
    {
     "name": "stdout",
     "output_type": "stream",
     "text": [
      "[[1. 0. 0.]\n",
      " [0. 1. 0.]\n",
      " [0. 0. 1.]]\n"
     ]
    }
   ],
   "source": [
    "I = identity(3)\n",
    "print(I)"
   ]
  },
  {
   "cell_type": "markdown",
   "id": "a0cacf3b",
   "metadata": {},
   "source": [
    "**Orthogonal Matrix**"
   ]
  },
  {
   "cell_type": "code",
   "execution_count": null,
   "id": "6612b666",
   "metadata": {},
   "outputs": [
    {
     "name": "stdout",
     "output_type": "stream",
     "text": [
      "[[ 1  0]\n",
      " [ 0 -1]]\n"
     ]
    }
   ],
   "source": [
    "Q = array([\n",
    "    [1,0],\n",
    "    [0,-1]])\n",
    "print(Q)"
   ]
  },
  {
   "cell_type": "code",
   "execution_count": null,
   "id": "c3e6a82c",
   "metadata": {},
   "outputs": [
    {
     "name": "stdout",
     "output_type": "stream",
     "text": [
      "[[ 1.  0.]\n",
      " [-0. -1.]]\n"
     ]
    }
   ],
   "source": [
    "V = inv(Q)\n",
    "print(V)"
   ]
  },
  {
   "cell_type": "code",
   "execution_count": null,
   "id": "5c88f608",
   "metadata": {},
   "outputs": [
    {
     "name": "stdout",
     "output_type": "stream",
     "text": [
      "[[ 1  0]\n",
      " [ 0 -1]]\n"
     ]
    }
   ],
   "source": [
    "print(Q.T)"
   ]
  },
  {
   "cell_type": "code",
   "execution_count": null,
   "id": "8af97fff",
   "metadata": {},
   "outputs": [
    {
     "name": "stdout",
     "output_type": "stream",
     "text": [
      "[[1 0]\n",
      " [0 1]]\n"
     ]
    }
   ],
   "source": [
    "I = Q.dot(Q.T)\n",
    "print(I)"
   ]
  },
  {
   "cell_type": "markdown",
   "id": "9526e53d",
   "metadata": {},
   "source": [
    "## Matrix Operations"
   ]
  },
  {
   "cell_type": "markdown",
   "id": "214aebe6",
   "metadata": {},
   "source": [
    "**Transpose**"
   ]
  },
  {
   "cell_type": "code",
   "execution_count": null,
   "id": "ea84e118",
   "metadata": {},
   "outputs": [
    {
     "name": "stdout",
     "output_type": "stream",
     "text": [
      "[[1 2]\n",
      " [3 4]\n",
      " [5 6]]\n"
     ]
    }
   ],
   "source": [
    "A = array([\n",
    "    [1,2],\n",
    "    [3,4],\n",
    "    [5,6]])\n",
    "print(A)"
   ]
  },
  {
   "cell_type": "code",
   "execution_count": null,
   "id": "8991937c",
   "metadata": {},
   "outputs": [
    {
     "name": "stdout",
     "output_type": "stream",
     "text": [
      "[[1 3 5]\n",
      " [2 4 6]]\n"
     ]
    }
   ],
   "source": [
    "C = A.T\n",
    "print(C)"
   ]
  },
  {
   "cell_type": "markdown",
   "id": "5e050639",
   "metadata": {},
   "source": [
    "**Inverse**"
   ]
  },
  {
   "cell_type": "code",
   "execution_count": null,
   "id": "d78f7680",
   "metadata": {},
   "outputs": [
    {
     "name": "stdout",
     "output_type": "stream",
     "text": [
      "[[1. 2.]\n",
      " [3. 4.]]\n"
     ]
    }
   ],
   "source": [
    "A = array([\n",
    "    [1.0, 2.0],\n",
    "    [3.0, 4.0]])\n",
    "print(A)"
   ]
  },
  {
   "cell_type": "code",
   "execution_count": null,
   "id": "6509c013",
   "metadata": {},
   "outputs": [
    {
     "name": "stdout",
     "output_type": "stream",
     "text": [
      "[[-2.   1. ]\n",
      " [ 1.5 -0.5]]\n"
     ]
    }
   ],
   "source": [
    "B = inv(A)\n",
    "print(B)"
   ]
  },
  {
   "cell_type": "code",
   "execution_count": null,
   "id": "1c0124b1",
   "metadata": {},
   "outputs": [
    {
     "name": "stdout",
     "output_type": "stream",
     "text": [
      "[[1.0000000e+00 0.0000000e+00]\n",
      " [8.8817842e-16 1.0000000e+00]]\n"
     ]
    }
   ],
   "source": [
    "I = A.dot(B)\n",
    "print(I)"
   ]
  },
  {
   "cell_type": "markdown",
   "id": "ce16172c",
   "metadata": {},
   "source": [
    "**Trace**"
   ]
  },
  {
   "cell_type": "code",
   "execution_count": null,
   "id": "5f536a20",
   "metadata": {},
   "outputs": [
    {
     "name": "stdout",
     "output_type": "stream",
     "text": [
      "[[1 2 3]\n",
      " [4 5 6]\n",
      " [7 8 9]]\n"
     ]
    }
   ],
   "source": [
    "A = array([\n",
    "    [1,2,3],\n",
    "    [4,5,6],\n",
    "    [7,8,9]])\n",
    "print(A)"
   ]
  },
  {
   "cell_type": "code",
   "execution_count": null,
   "id": "39cba04d",
   "metadata": {},
   "outputs": [
    {
     "name": "stdout",
     "output_type": "stream",
     "text": [
      "15\n"
     ]
    }
   ],
   "source": [
    "B = trace(A)\n",
    "print(B)"
   ]
  },
  {
   "cell_type": "markdown",
   "id": "8d4809de",
   "metadata": {},
   "source": [
    "**Determinant**"
   ]
  },
  {
   "cell_type": "code",
   "execution_count": null,
   "id": "12b3d00c",
   "metadata": {},
   "outputs": [
    {
     "name": "stdout",
     "output_type": "stream",
     "text": [
      "[[ 1  2  3]\n",
      " [ 4  5  6]\n",
      " [ 7  8 99]]\n"
     ]
    }
   ],
   "source": [
    "A = array([\n",
    "    [1,2,3],\n",
    "    [4,5,6],\n",
    "    [7,8,99]])\n",
    "print(A)"
   ]
  },
  {
   "cell_type": "code",
   "execution_count": null,
   "id": "f597bce2",
   "metadata": {},
   "outputs": [
    {
     "name": "stdout",
     "output_type": "stream",
     "text": [
      "-269.99999999999983\n"
     ]
    }
   ],
   "source": [
    "B = det(A)\n",
    "print(B)"
   ]
  },
  {
   "cell_type": "markdown",
   "id": "05f93342",
   "metadata": {},
   "source": [
    "**Rank**"
   ]
  },
  {
   "cell_type": "code",
   "execution_count": null,
   "id": "f6272c7d",
   "metadata": {},
   "outputs": [
    {
     "name": "stdout",
     "output_type": "stream",
     "text": [
      "[1 2 3]\n"
     ]
    }
   ],
   "source": [
    "v1 = array([1,2,3])\n",
    "print(v1)"
   ]
  },
  {
   "cell_type": "code",
   "execution_count": null,
   "id": "47da10f8",
   "metadata": {},
   "outputs": [
    {
     "name": "stdout",
     "output_type": "stream",
     "text": [
      "1\n"
     ]
    }
   ],
   "source": [
    "print(matrix_rank(v1))"
   ]
  },
  {
   "cell_type": "code",
   "execution_count": null,
   "id": "8d58f2e9",
   "metadata": {},
   "outputs": [
    {
     "name": "stdout",
     "output_type": "stream",
     "text": [
      "[0 0 0 0 0]\n"
     ]
    }
   ],
   "source": [
    "v2 = array([0,0,0,0,0])\n",
    "print(v2)"
   ]
  },
  {
   "cell_type": "code",
   "execution_count": null,
   "id": "f552f03e",
   "metadata": {},
   "outputs": [
    {
     "name": "stdout",
     "output_type": "stream",
     "text": [
      "0\n"
     ]
    }
   ],
   "source": [
    "print(matrix_rank(v2))"
   ]
  },
  {
   "cell_type": "code",
   "execution_count": null,
   "id": "da1c5052",
   "metadata": {},
   "outputs": [
    {
     "name": "stdout",
     "output_type": "stream",
     "text": [
      "[[0 0]\n",
      " [0 0]]\n"
     ]
    }
   ],
   "source": [
    "M0 = array([\n",
    "    [0,0],\n",
    "    [0,0]])\n",
    "print(M0)"
   ]
  },
  {
   "cell_type": "code",
   "execution_count": null,
   "id": "1d284e23",
   "metadata": {},
   "outputs": [
    {
     "name": "stdout",
     "output_type": "stream",
     "text": [
      "0\n"
     ]
    }
   ],
   "source": [
    "print(matrix_rank(M0))"
   ]
  },
  {
   "cell_type": "code",
   "execution_count": null,
   "id": "3c6c0d2d",
   "metadata": {},
   "outputs": [
    {
     "name": "stdout",
     "output_type": "stream",
     "text": [
      "[[1 2]\n",
      " [1 2]]\n"
     ]
    }
   ],
   "source": [
    "M1 = array([\n",
    "    [1,2],\n",
    "    [1,2]])\n",
    "print(M1)"
   ]
  },
  {
   "cell_type": "code",
   "execution_count": null,
   "id": "caba1518",
   "metadata": {},
   "outputs": [
    {
     "name": "stdout",
     "output_type": "stream",
     "text": [
      "1\n"
     ]
    }
   ],
   "source": [
    "print(matrix_rank(M1))"
   ]
  },
  {
   "cell_type": "code",
   "execution_count": null,
   "id": "eac47e19",
   "metadata": {},
   "outputs": [
    {
     "name": "stdout",
     "output_type": "stream",
     "text": [
      "[[1 2]\n",
      " [3 4]]\n"
     ]
    }
   ],
   "source": [
    "M2 = array([\n",
    "    [1,2],\n",
    "    [3,4]])\n",
    "print(M2)"
   ]
  },
  {
   "cell_type": "code",
   "execution_count": null,
   "id": "ec1f3cbf",
   "metadata": {},
   "outputs": [
    {
     "name": "stdout",
     "output_type": "stream",
     "text": [
      "2\n"
     ]
    }
   ],
   "source": [
    "print(matrix_rank(M2))"
   ]
  },
  {
   "cell_type": "markdown",
   "id": "f2e1adff",
   "metadata": {},
   "source": [
    "## Sparse Matrices"
   ]
  },
  {
   "cell_type": "markdown",
   "id": "0a2d7985",
   "metadata": {},
   "source": [
    "**Sparse Matrices in Python**"
   ]
  },
  {
   "cell_type": "code",
   "execution_count": null,
   "id": "3fa8148a",
   "metadata": {},
   "outputs": [
    {
     "name": "stdout",
     "output_type": "stream",
     "text": [
      "[[1 0 0 1 0 0]\n",
      " [0 0 2 0 0 1]\n",
      " [0 0 0 2 0 0]]\n"
     ]
    }
   ],
   "source": [
    "A = array([\n",
    "    [1,0,0,1,0,0],\n",
    "    [0,0,2,0,0,1],\n",
    "    [0,0,0,2,0,0]])\n",
    "print(A)"
   ]
  },
  {
   "cell_type": "code",
   "execution_count": null,
   "id": "dbd88b90",
   "metadata": {},
   "outputs": [
    {
     "name": "stdout",
     "output_type": "stream",
     "text": [
      "  (0, 0)\t1\n",
      "  (0, 3)\t1\n",
      "  (1, 2)\t2\n",
      "  (1, 5)\t1\n",
      "  (2, 3)\t2\n"
     ]
    }
   ],
   "source": [
    "S = csr_matrix(A)\n",
    "print(S)"
   ]
  },
  {
   "cell_type": "code",
   "execution_count": null,
   "id": "fe268c39",
   "metadata": {},
   "outputs": [
    {
     "name": "stdout",
     "output_type": "stream",
     "text": [
      "[[1 0 0 1 0 0]\n",
      " [0 0 2 0 0 1]\n",
      " [0 0 0 2 0 0]]\n"
     ]
    }
   ],
   "source": [
    "B = S.todense()\n",
    "print(B)"
   ]
  },
  {
   "cell_type": "code",
   "execution_count": null,
   "id": "b88876ee",
   "metadata": {},
   "outputs": [
    {
     "name": "stdout",
     "output_type": "stream",
     "text": [
      "0.7222222222222222\n"
     ]
    }
   ],
   "source": [
    "sparsity = 1.0 - count_nonzero(A) / A.size\n",
    "print(sparsity)"
   ]
  },
  {
   "cell_type": "markdown",
   "id": "fc7781e8",
   "metadata": {},
   "source": [
    "## Tensors and Tensor Arithmetic"
   ]
  },
  {
   "cell_type": "markdown",
   "id": "451cc4f0",
   "metadata": {},
   "source": [
    "### Tensors in Python"
   ]
  },
  {
   "cell_type": "code",
   "execution_count": null,
   "id": "db3a80c8",
   "metadata": {},
   "outputs": [
    {
     "name": "stdout",
     "output_type": "stream",
     "text": [
      "[[[ 1  2  3]\n",
      "  [ 4  5  6]\n",
      "  [ 7  8  9]]\n",
      "\n",
      " [[11 12 13]\n",
      "  [14 15 16]\n",
      "  [17 18 19]]\n",
      "\n",
      " [[21 22 23]\n",
      "  [24 25 26]\n",
      "  [27 28 29]]]\n"
     ]
    }
   ],
   "source": [
    "T = array([\n",
    "    [[1,2,3], [4,5,6], [7,8,9]],\n",
    "    [[11,12,13], [14,15,16], [17,18,19]],\n",
    "    [[21,22,23], [24,25,26], [27,28,29]]])\n",
    "print(T)"
   ]
  },
  {
   "cell_type": "code",
   "execution_count": null,
   "id": "369cb64f",
   "metadata": {},
   "outputs": [
    {
     "name": "stdout",
     "output_type": "stream",
     "text": [
      "(3, 3, 3)\n"
     ]
    }
   ],
   "source": [
    "print(T.shape)"
   ]
  },
  {
   "cell_type": "markdown",
   "id": "cf61a447",
   "metadata": {},
   "source": [
    "### Tensor Arithmetic"
   ]
  },
  {
   "cell_type": "markdown",
   "id": "55b36185",
   "metadata": {},
   "source": [
    "**Tensor Addition**"
   ]
  },
  {
   "cell_type": "code",
   "execution_count": null,
   "id": "cf97b533",
   "metadata": {},
   "outputs": [
    {
     "name": "stdout",
     "output_type": "stream",
     "text": [
      "[[[ 2  4  6]\n",
      "  [ 8 10 12]\n",
      "  [14 16 18]]\n",
      "\n",
      " [[22 24 26]\n",
      "  [28 30 32]\n",
      "  [34 36 38]]\n",
      "\n",
      " [[42 44 46]\n",
      "  [48 50 52]\n",
      "  [54 56 58]]]\n"
     ]
    }
   ],
   "source": [
    "A = array([\n",
    "    [[1,2,3], [4,5,6], [7,8,9]],\n",
    "    [[11,12,13], [14,15,16], [17,18,19]],\n",
    "    [[21,22,23], [24,25,26], [27,28,29]]])\n",
    "\n",
    "B = array([\n",
    "    [[1,2,3], [4,5,6], [7,8,9]],\n",
    "    [[11,12,13], [14,15,16], [17,18,19]],\n",
    "    [[21,22,23], [24,25,26], [27,28,29]]])\n",
    "\n",
    "C = A + B\n",
    "print(C)"
   ]
  },
  {
   "cell_type": "markdown",
   "id": "657bba06",
   "metadata": {},
   "source": [
    "**Tensor Subtraction**"
   ]
  },
  {
   "cell_type": "code",
   "execution_count": null,
   "id": "d3f7239c",
   "metadata": {},
   "outputs": [
    {
     "name": "stdout",
     "output_type": "stream",
     "text": [
      "[[[0 0 0]\n",
      "  [0 0 0]\n",
      "  [0 0 0]]\n",
      "\n",
      " [[0 0 0]\n",
      "  [0 0 0]\n",
      "  [0 0 0]]\n",
      "\n",
      " [[0 0 0]\n",
      "  [0 0 0]\n",
      "  [0 0 0]]]\n"
     ]
    }
   ],
   "source": [
    "A = array([\n",
    "    [[1,2,3], [4,5,6], [7,8,9]],\n",
    "    [[11,12,13], [14,15,16], [17,18,19]],\n",
    "    [[21,22,23], [24,25,26], [27,28,29]]])\n",
    "\n",
    "B = array([\n",
    "    [[1,2,3], [4,5,6], [7,8,9]],\n",
    "    [[11,12,13], [14,15,16], [17,18,19]],\n",
    "    [[21,22,23], [24,25,26], [27,28,29]]])\n",
    "\n",
    "C = A - B\n",
    "print(C)"
   ]
  },
  {
   "cell_type": "markdown",
   "id": "40d87ffb",
   "metadata": {},
   "source": [
    "**Tensor Hadamard Product**"
   ]
  },
  {
   "cell_type": "code",
   "execution_count": null,
   "id": "b2b3e38a",
   "metadata": {},
   "outputs": [
    {
     "name": "stdout",
     "output_type": "stream",
     "text": [
      "[[[  1   4   9]\n",
      "  [ 16  25  36]\n",
      "  [ 49  64  81]]\n",
      "\n",
      " [[121 144 169]\n",
      "  [196 225 256]\n",
      "  [289 324 361]]\n",
      "\n",
      " [[441 484 529]\n",
      "  [576 625 676]\n",
      "  [729 784 841]]]\n"
     ]
    }
   ],
   "source": [
    "A = array([\n",
    "    [[1,2,3], [4,5,6], [7,8,9]],\n",
    "    [[11,12,13], [14,15,16], [17,18,19]],\n",
    "    [[21,22,23], [24,25,26], [27,28,29]]])\n",
    "\n",
    "B = array([\n",
    "    [[1,2,3], [4,5,6], [7,8,9]],\n",
    "    [[11,12,13], [14,15,16], [17,18,19]],\n",
    "    [[21,22,23], [24,25,26], [27,28,29]]])\n",
    "\n",
    "C = A * B\n",
    "print(C)"
   ]
  },
  {
   "cell_type": "markdown",
   "id": "78283e8b",
   "metadata": {},
   "source": [
    "**Tensor Division**"
   ]
  },
  {
   "cell_type": "code",
   "execution_count": null,
   "id": "f1dbb484",
   "metadata": {},
   "outputs": [
    {
     "name": "stdout",
     "output_type": "stream",
     "text": [
      "[[[1. 1. 1.]\n",
      "  [1. 1. 1.]\n",
      "  [1. 1. 1.]]\n",
      "\n",
      " [[1. 1. 1.]\n",
      "  [1. 1. 1.]\n",
      "  [1. 1. 1.]]\n",
      "\n",
      " [[1. 1. 1.]\n",
      "  [1. 1. 1.]\n",
      "  [1. 1. 1.]]]\n"
     ]
    }
   ],
   "source": [
    "A = array([\n",
    "    [[1,2,3], [4,5,6], [7,8,9]],\n",
    "    [[11,12,13], [14,15,16], [17,18,19]],\n",
    "    [[21,22,23], [24,25,26], [27,28,29]]])\n",
    "\n",
    "B = array([\n",
    "    [[1,2,3], [4,5,6], [7,8,9]],\n",
    "    [[11,12,13], [14,15,16], [17,18,19]],\n",
    "    [[21,22,23], [24,25,26], [27,28,29]]])\n",
    "\n",
    "C = A / B\n",
    "print(C)"
   ]
  },
  {
   "cell_type": "markdown",
   "id": "9e4b0b9d",
   "metadata": {},
   "source": [
    "### Tensor Product"
   ]
  },
  {
   "cell_type": "code",
   "execution_count": null,
   "id": "f889b89d",
   "metadata": {},
   "outputs": [],
   "source": [
    "A = array([1,2])\n",
    "B = array([3,4])"
   ]
  },
  {
   "cell_type": "code",
   "execution_count": null,
   "id": "45bd9a77",
   "metadata": {},
   "outputs": [
    {
     "name": "stdout",
     "output_type": "stream",
     "text": [
      "[[3 4]\n",
      " [6 8]]\n"
     ]
    }
   ],
   "source": [
    "C = tensordot(A, B, axes=0)\n",
    "print(C)"
   ]
  },
  {
   "cell_type": "code",
   "execution_count": null,
   "id": "924f77d9",
   "metadata": {},
   "outputs": [],
   "source": []
  }
 ],
 "metadata": {
  "kernelspec": {
   "display_name": "Python 3 (ipykernel)",
   "language": "python",
   "name": "python3"
  }
 },
 "nbformat": 4,
 "nbformat_minor": 5
}
