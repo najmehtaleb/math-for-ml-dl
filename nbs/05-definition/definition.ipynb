{
 "cells": [
  {
   "cell_type": "markdown",
   "id": "032749b8",
   "metadata": {},
   "source": [
    "# Short Definition"
   ]
  },
  {
   "cell_type": "markdown",
   "id": "0bffdc1c",
   "metadata": {},
   "source": [
    "Random experiment \n",
    "\n",
    "Sapmle space\n",
    "\n",
    "Event\n",
    "\n",
    "Random variables\n",
    "* Discrete Random Variables \n",
    "* Continuous Random Variables \n",
    "\n",
    "Joint, Marginal, and Conditional Probability\n",
    "\n",
    "Probbaility Distribution\n",
    "* PMF\n",
    "* PDF \n",
    "* CDF\n",
    "* PPF: Percent-Point Function\n",
    "\n",
    "\n",
    "Probbaility Distributions\n",
    "* Discrete Probability Distributions\n",
    "    * Bernoulli Distribution\n",
    "    * Binomial Distribution\n",
    "    * Multinoulli Distribution\n",
    "    * Multinomial Distribution\n",
    "    * Geometric distribution\n",
    "    \n",
    "* Continuous Probability Distributions\n",
    "    * Normal Distribution\n",
    "    * Exponential Distribution\n",
    "    * Pareto Distribution"
   ]
  },
  {
   "cell_type": "markdown",
   "id": "9d82cad3",
   "metadata": {},
   "source": [
    "* Expected Value. The average value of a random variable.\n",
    "* Variance. The average spread of values around the expected value.\n",
    "* Covariance: The variance between two variables is called the covariance and summarizes the linear relationship for how two random variables change together."
   ]
  },
  {
   "cell_type": "markdown",
   "id": "0b72999c",
   "metadata": {},
   "source": []
  }
 ],
 "metadata": {
  "kernelspec": {
   "display_name": "Python 3 (ipykernel)",
   "language": "python",
   "name": "python3"
  }
 },
 "nbformat": 4,
 "nbformat_minor": 5
}
