{
 "cells": [
  {
   "cell_type": "markdown",
   "id": "7e4992f8",
   "metadata": {},
   "source": [
    "# Just Code"
   ]
  },
  {
   "cell_type": "code",
   "execution_count": null,
   "id": "d1ef59da",
   "metadata": {},
   "outputs": [],
   "source": []
  }
 ],
 "metadata": {
  "kernelspec": {
   "display_name": "Python 3 (ipykernel)",
   "language": "python",
   "name": "python3"
  }
 },
 "nbformat": 4,
 "nbformat_minor": 5
}
