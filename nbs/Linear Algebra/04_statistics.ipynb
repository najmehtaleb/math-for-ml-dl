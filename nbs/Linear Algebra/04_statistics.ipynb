{
 "cells": [
  {
   "cell_type": "markdown",
   "id": "ecc69a83",
   "metadata": {},
   "source": [
    "# Statistics"
   ]
  },
  {
   "cell_type": "code",
   "execution_count": null,
   "id": "5a40e8c3",
   "metadata": {},
   "outputs": [],
   "source": [
    "from numpy import array\n",
    "from numpy import mean, var, std, cov, corrcoef\n",
    "from numpy.linalg import eig, inv, pinv, qr, lstsq\n",
    "from sklearn.decomposition import PCA\n",
    "from matplotlib import pyplot"
   ]
  },
  {
   "cell_type": "markdown",
   "id": "26498c85",
   "metadata": {},
   "source": [
    "## Introduction to Multivariate Statistics"
   ]
  },
  {
   "cell_type": "markdown",
   "id": "470cc0a3",
   "metadata": {},
   "source": [
    "### Expected Value and Mean"
   ]
  },
  {
   "cell_type": "code",
   "execution_count": null,
   "id": "372f9a1a",
   "metadata": {},
   "outputs": [
    {
     "name": "stdout",
     "output_type": "stream",
     "text": [
      "[1 2 3 4 5 6]\n"
     ]
    }
   ],
   "source": [
    "v = array([1,2,3,4,5,6])\n",
    "print(v)"
   ]
  },
  {
   "cell_type": "code",
   "execution_count": null,
   "id": "4d6fc99a",
   "metadata": {},
   "outputs": [
    {
     "name": "stdout",
     "output_type": "stream",
     "text": [
      "3.5\n"
     ]
    }
   ],
   "source": [
    "result = mean(v)\n",
    "print(result)"
   ]
  },
  {
   "cell_type": "code",
   "execution_count": null,
   "id": "60421ff5",
   "metadata": {},
   "outputs": [
    {
     "name": "stdout",
     "output_type": "stream",
     "text": [
      "[[1 2 3 4 5 6]\n",
      " [1 2 3 4 5 6]]\n"
     ]
    }
   ],
   "source": [
    "M = array([\n",
    "    [1,2,3,4,5,6],\n",
    "    [1,2,3,4,5,6]])\n",
    "print(M)"
   ]
  },
  {
   "cell_type": "code",
   "execution_count": null,
   "id": "181b2e23",
   "metadata": {},
   "outputs": [
    {
     "name": "stdout",
     "output_type": "stream",
     "text": [
      "[1. 2. 3. 4. 5. 6.]\n"
     ]
    }
   ],
   "source": [
    "col_mean = mean(M, axis=0)\n",
    "print(col_mean)"
   ]
  },
  {
   "cell_type": "code",
   "execution_count": null,
   "id": "38835d12",
   "metadata": {},
   "outputs": [
    {
     "name": "stdout",
     "output_type": "stream",
     "text": [
      "[3.5 3.5]\n"
     ]
    }
   ],
   "source": [
    "row_mean = mean(M, axis=1)\n",
    "print(row_mean)"
   ]
  },
  {
   "cell_type": "markdown",
   "id": "ff30a7ab",
   "metadata": {},
   "source": [
    "### Variance and Standard Deviation"
   ]
  },
  {
   "cell_type": "code",
   "execution_count": null,
   "id": "9c77f43f",
   "metadata": {},
   "outputs": [
    {
     "name": "stdout",
     "output_type": "stream",
     "text": [
      "[1 2 3 4 5 6]\n"
     ]
    }
   ],
   "source": [
    "v = array([1,2,3,4,5,6])\n",
    "print(v)"
   ]
  },
  {
   "cell_type": "code",
   "execution_count": null,
   "id": "cb21ab94",
   "metadata": {},
   "outputs": [
    {
     "name": "stdout",
     "output_type": "stream",
     "text": [
      "3.5\n"
     ]
    }
   ],
   "source": [
    "result = var(v, ddof=1)\n",
    "print(result)"
   ]
  },
  {
   "cell_type": "code",
   "execution_count": null,
   "id": "34de7fac",
   "metadata": {},
   "outputs": [
    {
     "name": "stdout",
     "output_type": "stream",
     "text": [
      "[[1 2 3 4 5 6]\n",
      " [1 2 3 4 5 6]]\n"
     ]
    }
   ],
   "source": [
    "M = array([\n",
    "    [1,2,3,4,5,6],\n",
    "    [1,2,3,4,5,6]])\n",
    "print(M)"
   ]
  },
  {
   "cell_type": "code",
   "execution_count": null,
   "id": "d47e6b9c",
   "metadata": {},
   "outputs": [
    {
     "name": "stdout",
     "output_type": "stream",
     "text": [
      "[0. 0. 0. 0. 0. 0.]\n"
     ]
    }
   ],
   "source": [
    "col_var = var(M, ddof=1, axis=0)\n",
    "print(col_var)"
   ]
  },
  {
   "cell_type": "code",
   "execution_count": null,
   "id": "f9ab9d59",
   "metadata": {},
   "outputs": [
    {
     "name": "stdout",
     "output_type": "stream",
     "text": [
      "[3.5 3.5]\n"
     ]
    }
   ],
   "source": [
    "row_var = var(M, ddof=1, axis=1)\n",
    "print(row_var)"
   ]
  },
  {
   "cell_type": "code",
   "execution_count": null,
   "id": "21466429",
   "metadata": {},
   "outputs": [
    {
     "name": "stdout",
     "output_type": "stream",
     "text": [
      "[0. 0. 0. 0. 0. 0.]\n"
     ]
    }
   ],
   "source": [
    "col_std = std(M, ddof=1, axis=0)\n",
    "print(col_std)"
   ]
  },
  {
   "cell_type": "code",
   "execution_count": null,
   "id": "3276b494",
   "metadata": {},
   "outputs": [
    {
     "name": "stdout",
     "output_type": "stream",
     "text": [
      "[1.87082869 1.87082869]\n"
     ]
    }
   ],
   "source": [
    "row_std = std(M, ddof=1, axis=1)\n",
    "print(row_std)"
   ]
  },
  {
   "cell_type": "markdown",
   "id": "e22e260f",
   "metadata": {},
   "source": [
    "### Covariance and Correlation"
   ]
  },
  {
   "cell_type": "code",
   "execution_count": null,
   "id": "c3a27b32",
   "metadata": {},
   "outputs": [
    {
     "name": "stdout",
     "output_type": "stream",
     "text": [
      "[1 2 3 4 5 6 7 8 9]\n"
     ]
    }
   ],
   "source": [
    "x = array([1,2,3,4,5,6,7,8,9])\n",
    "print(x)"
   ]
  },
  {
   "cell_type": "code",
   "execution_count": null,
   "id": "a588b456",
   "metadata": {},
   "outputs": [
    {
     "name": "stdout",
     "output_type": "stream",
     "text": [
      "[9 8 7 6 5 4 3 2 1]\n"
     ]
    }
   ],
   "source": [
    "y = array([9,8,7,6,5,4,3,2,1])\n",
    "print(y)"
   ]
  },
  {
   "cell_type": "code",
   "execution_count": null,
   "id": "74ac2141",
   "metadata": {},
   "outputs": [
    {
     "name": "stdout",
     "output_type": "stream",
     "text": [
      "-7.5\n"
     ]
    }
   ],
   "source": [
    "Sigma = cov(x,y)[0,1]\n",
    "print(Sigma)"
   ]
  },
  {
   "cell_type": "code",
   "execution_count": null,
   "id": "6d72739d",
   "metadata": {},
   "outputs": [
    {
     "name": "stdout",
     "output_type": "stream",
     "text": [
      "-1.0\n"
     ]
    }
   ],
   "source": [
    "corr = corrcoef(x,y)[0,1]\n",
    "print(corr)"
   ]
  },
  {
   "cell_type": "markdown",
   "id": "3df54eea",
   "metadata": {},
   "source": [
    "### Covariance Matrix"
   ]
  },
  {
   "cell_type": "code",
   "execution_count": null,
   "id": "5efc3041",
   "metadata": {},
   "outputs": [
    {
     "name": "stdout",
     "output_type": "stream",
     "text": [
      "[[ 1  5  8]\n",
      " [ 3  5 11]\n",
      " [ 2  4  9]\n",
      " [ 3  6 10]\n",
      " [ 1  5 10]]\n"
     ]
    }
   ],
   "source": [
    "X = array([\n",
    "    [1, 5, 8],\n",
    "    [3, 5, 11],\n",
    "    [2, 4, 9],\n",
    "    [3, 6, 10],\n",
    "    [1, 5, 10]])\n",
    "print(X)"
   ]
  },
  {
   "cell_type": "code",
   "execution_count": null,
   "id": "0c1ceece",
   "metadata": {},
   "outputs": [
    {
     "name": "stdout",
     "output_type": "stream",
     "text": [
      "[[1.   0.25 0.75]\n",
      " [0.25 0.5  0.25]\n",
      " [0.75 0.25 1.3 ]]\n"
     ]
    }
   ],
   "source": [
    "Sigma = cov(X.T)\n",
    "print(Sigma)"
   ]
  },
  {
   "cell_type": "markdown",
   "id": "da4b0ce5",
   "metadata": {},
   "source": [
    "## Principal Component Analysis"
   ]
  },
  {
   "cell_type": "markdown",
   "id": "d775807c",
   "metadata": {},
   "source": [
    "### Calculate Principal Component Analysis"
   ]
  },
  {
   "cell_type": "code",
   "execution_count": null,
   "id": "cbf10e80",
   "metadata": {},
   "outputs": [
    {
     "name": "stdout",
     "output_type": "stream",
     "text": [
      "[[1 2]\n",
      " [3 4]\n",
      " [5 6]]\n"
     ]
    }
   ],
   "source": [
    "A = array([\n",
    "    [1,2],\n",
    "    [3,4],\n",
    "    [5,6]])\n",
    "print(A)"
   ]
  },
  {
   "cell_type": "code",
   "execution_count": null,
   "id": "115a933d",
   "metadata": {},
   "outputs": [],
   "source": [
    "M = mean(A.T, axis=1)"
   ]
  },
  {
   "cell_type": "code",
   "execution_count": null,
   "id": "41357df5",
   "metadata": {},
   "outputs": [],
   "source": [
    "C = A - M"
   ]
  },
  {
   "cell_type": "code",
   "execution_count": null,
   "id": "8492075a",
   "metadata": {},
   "outputs": [],
   "source": [
    "V = cov(C.T)"
   ]
  },
  {
   "cell_type": "code",
   "execution_count": null,
   "id": "50ea2471",
   "metadata": {},
   "outputs": [],
   "source": [
    "values, vectors = eig(V)"
   ]
  },
  {
   "cell_type": "code",
   "execution_count": null,
   "id": "84288cea",
   "metadata": {},
   "outputs": [
    {
     "name": "stdout",
     "output_type": "stream",
     "text": [
      "[[ 0.70710678 -0.70710678]\n",
      " [ 0.70710678  0.70710678]]\n"
     ]
    }
   ],
   "source": [
    "print(vectors)"
   ]
  },
  {
   "cell_type": "code",
   "execution_count": null,
   "id": "8f2f1f7e",
   "metadata": {},
   "outputs": [
    {
     "name": "stdout",
     "output_type": "stream",
     "text": [
      "[8. 0.]\n"
     ]
    }
   ],
   "source": [
    "print(values)"
   ]
  },
  {
   "cell_type": "code",
   "execution_count": null,
   "id": "57280574",
   "metadata": {},
   "outputs": [
    {
     "name": "stdout",
     "output_type": "stream",
     "text": [
      "[[-2.82842712  0.        ]\n",
      " [ 0.          0.        ]\n",
      " [ 2.82842712  0.        ]]\n"
     ]
    }
   ],
   "source": [
    "P = vectors.T.dot(C.T)\n",
    "print(P.T)"
   ]
  },
  {
   "cell_type": "markdown",
   "id": "3f36ce42",
   "metadata": {},
   "source": [
    "### Principal Component Analysis in scikit-learn"
   ]
  },
  {
   "cell_type": "code",
   "execution_count": null,
   "id": "87eacd18",
   "metadata": {},
   "outputs": [
    {
     "name": "stdout",
     "output_type": "stream",
     "text": [
      "[[1 2]\n",
      " [3 4]\n",
      " [5 6]]\n"
     ]
    }
   ],
   "source": [
    "A = array([\n",
    "    [1,2],\n",
    "    [3,4],\n",
    "    [5,6]])\n",
    "print(A)"
   ]
  },
  {
   "cell_type": "code",
   "execution_count": null,
   "id": "fe75cec3",
   "metadata": {},
   "outputs": [],
   "source": [
    "pca = PCA(2)"
   ]
  },
  {
   "cell_type": "code",
   "execution_count": null,
   "id": "e34c2292",
   "metadata": {},
   "outputs": [
    {
     "data": {
      "text/html": [
       "<style>#sk-container-id-1 {color: black;background-color: white;}#sk-container-id-1 pre{padding: 0;}#sk-container-id-1 div.sk-toggleable {background-color: white;}#sk-container-id-1 label.sk-toggleable__label {cursor: pointer;display: block;width: 100%;margin-bottom: 0;padding: 0.3em;box-sizing: border-box;text-align: center;}#sk-container-id-1 label.sk-toggleable__label-arrow:before {content: \"▸\";float: left;margin-right: 0.25em;color: #696969;}#sk-container-id-1 label.sk-toggleable__label-arrow:hover:before {color: black;}#sk-container-id-1 div.sk-estimator:hover label.sk-toggleable__label-arrow:before {color: black;}#sk-container-id-1 div.sk-toggleable__content {max-height: 0;max-width: 0;overflow: hidden;text-align: left;background-color: #f0f8ff;}#sk-container-id-1 div.sk-toggleable__content pre {margin: 0.2em;color: black;border-radius: 0.25em;background-color: #f0f8ff;}#sk-container-id-1 input.sk-toggleable__control:checked~div.sk-toggleable__content {max-height: 200px;max-width: 100%;overflow: auto;}#sk-container-id-1 input.sk-toggleable__control:checked~label.sk-toggleable__label-arrow:before {content: \"▾\";}#sk-container-id-1 div.sk-estimator input.sk-toggleable__control:checked~label.sk-toggleable__label {background-color: #d4ebff;}#sk-container-id-1 div.sk-label input.sk-toggleable__control:checked~label.sk-toggleable__label {background-color: #d4ebff;}#sk-container-id-1 input.sk-hidden--visually {border: 0;clip: rect(1px 1px 1px 1px);clip: rect(1px, 1px, 1px, 1px);height: 1px;margin: -1px;overflow: hidden;padding: 0;position: absolute;width: 1px;}#sk-container-id-1 div.sk-estimator {font-family: monospace;background-color: #f0f8ff;border: 1px dotted black;border-radius: 0.25em;box-sizing: border-box;margin-bottom: 0.5em;}#sk-container-id-1 div.sk-estimator:hover {background-color: #d4ebff;}#sk-container-id-1 div.sk-parallel-item::after {content: \"\";width: 100%;border-bottom: 1px solid gray;flex-grow: 1;}#sk-container-id-1 div.sk-label:hover label.sk-toggleable__label {background-color: #d4ebff;}#sk-container-id-1 div.sk-serial::before {content: \"\";position: absolute;border-left: 1px solid gray;box-sizing: border-box;top: 0;bottom: 0;left: 50%;z-index: 0;}#sk-container-id-1 div.sk-serial {display: flex;flex-direction: column;align-items: center;background-color: white;padding-right: 0.2em;padding-left: 0.2em;position: relative;}#sk-container-id-1 div.sk-item {position: relative;z-index: 1;}#sk-container-id-1 div.sk-parallel {display: flex;align-items: stretch;justify-content: center;background-color: white;position: relative;}#sk-container-id-1 div.sk-item::before, #sk-container-id-1 div.sk-parallel-item::before {content: \"\";position: absolute;border-left: 1px solid gray;box-sizing: border-box;top: 0;bottom: 0;left: 50%;z-index: -1;}#sk-container-id-1 div.sk-parallel-item {display: flex;flex-direction: column;z-index: 1;position: relative;background-color: white;}#sk-container-id-1 div.sk-parallel-item:first-child::after {align-self: flex-end;width: 50%;}#sk-container-id-1 div.sk-parallel-item:last-child::after {align-self: flex-start;width: 50%;}#sk-container-id-1 div.sk-parallel-item:only-child::after {width: 0;}#sk-container-id-1 div.sk-dashed-wrapped {border: 1px dashed gray;margin: 0 0.4em 0.5em 0.4em;box-sizing: border-box;padding-bottom: 0.4em;background-color: white;}#sk-container-id-1 div.sk-label label {font-family: monospace;font-weight: bold;display: inline-block;line-height: 1.2em;}#sk-container-id-1 div.sk-label-container {text-align: center;}#sk-container-id-1 div.sk-container {/* jupyter's `normalize.less` sets `[hidden] { display: none; }` but bootstrap.min.css set `[hidden] { display: none !important; }` so we also need the `!important` here to be able to override the default hidden behavior on the sphinx rendered scikit-learn.org. See: https://github.com/scikit-learn/scikit-learn/issues/21755 */display: inline-block !important;position: relative;}#sk-container-id-1 div.sk-text-repr-fallback {display: none;}</style><div id=\"sk-container-id-1\" class=\"sk-top-container\"><div class=\"sk-text-repr-fallback\"><pre>PCA(n_components=2)</pre><b>In a Jupyter environment, please rerun this cell to show the HTML representation or trust the notebook. <br />On GitHub, the HTML representation is unable to render, please try loading this page with nbviewer.org.</b></div><div class=\"sk-container\" hidden><div class=\"sk-item\"><div class=\"sk-estimator sk-toggleable\"><input class=\"sk-toggleable__control sk-hidden--visually\" id=\"sk-estimator-id-1\" type=\"checkbox\" checked><label for=\"sk-estimator-id-1\" class=\"sk-toggleable__label sk-toggleable__label-arrow\">PCA</label><div class=\"sk-toggleable__content\"><pre>PCA(n_components=2)</pre></div></div></div></div></div>"
      ],
      "text/plain": [
       "PCA(n_components=2)"
      ]
     },
     "execution_count": null,
     "metadata": {},
     "output_type": "execute_result"
    }
   ],
   "source": [
    "pca.fit(A)"
   ]
  },
  {
   "cell_type": "code",
   "execution_count": null,
   "id": "85cadeb2",
   "metadata": {},
   "outputs": [
    {
     "name": "stdout",
     "output_type": "stream",
     "text": [
      "[[ 0.70710678  0.70710678]\n",
      " [-0.70710678  0.70710678]]\n"
     ]
    }
   ],
   "source": [
    "print(pca.components_)"
   ]
  },
  {
   "cell_type": "code",
   "execution_count": null,
   "id": "ccae7010",
   "metadata": {},
   "outputs": [
    {
     "name": "stdout",
     "output_type": "stream",
     "text": [
      "[8. 0.]\n"
     ]
    }
   ],
   "source": [
    "print(pca.explained_variance_)"
   ]
  },
  {
   "cell_type": "code",
   "execution_count": null,
   "id": "0bb289f1",
   "metadata": {},
   "outputs": [
    {
     "name": "stdout",
     "output_type": "stream",
     "text": [
      "[[-2.82842712e+00 -2.22044605e-16]\n",
      " [ 0.00000000e+00  0.00000000e+00]\n",
      " [ 2.82842712e+00  2.22044605e-16]]\n"
     ]
    }
   ],
   "source": [
    "B = pca.transform(A)\n",
    "print(B)"
   ]
  },
  {
   "cell_type": "markdown",
   "id": "1cc3bb4b",
   "metadata": {},
   "source": [
    "## Linear Regression"
   ]
  },
  {
   "cell_type": "code",
   "execution_count": null,
   "id": "6091cb84",
   "metadata": {},
   "outputs": [
    {
     "name": "stdout",
     "output_type": "stream",
     "text": [
      "[[0.05 0.12]\n",
      " [0.18 0.22]\n",
      " [0.31 0.35]\n",
      " [0.42 0.38]\n",
      " [0.5  0.49]]\n"
     ]
    }
   ],
   "source": [
    "data = array([\n",
    "    [0.05, 0.12],\n",
    "    [0.18, 0.22],\n",
    "    [0.31, 0.35],\n",
    "    [0.42, 0.38],\n",
    "    [0.5, 0.49]])\n",
    "print(data)"
   ]
  },
  {
   "cell_type": "code",
   "execution_count": null,
   "id": "41e07a61",
   "metadata": {},
   "outputs": [],
   "source": [
    "X, y = data[:, 0], data[:,1]\n",
    "X = X.reshape(len(X), 1)"
   ]
  },
  {
   "cell_type": "markdown",
   "id": "3eee0329",
   "metadata": {},
   "source": [
    "### Linear Regression Dataset"
   ]
  },
  {
   "cell_type": "code",
   "execution_count": null,
   "id": "84c77a9e",
   "metadata": {},
   "outputs": [
    {
     "data": {
      "image/png": "[encoded data removed]",
      "text/plain": [
       "<Figure size 640x480 with 1 Axes>"
      ]
     },
     "metadata": {},
     "output_type": "display_data"
    }
   ],
   "source": [
    "pyplot.scatter(X, y)\n",
    "pyplot.show()"
   ]
  },
  {
   "cell_type": "markdown",
   "id": "35380db8",
   "metadata": {},
   "source": [
    "### Solve via Inverse"
   ]
  },
  {
   "cell_type": "code",
   "execution_count": null,
   "id": "1a5b8379",
   "metadata": {},
   "outputs": [
    {
     "name": "stdout",
     "output_type": "stream",
     "text": [
      "[1.00233226]\n"
     ]
    }
   ],
   "source": [
    "b = inv(X.T.dot(X)).dot(X.T).dot(y)\n",
    "print(b)"
   ]
  },
  {
   "cell_type": "code",
   "execution_count": null,
   "id": "6bd1a1e7",
   "metadata": {},
   "outputs": [],
   "source": [
    "yhat = X.dot(b)"
   ]
  },
  {
   "cell_type": "code",
   "execution_count": null,
   "id": "8a8ec845",
   "metadata": {},
   "outputs": [
    {
     "data": {
      "image/png": "[encoded data removed]",
      "text/plain": [
       "<Figure size 640x480 with 1 Axes>"
      ]
     },
     "metadata": {},
     "output_type": "display_data"
    }
   ],
   "source": [
    "pyplot.scatter(X,y)\n",
    "pyplot.plot(X, yhat, color='red')\n",
    "pyplot.show()"
   ]
  },
  {
   "cell_type": "markdown",
   "id": "fd0b37ac",
   "metadata": {},
   "source": [
    "### Solve via QR Decomposition"
   ]
  },
  {
   "cell_type": "code",
   "execution_count": null,
   "id": "2c19865e",
   "metadata": {},
   "outputs": [
    {
     "name": "stdout",
     "output_type": "stream",
     "text": [
      "[1.00233226]\n"
     ]
    }
   ],
   "source": [
    "Q, R = qr(X)\n",
    "b = inv(R).dot(Q.T).dot(y)\n",
    "print(b)"
   ]
  },
  {
   "cell_type": "code",
   "execution_count": null,
   "id": "69db9d62",
   "metadata": {},
   "outputs": [],
   "source": [
    "yhat = X.dot(b)"
   ]
  },
  {
   "cell_type": "code",
   "execution_count": null,
   "id": "113488a5",
   "metadata": {},
   "outputs": [
    {
     "data": {
      "image/png": "[encoded data removed]",
      "text/plain": [
       "<Figure size 640x480 with 1 Axes>"
      ]
     },
     "metadata": {},
     "output_type": "display_data"
    }
   ],
   "source": [
    "pyplot.scatter(X, y)\n",
    "pyplot.plot(X, yhat, color='red')\n",
    "pyplot.show()"
   ]
  },
  {
   "cell_type": "markdown",
   "id": "846f62c9",
   "metadata": {},
   "source": [
    "### Solve via SVD and Pseudoinverse"
   ]
  },
  {
   "cell_type": "code",
   "execution_count": null,
   "id": "1378ffc2",
   "metadata": {},
   "outputs": [
    {
     "name": "stdout",
     "output_type": "stream",
     "text": [
      "[1.00233226]\n"
     ]
    }
   ],
   "source": [
    "b = pinv(X).dot(y)\n",
    "print(b)"
   ]
  },
  {
   "cell_type": "code",
   "execution_count": null,
   "id": "542375cd",
   "metadata": {},
   "outputs": [],
   "source": [
    "yhat = X.dot(b)"
   ]
  },
  {
   "cell_type": "code",
   "execution_count": null,
   "id": "13f4425e",
   "metadata": {},
   "outputs": [
    {
     "data": {
      "image/png": "[encoded data removed]",
      "text/plain": [
       "<Figure size 640x480 with 1 Axes>"
      ]
     },
     "metadata": {},
     "output_type": "display_data"
    }
   ],
   "source": [
    "pyplot.scatter(X, y)\n",
    "pyplot.plot(X, yhat, color='red')\n",
    "pyplot.show()"
   ]
  },
  {
   "cell_type": "markdown",
   "id": "32b4fba9",
   "metadata": {},
   "source": [
    "### Solve via Convenience Function"
   ]
  },
  {
   "cell_type": "code",
   "execution_count": null,
   "id": "afdf4847",
   "metadata": {},
   "outputs": [
    {
     "name": "stdout",
     "output_type": "stream",
     "text": [
      "[1.00233226]\n"
     ]
    },
    {
     "name": "stderr",
     "output_type": "stream",
     "text": [
      "/tmp/ipykernel_21840/4284049170.py:1: FutureWarning: `rcond` parameter will change to the default of machine precision times ``max(M, N)`` where M and N are the input matrix dimensions.\n",
      "To use the future default and silence this warning we advise to pass `rcond=None`, to keep using the old, explicitly pass `rcond=-1`.\n",
      "  b, residuals, rank, s = lstsq(X, y)\n"
     ]
    }
   ],
   "source": [
    "b, residuals, rank, s = lstsq(X, y)\n",
    "print(b)"
   ]
  },
  {
   "cell_type": "code",
   "execution_count": null,
   "id": "a46010ea",
   "metadata": {},
   "outputs": [],
   "source": [
    "yhat = X.dot(b)"
   ]
  },
  {
   "cell_type": "code",
   "execution_count": null,
   "id": "c415aff7",
   "metadata": {},
   "outputs": [
    {
     "data": {
      "image/png": "[encoded data removed]",
      "text/plain": [
       "<Figure size 640x480 with 1 Axes>"
      ]
     },
     "metadata": {},
     "output_type": "display_data"
    }
   ],
   "source": [
    "pyplot.scatter(X, y)\n",
    "pyplot.plot(X, yhat, color='red')\n",
    "pyplot.show()"
   ]
  },
  {
   "cell_type": "code",
   "execution_count": null,
   "id": "c4bf4236",
   "metadata": {},
   "outputs": [],
   "source": []
  }
 ],
 "metadata": {
  "kernelspec": {
   "display_name": "Python 3 (ipykernel)",
   "language": "python",
   "name": "python3"
  }
 },
 "nbformat": 4,
 "nbformat_minor": 5
}
