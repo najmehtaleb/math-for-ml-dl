{
 "cells": [
  {
   "cell_type": "markdown",
   "id": "e07f8f4c",
   "metadata": {},
   "source": [
    "# Math References"
   ]
  },
  {
   "cell_type": "markdown",
   "id": "18e8e420",
   "metadata": {},
   "source": [
    "Khan academy"
   ]
  },
  {
   "cell_type": "code",
   "execution_count": null,
   "id": "d08f682c",
   "metadata": {},
   "outputs": [],
   "source": []
  }
 ],
 "metadata": {
  "kernelspec": {
   "display_name": "Python 3 (ipykernel)",
   "language": "python",
   "name": "python3"
  }
 },
 "nbformat": 4,
 "nbformat_minor": 5
}
